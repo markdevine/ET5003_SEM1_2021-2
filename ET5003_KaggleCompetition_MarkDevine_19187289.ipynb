{
  "nbformat": 4,
  "nbformat_minor": 0,
  "metadata": {
    "colab": {
      "name": "ET5003_KaggleCompetition_MarkDevine_19187289.ipynb",
      "provenance": [],
      "collapsed_sections": [],
      "include_colab_link": true
    },
    "kernelspec": {
      "name": "python3",
      "display_name": "Python 3"
    },
    "language_info": {
      "name": "python"
    }
  },
  "cells": [
    {
      "cell_type": "markdown",
      "metadata": {
        "id": "view-in-github",
        "colab_type": "text"
      },
      "source": [
        "<a href=\"https://colab.research.google.com/github/markdevine/ET5003_SEM1_2021-2/blob/main/ET5003_KaggleCompetition_MarkDevine_19187289.ipynb\" target=\"_parent\"><img src=\"https://colab.research.google.com/assets/colab-badge.svg\" alt=\"Open In Colab\"/></a>"
      ]
    },
    {
      "cell_type": "markdown",
      "metadata": {
        "id": "930vlW5BrOtq"
      },
      "source": [
        "<div>\n",
        "<img src=\"https://drive.google.com/uc?export=view&id=1vK33e_EqaHgBHcbRV_m38hx6IkG0blK_\" width=\"350\"/>\n",
        "</div> \n",
        "\n",
        "#**Artificial Intelligence - MSc**\n",
        "##ET5003 - MACHINE LEARNING APPLICATIONS \n",
        "\n",
        "###Instructor: Enrique Naredo\n",
        "###ET5003_KaggleCompetition"
      ]
    },
    {
      "cell_type": "code",
      "metadata": {
        "id": "LqXD_IwUQuBF"
      },
      "source": [
        "#@title Current Date\n",
        "Today = '2021-10-11' #@param {type:\"date\"}\n"
      ],
      "execution_count": 9,
      "outputs": []
    },
    {
      "cell_type": "code",
      "metadata": {
        "id": "uzDKau31OjVO",
        "colab": {
          "base_uri": "https://localhost:8080/",
          "height": 130
        },
        "outputId": "150a47ab-fa63-47e3-c7f6-eb256e7eb94b"
      },
      "source": [
        "#@markdown ---\n",
        "#@markdown ### Enter your details here:\n",
        "Team_Number = \"Team 2\" #@param {type:\"string\"}\n",
        "Student_ID&Name = \"Mark Devine 19187289\" #@param {type:\"string\"}\n",
        "Student_ID&Name = \"Mark Devine 19187289\" #@param {type:\"string\"}\n",
        "Student_ID&Name = \"\" #@param {type:\"string\"}\n",
        "Student_ID&Name = \"\" #@param {type:\"string\"}\n",
        "Student_ID&Name = \"\" #@param {type:\"string\"}\n",
        "#@markdown ---"
      ],
      "execution_count": 10,
      "outputs": [
        {
          "output_type": "error",
          "ename": "SyntaxError",
          "evalue": "ignored",
          "traceback": [
            "\u001b[0;36m  File \u001b[0;32m\"<ipython-input-10-bad69b58de22>\"\u001b[0;36m, line \u001b[0;32m4\u001b[0m\n\u001b[0;31m    Student_ID&Name = \"Mark Devine 19187289\" #@param {type:\"string\"}\u001b[0m\n\u001b[0m                                                                    ^\u001b[0m\n\u001b[0;31mSyntaxError\u001b[0m\u001b[0;31m:\u001b[0m can't assign to operator\n"
          ]
        }
      ]
    },
    {
      "cell_type": "code",
      "metadata": {
        "id": "r39xGZckTpKx",
        "cellView": "form",
        "colab": {
          "base_uri": "https://localhost:8080/",
          "height": 215
        },
        "outputId": "a39b6e98-e86d-40dc-d506-8bb0fd7f645b"
      },
      "source": [
        "#@title Notebook information\n",
        "Notebook_type = 'Etivity' #@param [\"Example\", \"Lab\", \"Practice\", \"Etivity\", \"Assignment\", \"Exam\"]\n",
        "Version = Draft #@param [\"Draft\", \"Final\"] {type:\"raw\"}\n",
        "Submission = False #@param {type:\"boolean\"}"
      ],
      "execution_count": 8,
      "outputs": [
        {
          "output_type": "error",
          "ename": "NameError",
          "evalue": "ignored",
          "traceback": [
            "\u001b[0;31m---------------------------------------------------------------------------\u001b[0m",
            "\u001b[0;31mNameError\u001b[0m                                 Traceback (most recent call last)",
            "\u001b[0;32m<ipython-input-8-90c44180f39e>\u001b[0m in \u001b[0;36m<module>\u001b[0;34m()\u001b[0m\n\u001b[1;32m      1\u001b[0m \u001b[0;31m#@title Notebook information\u001b[0m\u001b[0;34m\u001b[0m\u001b[0;34m\u001b[0m\u001b[0;34m\u001b[0m\u001b[0m\n\u001b[1;32m      2\u001b[0m \u001b[0mNotebook_type\u001b[0m \u001b[0;34m=\u001b[0m \u001b[0;34m'Etivity'\u001b[0m \u001b[0;31m#@param [\"Example\", \"Lab\", \"Practice\", \"Etivity\", \"Assignment\", \"Exam\"]\u001b[0m\u001b[0;34m\u001b[0m\u001b[0;34m\u001b[0m\u001b[0m\n\u001b[0;32m----> 3\u001b[0;31m \u001b[0mVersion\u001b[0m \u001b[0;34m=\u001b[0m \u001b[0mDraft\u001b[0m \u001b[0;31m#@param [\"Draft\", \"Final\"] {type:\"raw\"}\u001b[0m\u001b[0;34m\u001b[0m\u001b[0;34m\u001b[0m\u001b[0m\n\u001b[0m\u001b[1;32m      4\u001b[0m \u001b[0mSubmission\u001b[0m \u001b[0;34m=\u001b[0m \u001b[0;32mFalse\u001b[0m \u001b[0;31m#@param {type:\"boolean\"}\u001b[0m\u001b[0;34m\u001b[0m\u001b[0;34m\u001b[0m\u001b[0m\n",
            "\u001b[0;31mNameError\u001b[0m: name 'Draft' is not defined"
          ]
        }
      ]
    },
    {
      "cell_type": "markdown",
      "metadata": {
        "id": "_A0Z6S-r6DpA"
      },
      "source": [
        "# INTRODUCTION"
      ]
    },
    {
      "cell_type": "markdown",
      "metadata": {
        "id": "d2vlkUAJ7Pz7"
      },
      "source": [
        "The approach is to conduct exploratory data analysis, data cleaning and preperation, before applying the natural language processing techniques presented in the module for the purposes of house price prediction.\n",
        "\n",
        "Then apply Bayesian Neural Networks to the same set of data again for the purpose of house price prediction.\n",
        "\n",
        "Compare the models results for accuracy levels."
      ]
    },
    {
      "cell_type": "markdown",
      "metadata": {
        "id": "aajlS0WCJ8pm"
      },
      "source": [
        "***The goal is to use advanced Machine Learning methods to predict House price.***"
      ]
    },
    {
      "cell_type": "markdown",
      "metadata": {
        "id": "Wg7VCbX77eAA"
      },
      "source": [
        "## Imports"
      ]
    },
    {
      "cell_type": "code",
      "metadata": {
        "id": "iFFLThrpwibd"
      },
      "source": [
        "# Suppressing Warnings:\n",
        "import warnings\n",
        "warnings.filterwarnings(\"ignore\")"
      ],
      "execution_count": 11,
      "outputs": []
    },
    {
      "cell_type": "code",
      "metadata": {
        "colab": {
          "base_uri": "https://localhost:8080/",
          "height": 17
        },
        "id": "mHcyQLxFpG-c",
        "outputId": "fdcbbdd9-19b8-45a6-989c-0498fab9ab3f"
      },
      "source": [
        "# expand the display of the notebook when run\n",
        "from IPython.core.display import display, HTML\n",
        "display(HTML(\"<style>.container { width:90% !important; }</style>\"))"
      ],
      "execution_count": 12,
      "outputs": [
        {
          "output_type": "display_data",
          "data": {
            "text/html": [
              "<style>.container { width:90% !important; }</style>"
            ],
            "text/plain": [
              "<IPython.core.display.HTML object>"
            ]
          },
          "metadata": {}
        }
      ]
    },
    {
      "cell_type": "code",
      "metadata": {
        "id": "k96-GLUGE2ux"
      },
      "source": [
        "# standard libraries\n",
        "import pandas as pd\n",
        "import numpy as np\n",
        "import matplotlib.pyplot as plt\n",
        "import seaborn as sns\n",
        "%matplotlib inline"
      ],
      "execution_count": 13,
      "outputs": []
    },
    {
      "cell_type": "code",
      "metadata": {
        "id": "sYPJU_Y6O6Dq"
      },
      "source": [
        "# to plot\n",
        "import matplotlib.colors\n",
        "from mpl_toolkits.mplot3d import Axes3D\n",
        "\n",
        "# to generate classification, regression and clustering datasets\n",
        "import sklearn.datasets as dt\n",
        "\n",
        "# to create data frames\n",
        "from pandas import DataFrame\n",
        "\n",
        "# to generate data from an existing dataset\n",
        "from sklearn.neighbors import KernelDensity\n",
        "from sklearn.model_selection import GridSearchCV"
      ],
      "execution_count": 14,
      "outputs": []
    },
    {
      "cell_type": "code",
      "metadata": {
        "id": "mxMYIOx1FONV"
      },
      "source": [
        "# Scikit-learn is an open source machine learning library \n",
        "# that supports supervised and unsupervised learning\n",
        "# https://scikit-learn.org/stable/\n",
        "from sklearn.model_selection import train_test_split\n",
        "from sklearn.feature_extraction.text import CountVectorizer\n",
        "from sklearn.naive_bayes import MultinomialNB\n",
        "from sklearn.metrics import accuracy_score, confusion_matrix"
      ],
      "execution_count": 15,
      "outputs": []
    },
    {
      "cell_type": "code",
      "metadata": {
        "id": "YLlFHWx4j7W6"
      },
      "source": [
        "# Regular expression operations\n",
        "#https://docs.python.org/3/library/re.html\n",
        "import re \n",
        "\n",
        "# Natural Language Toolkit\n",
        "# https://www.nltk.org/install.html\n",
        "import nltk\n",
        "\n",
        "# Stemming maps different forms of the same word to a common “stem” \n",
        "# https://pypi.org/project/snowballstemmer/\n",
        "from nltk.stem import SnowballStemmer\n",
        "\n",
        "# https://www.nltk.org/book/ch02.html\n",
        "from nltk.corpus import stopwords\n",
        "\n",
        "# https://scikit-learn.org/stable/modules/generated/sklearn.preprocessing.StandardScaler.html\n",
        "from sklearn.preprocessing import StandardScaler"
      ],
      "execution_count": 16,
      "outputs": []
    },
    {
      "cell_type": "code",
      "metadata": {
        "colab": {
          "base_uri": "https://localhost:8080/"
        },
        "id": "5cfDHD9BXh0s",
        "outputId": "0f64d812-da14-4db8-a1eb-69182aa83f74"
      },
      "source": [
        "!pip install gpy"
      ],
      "execution_count": 17,
      "outputs": [
        {
          "output_type": "stream",
          "name": "stdout",
          "text": [
            "Requirement already satisfied: gpy in /usr/local/lib/python3.7/dist-packages (1.10.0)\n",
            "Requirement already satisfied: cython>=0.29 in /usr/local/lib/python3.7/dist-packages (from gpy) (0.29.24)\n",
            "Requirement already satisfied: numpy>=1.7 in /usr/local/lib/python3.7/dist-packages (from gpy) (1.19.5)\n",
            "Requirement already satisfied: paramz>=0.9.0 in /usr/local/lib/python3.7/dist-packages (from gpy) (0.9.5)\n",
            "Requirement already satisfied: scipy>=1.3.0 in /usr/local/lib/python3.7/dist-packages (from gpy) (1.4.1)\n",
            "Requirement already satisfied: six in /usr/local/lib/python3.7/dist-packages (from gpy) (1.15.0)\n",
            "Requirement already satisfied: decorator>=4.0.10 in /usr/local/lib/python3.7/dist-packages (from paramz>=0.9.0->gpy) (4.4.2)\n"
          ]
        }
      ]
    },
    {
      "cell_type": "code",
      "metadata": {
        "id": "SwGh2bagw4kg"
      },
      "source": [
        "import GPy as GPy\n",
        "import numpy as np\n",
        "import pylab as pb\n",
        "import pymc3 as pm\n",
        "import arviz as az"
      ],
      "execution_count": 18,
      "outputs": []
    },
    {
      "cell_type": "code",
      "metadata": {
        "id": "6MUJdlxSPSMM"
      },
      "source": [
        "# Define the seed so that results can be reproduced\n",
        "seed = 11\n",
        "rand_state = 11\n",
        "\n",
        "# Define the color maps for plots\n",
        "color_map = plt.cm.get_cmap('RdYlBu')\n",
        "color_map_discrete = matplotlib.colors.LinearSegmentedColormap.from_list(\"\", [\"red\",\"cyan\",\"magenta\",\"blue\"])"
      ],
      "execution_count": 19,
      "outputs": []
    },
    {
      "cell_type": "code",
      "metadata": {
        "id": "_vYC_JMNg2xD"
      },
      "source": [
        "# display complete contents and information of a dataframe without any kind of truncation (https://thispointer.com/python-pandas-how-to-display-full-dataframe-i-e-print-all-rows-columns-without-truncation/)\n",
        "pd.set_option('display.max_rows', None)\n",
        "pd.set_option('display.max_columns', None)\n",
        "pd.set_option('display.width', None)\n",
        "pd.set_option('display.max_colwidth', -1)"
      ],
      "execution_count": 20,
      "outputs": []
    },
    {
      "cell_type": "markdown",
      "metadata": {
        "id": "WL91ShB19RPw"
      },
      "source": [
        "# DATASET"
      ]
    },
    {
      "cell_type": "markdown",
      "metadata": {
        "id": "ESg5DGKWJSOf"
      },
      "source": [
        "Extract from this [paper](https://ieeexplore.ieee.org/document/9300074):\n",
        "\n",
        "* House prices are a significant impression of the economy, and its value ranges are of great concerns for the clients and property dealers. \n",
        "\n",
        "* Housing price escalate every year that eventually reinforced the need of strategy or technique that could predict house prices in future. \n",
        "\n",
        "* There are certain factors that influence house prices including physical conditions, locations, number of bedrooms and others.\n"
      ]
    },
    {
      "cell_type": "markdown",
      "metadata": {
        "id": "a8Y2pf50FlYL"
      },
      "source": [
        "1. [Download the dataset](https://github.com/UL-CS6134/CS6134_SEM1_2021-2/tree/main/Week-5). \n",
        "\n",
        "2. Upload the dataset into your folder.\n",
        "\n"
      ]
    },
    {
      "cell_type": "markdown",
      "metadata": {
        "id": "FMkdCQEmKTof"
      },
      "source": [
        "The challenge is to predict the final price of each house."
      ]
    },
    {
      "cell_type": "markdown",
      "metadata": {
        "id": "9RkL_-LSjNKB"
      },
      "source": [
        "### Loading the housing price dataset"
      ]
    },
    {
      "cell_type": "code",
      "metadata": {
        "colab": {
          "base_uri": "https://localhost:8080/"
        },
        "id": "zmuMu_GNjCwF",
        "outputId": "9b82ede5-55a4-49ad-ae29-ea6ff222f589"
      },
      "source": [
        "from google.colab import drive\n",
        "drive.mount('/content/drive')"
      ],
      "execution_count": 21,
      "outputs": [
        {
          "output_type": "stream",
          "name": "stdout",
          "text": [
            "Drive already mounted at /content/drive; to attempt to forcibly remount, call drive.mount(\"/content/drive\", force_remount=True).\n"
          ]
        }
      ]
    },
    {
      "cell_type": "code",
      "metadata": {
        "colab": {
          "base_uri": "https://localhost:8080/"
        },
        "id": "veaxUTKQjZsw",
        "outputId": "7ec33d4e-ec79-4e9a-be09-4ad9e48986e0"
      },
      "source": [
        "# Path, copy the path from your Drive\n",
        "path = '/content/drive/MyDrive/Colab Notebooks/Data/Kaggle/'\n",
        "\n",
        "# Housing Price Data\n",
        "train_data = path + 'HousePrice_Train.csv'\n",
        "test_data = path + 'HousePrice_Test.csv'\n",
        "\n",
        "# train data\n",
        "df_train = pd.read_csv(train_data)\n",
        "# X_train_original = df_train.drop(\"label\",axis=1).values\n",
        "# y_train = df_train.label.values\n",
        "print(df_train.shape)\n",
        "\n",
        "# test data\n",
        "df_test = pd.read_csv(test_data)\n",
        "# X_test_original = df_test.drop(\"label\",axis=1).values\n",
        "# y_test = df_test.label.values\n",
        "print(df_test.shape)"
      ],
      "execution_count": 22,
      "outputs": [
        {
          "output_type": "stream",
          "name": "stdout",
          "text": [
            "(1638, 14)\n",
            "(702, 13)\n"
          ]
        }
      ]
    },
    {
      "cell_type": "markdown",
      "metadata": {
        "id": "2PMoPLlUJ1Ly"
      },
      "source": [
        "## Training & Test Data"
      ]
    },
    {
      "cell_type": "code",
      "metadata": {
        "id": "loLTHklwKGnV"
      },
      "source": [
        "# split data into training and test\n",
        "from sklearn.model_selection import train_test_split\n",
        "\n",
        "# training: 70% (0.7), test: 30% (0.3) \n",
        "# you could try any other combination \n",
        "# but consider 50% of training as the low boundary\n",
        "# X_train, X_test, y_train, y_test = train_test_split(X, y, test_size = 0.3)"
      ],
      "execution_count": 23,
      "outputs": []
    },
    {
      "cell_type": "markdown",
      "metadata": {
        "id": "ztBkSZluye87"
      },
      "source": [
        "### Exploratory Data Analysis and dataset preperation"
      ]
    },
    {
      "cell_type": "markdown",
      "metadata": {
        "id": "kN5bawzQaG0-"
      },
      "source": [
        "### Exploratory Data Analysis and dataset preperation\n",
        "\n",
        "1.   Training dataset\n",
        "2.   Test dataset\n",
        "\n"
      ]
    },
    {
      "cell_type": "code",
      "metadata": {
        "id": "6XUFUPABMHfF"
      },
      "source": [
        "# show the first few data frame rows \n",
        "df_train.head(3)"
      ],
      "execution_count": null,
      "outputs": []
    },
    {
      "cell_type": "code",
      "metadata": {
        "id": "5rq_p-D4yLBe"
      },
      "source": [
        "# Generate descriptive statistics\n",
        "df_train.describe()"
      ],
      "execution_count": null,
      "outputs": []
    },
    {
      "cell_type": "code",
      "metadata": {
        "id": "bw2_yypxMfsi"
      },
      "source": [
        "# show first data frame rows \n",
        "df_test.head(3)"
      ],
      "execution_count": null,
      "outputs": []
    },
    {
      "cell_type": "code",
      "metadata": {
        "id": "FXo0x2u7T7-1"
      },
      "source": [
        "# Generate descriptive statistics\n",
        "df_test.describe()"
      ],
      "execution_count": null,
      "outputs": []
    },
    {
      "cell_type": "code",
      "metadata": {
        "colab": {
          "base_uri": "https://localhost:8080/"
        },
        "id": "CGfac0nWo3v6",
        "outputId": "ca14216c-868a-4815-ec80-49e85b839189"
      },
      "source": [
        "# calculate the number of unique values in each column of the dataframe\n",
        "nunique = df_train.nunique()\n",
        "print(nunique)"
      ],
      "execution_count": 29,
      "outputs": [
        {
          "output_type": "stream",
          "name": "stdout",
          "text": [
            "Index            1638\n",
            "ID               1638\n",
            "Location         142 \n",
            "Num_Bathrooms    11  \n",
            "Num_Beds         11  \n",
            "BER_class        16  \n",
            "Description      1638\n",
            "Services         31  \n",
            "Features         1118\n",
            "Latitude         1604\n",
            "Longitude        1605\n",
            "Type             10  \n",
            "Surface          666 \n",
            "Price            267 \n",
            "dtype: int64\n"
          ]
        }
      ]
    },
    {
      "cell_type": "markdown",
      "metadata": {
        "id": "tAevRfvVp3LA"
      },
      "source": [
        "There are no unique values for any of the features."
      ]
    },
    {
      "cell_type": "code",
      "metadata": {
        "colab": {
          "base_uri": "https://localhost:8080/"
        },
        "id": "TZfsAU4np9R9",
        "outputId": "940f7866-ddec-47ee-9be4-69c89cccfca7"
      },
      "source": [
        "# let's check the missing values across the attributes as a percentage (https://medium.com/dunder-data/finding-the-percentage-of-missing-values-in-a-pandas-dataframe-a04fa00f84ab)\n",
        "df_train.isna().mean().round(4) * 100"
      ],
      "execution_count": 31,
      "outputs": [
        {
          "output_type": "execute_result",
          "data": {
            "text/plain": [
              "Index            0.00 \n",
              "ID               0.00 \n",
              "Location         0.00 \n",
              "Num_Bathrooms    0.00 \n",
              "Num_Beds         0.00 \n",
              "BER_class        15.32\n",
              "Description      0.00 \n",
              "Services         64.77\n",
              "Features         0.00 \n",
              "Latitude         0.00 \n",
              "Longitude        0.00 \n",
              "Type             0.00 \n",
              "Surface          0.00 \n",
              "Price            0.00 \n",
              "dtype: float64"
            ]
          },
          "metadata": {},
          "execution_count": 31
        }
      ]
    },
    {
      "cell_type": "markdown",
      "metadata": {
        "id": "mrBFEpAOvAx_"
      },
      "source": [
        "The dataset is mostly complete so we replace the missing values in the BER_class feature with the median value. \n",
        "\n",
        "The fact that the Services feature has 65% missing values doesn't matter as I intend on combining the test features, Description, Services and Features for the NLP. It probably won't add much value but let's keep it for the instances that have it."
      ]
    },
    {
      "cell_type": "code",
      "metadata": {
        "colab": {
          "base_uri": "https://localhost:8080/"
        },
        "id": "ixCz_0JHqw4B",
        "outputId": "e1140947-d026-45e9-8add-4ab5526e1faf"
      },
      "source": [
        "# let's check the BER_class values\n",
        "print(df_train['BER_class'].sort_values().unique())"
      ],
      "execution_count": 32,
      "outputs": [
        {
          "output_type": "stream",
          "name": "stdout",
          "text": [
            "['A1' 'A2' 'A3' 'B1' 'B2' 'B3' 'C1' 'C2' 'C3' 'D1' 'D2' 'E1' 'E2' 'F' 'G'\n",
            " 'SINo666of2006exempt' nan]\n"
          ]
        }
      ]
    },
    {
      "cell_type": "code",
      "metadata": {
        "colab": {
          "base_uri": "https://localhost:8080/"
        },
        "id": "ghZc9r1CrEzM",
        "outputId": "1710384e-e221-48d2-dd29-cbf6bc246c53"
      },
      "source": [
        "# let's check the BER_class values for NaNs\n",
        "df_train.BER_class.drop_duplicates()"
      ],
      "execution_count": 33,
      "outputs": [
        {
          "output_type": "execute_result",
          "data": {
            "text/plain": [
              "0      C3                 \n",
              "1      D1                 \n",
              "2      A3                 \n",
              "3      E1                 \n",
              "7      NaN                \n",
              "10     G                  \n",
              "11     E2                 \n",
              "15     C2                 \n",
              "16     SINo666of2006exempt\n",
              "19     F                  \n",
              "24     B2                 \n",
              "27     C1                 \n",
              "36     D2                 \n",
              "63     B3                 \n",
              "146    B1                 \n",
              "184    A2                 \n",
              "800    A1                 \n",
              "Name: BER_class, dtype: object"
            ]
          },
          "metadata": {},
          "execution_count": 33
        }
      ]
    },
    {
      "cell_type": "code",
      "metadata": {
        "id": "sQCXiIZ_rVPh"
      },
      "source": [
        "# encode the ordinal BER_class\n",
        "# create a mapper\n",
        "\n",
        "scale_mapper = {\n",
        "    'A1': 1, \n",
        "    'A2': 2, \n",
        "    'A3': 3, \n",
        "    'B1': 4, \n",
        "    'B2': 5, \n",
        "    'B3': 6, \n",
        "    'C1': 7, \n",
        "    'C2': 8, \n",
        "    'C3': 9, \n",
        "    'D1': 10, \n",
        "    'D2': 11, \n",
        "    'E1': 12, \n",
        "    'E2': 13, \n",
        "    'F': 14, \n",
        "    'G': 15,\n",
        "    'SINo666of2006exempt': 16\n",
        "}\n",
        "\n",
        "df_train['BER_class'] = df_train['BER_class'].replace(scale_mapper)\n",
        "df_test['BER_class'] = df_test['BER_class'].replace(scale_mapper)\n",
        "df_train.head(15)"
      ],
      "execution_count": null,
      "outputs": []
    },
    {
      "cell_type": "code",
      "metadata": {
        "id": "M36WvzJ5uZoO"
      },
      "source": [
        "# replace the nans with the median value of BER_class\n",
        "df_train['BER_class'].fillna(df_train['BER_class'].median(), inplace=True)"
      ],
      "execution_count": 35,
      "outputs": []
    },
    {
      "cell_type": "code",
      "metadata": {
        "id": "UaCMdZ2-u1Ag"
      },
      "source": [
        "# let's double check the BER_class values for NaNs\n",
        "df_train.BER_class.drop_duplicates()"
      ],
      "execution_count": null,
      "outputs": []
    },
    {
      "cell_type": "code",
      "metadata": {
        "colab": {
          "base_uri": "https://localhost:8080/"
        },
        "id": "fagcx-iQbiLj",
        "outputId": "d4a6cc57-7fb5-4be5-adc9-541f6200078a"
      },
      "source": [
        "# let's check the property_type values\n",
        "print (df_train['Type'].sort_values().unique())"
      ],
      "execution_count": 37,
      "outputs": [
        {
          "output_type": "stream",
          "name": "stdout",
          "text": [
            "['apartment' 'bungalow' 'detached' 'duplex' 'end-of-terrace'\n",
            " 'semi-detached' 'site' 'studio' 'terraced' 'townhouse']\n"
          ]
        }
      ]
    },
    {
      "cell_type": "markdown",
      "metadata": {
        "id": "8wHBG58jbqxX"
      },
      "source": [
        "No Nans with the Type feature so no need to do anything."
      ]
    },
    {
      "cell_type": "code",
      "metadata": {
        "colab": {
          "base_uri": "https://localhost:8080/",
          "height": 539
        },
        "id": "NeLoAm6ncQmB",
        "outputId": "04fd889e-a513-46c7-f4d8-69869afd7444"
      },
      "source": [
        "# encode the ordinal Type \n",
        "# create a mapper\n",
        "\n",
        "scale_mapper = {\n",
        "    'apartment': 1, \n",
        "    'bungalow': 2, \n",
        "    'detached': 3, \n",
        "    'duplex': 4, \n",
        "    'end-of-terrace': 5, \n",
        "    'semi-detached': 6, \n",
        "    'site': 7, \n",
        "    'studio': 8, \n",
        "    'terraced': 9, \n",
        "    'townhouse': 10\n",
        "}\n",
        "\n",
        "df_train['Type'] = df_train['Type'].replace(scale_mapper)\n",
        "df_test['Type'] = df_test['Type'].replace(scale_mapper)\n",
        "df_train.head(1)"
      ],
      "execution_count": 38,
      "outputs": [
        {
          "output_type": "execute_result",
          "data": {
            "text/html": [
              "<div>\n",
              "<style scoped>\n",
              "    .dataframe tbody tr th:only-of-type {\n",
              "        vertical-align: middle;\n",
              "    }\n",
              "\n",
              "    .dataframe tbody tr th {\n",
              "        vertical-align: top;\n",
              "    }\n",
              "\n",
              "    .dataframe thead th {\n",
              "        text-align: right;\n",
              "    }\n",
              "</style>\n",
              "<table border=\"1\" class=\"dataframe\">\n",
              "  <thead>\n",
              "    <tr style=\"text-align: right;\">\n",
              "      <th></th>\n",
              "      <th>Index</th>\n",
              "      <th>ID</th>\n",
              "      <th>Location</th>\n",
              "      <th>Num_Bathrooms</th>\n",
              "      <th>Num_Beds</th>\n",
              "      <th>BER_class</th>\n",
              "      <th>Description</th>\n",
              "      <th>Services</th>\n",
              "      <th>Features</th>\n",
              "      <th>Latitude</th>\n",
              "      <th>Longitude</th>\n",
              "      <th>Type</th>\n",
              "      <th>Surface</th>\n",
              "      <th>Price</th>\n",
              "    </tr>\n",
              "  </thead>\n",
              "  <tbody>\n",
              "    <tr>\n",
              "      <th>0</th>\n",
              "      <td>1</td>\n",
              "      <td>12409116</td>\n",
              "      <td>Ongar</td>\n",
              "      <td>2</td>\n",
              "      <td>2</td>\n",
              "      <td>9.0</td>\n",
              "      <td>DNG are delighted to present to the market no. 5 Chipping Row. This two bedroom apartment comes to the market in excellent condition throughout. Viewers will be sure to see the meticulous care and attention the home owner has for this property. \\n\\r\\nThis well-presented apartment comprises of an open plan living and dining room, kitchen, two spacious double bedrooms the master benefitting from the a large en-suite and an extensively tiled bathroom. This property benefits from own door access, designated car parking and a quiet and private location.\\n\\r\\nChipping Row is well serviced by excellent public transport links to Dublin City centre. Dublin Airport, N3 / M3 and M50 are all within an easy reach. Local primary and secondary schools, Blanchardstown Shopping Centre are all within driving distance. Ongar village and all it has to offer including supermarket, restaurants, shops and pharmacy€TM is only a short walk away.\\n\\r\\nViewing comes highly recommended.\\n\\r\\nFeatures:\\r\\nGround floor two bedroom apartment\\r\\n67 sqm / 721 sqft\\r\\nBuilt c. 2005\\r\\nDouble glazed windows throughout\\r\\nElectric heating\\r\\nOwn door access\\r\\nDesignated and visitor car parking \\r\\nManagement fee €\" approx. €760\\r\\nManagement Company €\" CORE\\n\\n\\r\\nAccommodation\\r\\nLiving/dining room 5.2m x 3.3m\\r\\nLaminate flooring, feature fireplace, large window to the front of the property.\\r\\nKitchen 3.4m x 1\\r\\nLaminate flooring, wall and floor fitted kitchen units, plumbed for washing machine. \\r\\nBedroom 1 5.1m x 2.2m\\r\\nLarge double bedroom, fitted wardrobes, ample storage space, en-suite off.\\r\\nEn-suite 2.5m x 1.6m\\r\\nExtensively tiled, shower, whb, wc.\\r\\nBedroom 2 3.7m x 2.7m\\r\\nLarge double bedroom, fitted wardrobes, ample storage space.\\r\\nBathroom 2.5m x 1.7m\\r\\nExtensively tiled, bath with over-head shower, whb, wc.</td>\n",
              "      <td>NaN</td>\n",
              "      <td>None</td>\n",
              "      <td>53.396659</td>\n",
              "      <td>-6.438791</td>\n",
              "      <td>1</td>\n",
              "      <td>67.0</td>\n",
              "      <td>195000</td>\n",
              "    </tr>\n",
              "  </tbody>\n",
              "</table>\n",
              "</div>"
            ],
            "text/plain": [
              "   Index        ID Location  Num_Bathrooms  Num_Beds  BER_class  \\\n",
              "0  1      12409116  Ongar    2              2         9.0         \n",
              "\n",
              "                                                                                                                                                                                                                                                                                                                                                                                                                                                                                                                                                                                                                                                                                                                                                                                                                                                                                                                                                                                                                                                                                                                                                                                                                                                                                                                                                                                                                                                                                                                                                                                                                                                                                                                                                                                                                                                                                            Description  \\\n",
              "0  DNG are delighted to present to the market no. 5 Chipping Row. This two bedroom apartment comes to the market in excellent condition throughout. Viewers will be sure to see the meticulous care and attention the home owner has for this property. \\n\\r\\nThis well-presented apartment comprises of an open plan living and dining room, kitchen, two spacious double bedrooms the master benefitting from the a large en-suite and an extensively tiled bathroom. This property benefits from own door access, designated car parking and a quiet and private location.\\n\\r\\nChipping Row is well serviced by excellent public transport links to Dublin City centre. Dublin Airport, N3 / M3 and M50 are all within an easy reach. Local primary and secondary schools, Blanchardstown Shopping Centre are all within driving distance. Ongar village and all it has to offer including supermarket, restaurants, shops and pharmacy€TM is only a short walk away.\\n\\r\\nViewing comes highly recommended.\\n\\r\\nFeatures:\\r\\nGround floor two bedroom apartment\\r\\n67 sqm / 721 sqft\\r\\nBuilt c. 2005\\r\\nDouble glazed windows throughout\\r\\nElectric heating\\r\\nOwn door access\\r\\nDesignated and visitor car parking \\r\\nManagement fee €\" approx. €760\\r\\nManagement Company €\" CORE\\n\\n\\r\\nAccommodation\\r\\nLiving/dining room 5.2m x 3.3m\\r\\nLaminate flooring, feature fireplace, large window to the front of the property.\\r\\nKitchen 3.4m x 1\\r\\nLaminate flooring, wall and floor fitted kitchen units, plumbed for washing machine. \\r\\nBedroom 1 5.1m x 2.2m\\r\\nLarge double bedroom, fitted wardrobes, ample storage space, en-suite off.\\r\\nEn-suite 2.5m x 1.6m\\r\\nExtensively tiled, shower, whb, wc.\\r\\nBedroom 2 3.7m x 2.7m\\r\\nLarge double bedroom, fitted wardrobes, ample storage space.\\r\\nBathroom 2.5m x 1.7m\\r\\nExtensively tiled, bath with over-head shower, whb, wc.   \n",
              "\n",
              "  Services Features   Latitude  Longitude  Type  Surface   Price  \n",
              "0  NaN      None     53.396659 -6.438791   1     67.0     195000  "
            ]
          },
          "metadata": {},
          "execution_count": 38
        }
      ]
    },
    {
      "cell_type": "markdown",
      "metadata": {
        "id": "f0NMYN8Nc0lP"
      },
      "source": [
        ""
      ]
    },
    {
      "cell_type": "markdown",
      "metadata": {
        "id": "peCIU4psOPm-"
      },
      "source": [
        "This is starting to look like a much cleaner dataset that seems appriopriate for the prediction of the final price of a house.\n",
        "\n",
        "Next let's check the latitude\tand longitude attributes as they would be expected to have an impact on the price of a house (\"location, location, location\")."
      ]
    },
    {
      "cell_type": "code",
      "metadata": {
        "colab": {
          "base_uri": "https://localhost:8080/",
          "height": 763
        },
        "id": "DjB6-sbYc7Ak",
        "outputId": "f0d6726f-08e3-4132-ed38-baee1db18a3c"
      },
      "source": [
        "# plot the the latitude and longitude attributes (https://deepnote.com/@jz/House-prices-prediction-DuSZvuoNSEmb5cCKcsW4BQ)\n",
        "plt.figure(figsize=(10,10))\n",
        "sns.jointplot(x=df_train.Latitude.values, y=df_train.Longitude.values, size=10)\n",
        "plt.ylabel('Longitude', fontsize=12)\n",
        "plt.xlabel('Latitude', fontsize=12)\n",
        "plt.show()\n",
        "sns.despine"
      ],
      "execution_count": 39,
      "outputs": [
        {
          "output_type": "display_data",
          "data": {
            "text/plain": [
              "<Figure size 720x720 with 0 Axes>"
            ]
          },
          "metadata": {}
        },
        {
          "output_type": "display_data",
          "data": {
            "image/png": "[encoded data removed]",
            "text/plain": [
              "<Figure size 720x720 with 3 Axes>"
            ]
          },
          "metadata": {
            "needs_background": "light"
          }
        },
        {
          "output_type": "execute_result",
          "data": {
            "text/plain": [
              "<function seaborn.utils.despine>"
            ]
          },
          "metadata": {},
          "execution_count": 39
        }
      ]
    },
    {
      "cell_type": "markdown",
      "metadata": {
        "id": "zRoL_CFKeC0S"
      },
      "source": [
        "The houses for sale are concentrated in quite a small area however there is one outlier which we will remove, essentially the one that is less than longitude of '-2' and latitude less than '53.0'."
      ]
    },
    {
      "cell_type": "code",
      "metadata": {
        "colab": {
          "base_uri": "https://localhost:8080/"
        },
        "id": "ITrwMlBheaDi",
        "outputId": "859f149f-b085-42f4-a0b9-d8908386497b"
      },
      "source": [
        "index_train = df_train[(df_train['Longitude'] > -2.0)|(df_train['Latitude'] < 53.0)].index\n",
        "index_test = df_test[(df_test['Longitude'] > -2.0)|(df_test['Latitude'] < 53.0)].index\n",
        "df_train.drop(index_train, inplace=True)\n",
        "df_test.drop(index_test, inplace=True)\n",
        "df_train['Longitude'].describe()"
      ],
      "execution_count": 40,
      "outputs": [
        {
          "output_type": "execute_result",
          "data": {
            "text/plain": [
              "count    1637.000000\n",
              "mean    -6.257841   \n",
              "std      0.091825   \n",
              "min     -6.497000   \n",
              "25%     -6.309640   \n",
              "50%     -6.247821   \n",
              "75%     -6.194319   \n",
              "max     -6.054719   \n",
              "Name: Longitude, dtype: float64"
            ]
          },
          "metadata": {},
          "execution_count": 40
        }
      ]
    },
    {
      "cell_type": "code",
      "metadata": {
        "colab": {
          "base_uri": "https://localhost:8080/",
          "height": 763
        },
        "id": "ai27QZ2mfba5",
        "outputId": "3bea9f23-3ea7-4099-b9f3-ae8aef9a3146"
      },
      "source": [
        "# plot the the Latitude and Longitude attributes (https://deepnote.com/@jz/House-prices-prediction-DuSZvuoNSEmb5cCKcsW4BQ)\n",
        "plt.figure(figsize=(10,10))\n",
        "sns.jointplot(x=df_train.Latitude.values, y=df_train.Longitude.values, size=10)\n",
        "plt.ylabel('Longitude', fontsize=12)\n",
        "plt.xlabel('Latitude', fontsize=12)\n",
        "plt.show()\n",
        "sns.despine"
      ],
      "execution_count": 41,
      "outputs": [
        {
          "output_type": "display_data",
          "data": {
            "text/plain": [
              "<Figure size 720x720 with 0 Axes>"
            ]
          },
          "metadata": {}
        },
        {
          "output_type": "display_data",
          "data": {
            "image/png": "[encoded data removed]",
            "text/plain": [
              "<Figure size 720x720 with 3 Axes>"
            ]
          },
          "metadata": {
            "needs_background": "light"
          }
        },
        {
          "output_type": "execute_result",
          "data": {
            "text/plain": [
              "<function seaborn.utils.despine>"
            ]
          },
          "metadata": {},
          "execution_count": 41
        }
      ]
    },
    {
      "cell_type": "markdown",
      "metadata": {
        "id": "e8s0Wi3a8yjN"
      },
      "source": [
        "Natural language processing ([NLP](https://en.wikipedia.org/wiki/Natural_language_processing)) is a subfield of linguistics, computer science, and artificial intelligence.\n",
        "\n",
        "* NLP concerned with the interactions between computers and human language.\n",
        "* In particular how to program computers to process and analyze large amounts of natural language data. \n",
        "* The goal is a computer capable of \"understanding\" the contents of documents.\n",
        "* Including the contextual nuances of the language within them. \n",
        "* The technology can then accurately extract information and insights contained in the documents.\n",
        "* As well as categorize and organize the documents themselves. "
      ]
    },
    {
      "cell_type": "markdown",
      "metadata": {
        "id": "G5oRiZxo2gpN"
      },
      "source": [
        "# NATURAL LANGUAGE PROCESSING"
      ]
    },
    {
      "cell_type": "markdown",
      "metadata": {
        "id": "oValFP-z2gpN"
      },
      "source": [
        "Your comments, explanation, and references here."
      ]
    },
    {
      "cell_type": "code",
      "metadata": {
        "id": "7p63sCZeUNx3"
      },
      "source": [
        "# combine the text features, Description, Services and Features\n",
        "# https://stackoverflow.com/questions/33158417/pandas-combine-two-strings-ignore-nan-values\n",
        "df_train['Property_Description'] = df_train['Description'].fillna('') + ' ' + df_train['Services'].fillna('') + ' ' + df_train['Features'].fillna('')"
      ],
      "execution_count": null,
      "outputs": []
    },
    {
      "cell_type": "code",
      "metadata": {
        "id": "1_QruhVEzjcD"
      },
      "source": [
        "# drop the text features, Description, Services and Features\n",
        "df_train.drop(['Description', 'Services', 'Features'], axis = 1, inplace = True)"
      ],
      "execution_count": null,
      "outputs": []
    },
    {
      "cell_type": "code",
      "metadata": {
        "id": "e_WND6NP2gpN"
      },
      "source": [
        "# show the first data frame row\n",
        "df_train.head(2)"
      ],
      "execution_count": null,
      "outputs": []
    },
    {
      "cell_type": "code",
      "metadata": {
        "id": "sF15oylkN_UD"
      },
      "source": [
        "# remove anything that is not a letter from the property description\n",
        "df_train['Property_Description'] = [re.sub('[^a-zA-Z]', ' ', t) for t in df_train['Property_Description']]"
      ],
      "execution_count": null,
      "outputs": []
    },
    {
      "cell_type": "code",
      "metadata": {
        "id": "FFIp9EpzuFeM"
      },
      "source": [
        "# make everything lowercase and remove all the leading and trailing spaces from the property description\n",
        "df_train['Property_Description'] = df_train['Property_Description'].apply(lambda x: x.lower().strip())"
      ],
      "execution_count": null,
      "outputs": []
    },
    {
      "cell_type": "code",
      "metadata": {
        "id": "0iU0AtjGyeJJ"
      },
      "source": [
        "# remove duplicate spaces from the property description\n",
        "df_train['Property_Description'] = df_train['Property_Description'].replace({' +':' '},regex=True)"
      ],
      "execution_count": null,
      "outputs": []
    },
    {
      "cell_type": "code",
      "metadata": {
        "id": "4qoZHS9n4Fx5"
      },
      "source": [
        "# remove single character words from the property description\n",
        "df_train['Property_Description'] = df_train['Property_Description'].str.replace(r'\\b\\w\\b','').str.replace(r'\\s+', ' ')"
      ],
      "execution_count": null,
      "outputs": []
    },
    {
      "cell_type": "code",
      "metadata": {
        "id": "wGwIFDjk4NcQ"
      },
      "source": [
        "# remove duplicate spaces from the property description\n",
        "df_train['Property_Description'] = df_train['Property_Description'].replace({' +':' '},regex=True)"
      ],
      "execution_count": null,
      "outputs": []
    },
    {
      "cell_type": "code",
      "metadata": {
        "id": "LUIWTmVQuo8X"
      },
      "source": [
        "# import english stopwords with nltk so they can be filtered out before processing\n",
        "# https://towardsdatascience.com/how-to-clean-text-data-639375414a2f\n",
        "import nltk\n",
        "nltk.download('stopwords')\n",
        "from nltk.corpus import stopwords\n",
        "english_stopwords = stopwords.words('english')\n",
        "df_train['Property_Description'] = df_train['Property_Description'].apply(lambda x: ' '.join([word for word in x.split() if word not in (english_stopwords)]))"
      ],
      "execution_count": null,
      "outputs": []
    },
    {
      "cell_type": "code",
      "metadata": {
        "id": "KfAJeTXJf3Qa"
      },
      "source": [
        "# show the first data frame row\n",
        "df_train.head(1)"
      ],
      "execution_count": null,
      "outputs": []
    },
    {
      "cell_type": "code",
      "metadata": {
        "id": "cWqPOYPE_5rH"
      },
      "source": [
        "# create the NLP function\n",
        "from nltk.tokenize import word_tokenize  \n",
        "from nltk.stem import WordNetLemmatizer\n",
        "from nltk.stem.porter import *\n",
        "nltk.download('punkt')\n",
        "nltk.download('wordnet')\n",
        "\n",
        "def nlp_preprocess(some_text):\n",
        "  \"\"\"\n",
        "  Normalization using NLTK and spaCy\n",
        "  \"\"\"\n",
        "  # 1. Tokenization\n",
        "  NLP_token = word_tokenize(some_text)\n",
        "\n",
        "  # 2. Stemming\n",
        "  PS = PorterStemmer()\n",
        "  NLP_stem = []\n",
        "  for word in NLP_token:\n",
        "      NLP_stem.append(PS.stem(word))\n",
        "\n",
        "  # 3. Lemmatization\n",
        "  WL = WordNetLemmatizer()\n",
        "  NLP_lemma = []\n",
        "  for word in NLP_stem:\n",
        "      NLP_lemma.append(WL.lemmatize(word))\n",
        "  \n",
        "  # 4. Stopword   \n",
        "  FS = []  \n",
        "  NLP_stop = set(stopwords.words(\"english\"))\n",
        "  for w in NLP_lemma:  \n",
        "      if w not in NLP_stop:  \n",
        "        FS.append(w)\n",
        "  \n",
        "  # 5. Punctuation  \n",
        "  punctuations = \"?:!.,;\"\n",
        "  for word in FS:\n",
        "      if word in punctuations:\n",
        "          FS.remove(word)\n",
        "\n",
        "  # convert list into a string\n",
        "  # return string  \n",
        "  return \" \".join(FS)\n",
        "\n",
        "  # print comparison\n",
        "  print(\" \")\n",
        "  print(some_text)\n",
        "  print(FS)"
      ],
      "execution_count": null,
      "outputs": []
    },
    {
      "cell_type": "code",
      "metadata": {
        "id": "kjl-3sB-G5lP"
      },
      "source": [
        "# x = df_train.head(1)\n",
        "# nlp_preprocess(str(x['Property_Description']))"
      ],
      "execution_count": null,
      "outputs": []
    },
    {
      "cell_type": "code",
      "metadata": {
        "id": "NNFKMQk8LEWn"
      },
      "source": [
        "print(df_train['Property_Description'].iloc[0])\n",
        "print(nlp_preprocess(df_train['Property_Description'].iloc[0]))"
      ],
      "execution_count": null,
      "outputs": []
    },
    {
      "cell_type": "code",
      "metadata": {
        "id": "QLFwsVubJyU3"
      },
      "source": [
        "df_train['Property_Description'] = df_train['Property_Description'].apply(lambda x: nlp_preprocess(x))"
      ],
      "execution_count": null,
      "outputs": []
    },
    {
      "cell_type": "code",
      "metadata": {
        "id": "at20pi2xIFQZ"
      },
      "source": [
        "# show the first data frame row\n",
        "df_train.head(10)"
      ],
      "execution_count": null,
      "outputs": []
    },
    {
      "cell_type": "code",
      "metadata": {
        "id": "qgng-2riEl_Z"
      },
      "source": [
        "# show the first data frame row\n",
        "df_train.head(1)"
      ],
      "execution_count": null,
      "outputs": []
    },
    {
      "cell_type": "code",
      "metadata": {
        "id": "hKHrtOSPogp4"
      },
      "source": [
        "# calculate the number of unique values in each column of the dataframe\n",
        "nunique = df_train.nunique()\n",
        "print(nunique)"
      ],
      "execution_count": null,
      "outputs": []
    },
    {
      "cell_type": "markdown",
      "metadata": {
        "id": "bJFJQxAS9HZK"
      },
      "source": [
        "# PIECEWISE REGRESSION"
      ]
    },
    {
      "cell_type": "markdown",
      "metadata": {
        "id": "QkRchZtf6IV-"
      },
      "source": [
        "**Piecewise regression**, extract from [Wikipedia](https://en.wikipedia.org/wiki/Segmented_regression):\n",
        "\n",
        "Segmented regression, also known as piecewise regression or broken-stick regression, is a method in regression analysis in which the independent variable is partitioned into intervals and a separate line segment is fit to each interval. \n",
        "\n",
        "* Segmented regression analysis can also be performed on \n",
        "multivariate data by partitioning the various independent variables. \n",
        "* Segmented regression is useful when the independent variables, clustered into different groups, exhibit different relationships between the variables in these regions. \n",
        "\n",
        "* The boundaries between the segments are breakpoints.\n",
        "\n",
        "* Segmented linear regression is segmented regression whereby the relations in the intervals are obtained by linear regression. "
      ]
    },
    {
      "cell_type": "markdown",
      "metadata": {
        "id": "po84zvge2NS7"
      },
      "source": [
        "Your comments, explanation, and references here."
      ]
    },
    {
      "cell_type": "code",
      "metadata": {
        "id": "pXX7Mq2Y2NrK"
      },
      "source": [
        "# your code here"
      ],
      "execution_count": null,
      "outputs": []
    },
    {
      "cell_type": "markdown",
      "metadata": {
        "id": "_kFgkUA85_pn"
      },
      "source": [
        "# BAYESIAN NN"
      ]
    },
    {
      "cell_type": "markdown",
      "metadata": {
        "id": "ELer5PV37ftX"
      },
      "source": [
        "A [Bayesian network](https://en.wikipedia.org/wiki/Bayesian_network) (also known as a Bayes network, Bayes net, belief network, or decision network) is a probabilistic graphical model that represents a set of variables and their conditional dependencies via a directed acyclic graph (DAG). \n",
        "\n",
        "* Bayesian networks are ideal for taking an event that occurred and predicting the likelihood that any one of several possible known causes was the contributing factor. \n",
        "* For example, a Bayesian network could represent the probabilistic relationships between diseases and symptoms. \n",
        "* Given symptoms, the network can be used to compute the probabilities of the presence of various diseases."
      ]
    },
    {
      "cell_type": "markdown",
      "metadata": {
        "id": "z0kauv1L5_po"
      },
      "source": [
        "Your comments, explanation, and references here."
      ]
    },
    {
      "cell_type": "code",
      "metadata": {
        "id": "0smpwCET5_pp"
      },
      "source": [
        "# your code here"
      ],
      "execution_count": null,
      "outputs": []
    },
    {
      "cell_type": "markdown",
      "metadata": {
        "id": "f0GYCpwEM09T"
      },
      "source": [
        "# SUMMARY"
      ]
    },
    {
      "cell_type": "markdown",
      "metadata": {
        "id": "rBDzsZSJ7HZp"
      },
      "source": [
        "Your summary here."
      ]
    }
  ]
}