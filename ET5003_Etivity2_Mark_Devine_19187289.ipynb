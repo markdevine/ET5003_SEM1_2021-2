{
  "nbformat": 4,
  "nbformat_minor": 0,
  "metadata": {
    "colab": {
      "name": "ET5003_Etivity2_Mark Devine_19187289.ipynb",
      "provenance": [],
      "collapsed_sections": [],
      "include_colab_link": true
    },
    "kernelspec": {
      "name": "python3",
      "display_name": "Python 3"
    },
    "language_info": {
      "name": "python"
    }
  },
  "cells": [
    {
      "cell_type": "markdown",
      "metadata": {
        "id": "view-in-github",
        "colab_type": "text"
      },
      "source": [
        "<a href=\"https://colab.research.google.com/github/markdevine/ET5003_SEM1_2021-2/blob/main/ET5003_Etivity2_Mark_Devine_19187289.ipynb\" target=\"_parent\"><img src=\"https://colab.research.google.com/assets/colab-badge.svg\" alt=\"Open In Colab\"/></a>"
      ]
    },
    {
      "cell_type": "markdown",
      "metadata": {
        "id": "930vlW5BrOtq"
      },
      "source": [
        "<div>\n",
        "<img src=\"https://drive.google.com/uc?export=view&id=1vK33e_EqaHgBHcbRV_m38hx6IkG0blK_\" width=\"350\"/>\n",
        "</div> \n",
        "\n",
        "#**Artificial Intelligence - MSc**\n",
        "##ET5003 - MACHINE LEARNING APPLICATIONS \n",
        "\n",
        "###Instructor: Enrique Naredo\n",
        "###ET5003_Etivity-2"
      ]
    },
    {
      "cell_type": "code",
      "metadata": {
        "id": "LqXD_IwUQuBF",
        "cellView": "form"
      },
      "source": [
        "#@title Current Date\n",
        "Today = '2021-08-22' #@param {type:\"date\"}\n"
      ],
      "execution_count": 1,
      "outputs": []
    },
    {
      "cell_type": "code",
      "metadata": {
        "id": "uzDKau31OjVO"
      },
      "source": [
        "#@markdown ---\n",
        "#@markdown ### Enter your details here:\n",
        "Student_ID = \"19187289\" #@param {type:\"string\"}\n",
        "Student_full_name = \"Mark Devine\" #@param {type:\"string\"}\n",
        "#@markdown ---"
      ],
      "execution_count": 2,
      "outputs": []
    },
    {
      "cell_type": "code",
      "metadata": {
        "id": "r39xGZckTpKx",
        "cellView": "form"
      },
      "source": [
        "#@title Notebook information\n",
        "Notebook_type = 'Etivity' #@param [\"Example\", \"Lab\", \"Practice\", \"Etivity\", \"Assignment\", \"Exam\"]\n",
        "Version = 'Draft' #@param [\"Draft\", \"Final\"] {type:\"raw\"}\n",
        "Submission = False #@param {type:\"boolean\"}"
      ],
      "execution_count": 3,
      "outputs": []
    },
    {
      "cell_type": "markdown",
      "metadata": {
        "id": "_A0Z6S-r6DpA"
      },
      "source": [
        "# INTRODUCTION"
      ]
    },
    {
      "cell_type": "markdown",
      "metadata": {
        "id": "QkRchZtf6IV-"
      },
      "source": [
        "**Piecewise regression**, extract from [Wikipedia](https://en.wikipedia.org/wiki/Segmented_regression):\n",
        "\n",
        "Segmented regression, also known as piecewise regression or broken-stick regression, is a method in regression analysis in which the independent variable is partitioned into intervals and a separate line segment is fit to each interval. \n",
        "\n",
        "* Segmented regression analysis can also be performed on \n",
        "multivariate data by partitioning the various independent variables. \n",
        "* Segmented regression is useful when the independent variables, clustered into different groups, exhibit different relationships between the variables in these regions. \n",
        "\n",
        "* The boundaries between the segments are breakpoints.\n",
        "\n",
        "* Segmented linear regression is segmented regression whereby the relations in the intervals are obtained by linear regression. "
      ]
    },
    {
      "cell_type": "markdown",
      "metadata": {
        "id": "aajlS0WCJ8pm"
      },
      "source": [
        "***The goal is to use advanced Machine Learning methods to predict House price.***"
      ]
    },
    {
      "cell_type": "markdown",
      "metadata": {
        "id": "Wg7VCbX77eAA"
      },
      "source": [
        "## Imports"
      ]
    },
    {
      "cell_type": "code",
      "metadata": {
        "id": "iFFLThrpwibd"
      },
      "source": [
        "# Suppressing Warnings:\n",
        "import warnings\n",
        "warnings.filterwarnings(\"ignore\")"
      ],
      "execution_count": 4,
      "outputs": []
    },
    {
      "cell_type": "code",
      "metadata": {
        "colab": {
          "base_uri": "https://localhost:8080/",
          "height": 17
        },
        "id": "29pfVpibXv9Q",
        "outputId": "56fcf97a-77cb-4166-d81e-4348d688c51b"
      },
      "source": [
        "# expand the display of the notebook when run\n",
        "\n",
        "from IPython.core.display import display, HTML\n",
        "display(HTML(\"<style>.container { width:90% !important; }</style>\"))"
      ],
      "execution_count": 5,
      "outputs": [
        {
          "output_type": "display_data",
          "data": {
            "text/html": [
              "<style>.container { width:90% !important; }</style>"
            ],
            "text/plain": [
              "<IPython.core.display.HTML object>"
            ]
          },
          "metadata": {}
        }
      ]
    },
    {
      "cell_type": "code",
      "metadata": {
        "id": "d1770_fNrCWn"
      },
      "source": [
        "import pandas as pd\n",
        "import matplotlib.pyplot as plt\n",
        "import numpy as np\n",
        "import pymc3 as pm\n",
        "import arviz as az\n",
        "import seaborn as sns\n",
        "from sklearn.preprocessing import StandardScaler"
      ],
      "execution_count": 6,
      "outputs": []
    },
    {
      "cell_type": "code",
      "metadata": {
        "id": "sYPJU_Y6O6Dq"
      },
      "source": [
        "# to plot\n",
        "import matplotlib.colors\n",
        "from mpl_toolkits.mplot3d import Axes3D\n",
        "\n",
        "# to generate classification, regression and clustering datasets\n",
        "import sklearn.datasets as dt\n",
        "\n",
        "# to create data frames\n",
        "from pandas import DataFrame\n",
        "\n",
        "# to generate data from an existing dataset\n",
        "from sklearn.neighbors import KernelDensity\n",
        "from sklearn.model_selection import GridSearchCV"
      ],
      "execution_count": 7,
      "outputs": []
    },
    {
      "cell_type": "code",
      "metadata": {
        "id": "6MUJdlxSPSMM"
      },
      "source": [
        "# Define the seed so that results can be reproduced\n",
        "seed = 11\n",
        "rand_state = 11\n",
        "\n",
        "# Define the color maps for plots\n",
        "color_map = plt.cm.get_cmap('RdYlBu')\n",
        "color_map_discrete = matplotlib.colors.LinearSegmentedColormap.from_list(\"\", [\"red\",\"cyan\",\"magenta\",\"blue\"])"
      ],
      "execution_count": 8,
      "outputs": []
    },
    {
      "cell_type": "markdown",
      "metadata": {
        "id": "WL91ShB19RPw"
      },
      "source": [
        "# DATASET"
      ]
    },
    {
      "cell_type": "markdown",
      "metadata": {
        "id": "ESg5DGKWJSOf"
      },
      "source": [
        "Extract from this [paper](https://ieeexplore.ieee.org/document/9300074):\n",
        "\n",
        "* House prices are a significant impression of the economy, and its value ranges are of great concerns for the clients and property dealers. \n",
        "\n",
        "* Housing price escalate every year that eventually reinforced the need of strategy or technique that could predict house prices in future. \n",
        "\n",
        "* There are certain factors that influence house prices including physical conditions, locations, number of bedrooms and others.\n"
      ]
    },
    {
      "cell_type": "markdown",
      "metadata": {
        "id": "a8Y2pf50FlYL"
      },
      "source": [
        "1. [Download the dataset](https://github.com/UL-ET5003/ET5003_SEM1_2021-2/tree/main/Week-3). \n",
        "\n",
        "2. Upload the dataset into your folder.\n",
        "\n"
      ]
    },
    {
      "cell_type": "markdown",
      "metadata": {
        "id": "FMkdCQEmKTof"
      },
      "source": [
        "The challenge is to predict the final price of each house."
      ]
    },
    {
      "cell_type": "markdown",
      "metadata": {
        "id": "QQD4ZEdZWSub"
      },
      "source": [
        "### Loading the house price dataset"
      ]
    },
    {
      "cell_type": "code",
      "metadata": {
        "colab": {
          "base_uri": "https://localhost:8080/"
        },
        "id": "kvN_DanxWkrF",
        "outputId": "32514785-9581-4b89-8994-7c3af9d70e9a"
      },
      "source": [
        "from google.colab import drive\n",
        "drive.mount('/content/drive')"
      ],
      "execution_count": 9,
      "outputs": [
        {
          "output_type": "stream",
          "name": "stdout",
          "text": [
            "Mounted at /content/drive\n"
          ]
        }
      ]
    },
    {
      "cell_type": "code",
      "metadata": {
        "id": "-lIL_xf5WrCZ"
      },
      "source": [
        "# Path, copy the path from your Drive\n",
        "path = '/content/drive/MyDrive/Colab Notebooks/Data/house/'\n",
        "\n",
        "# training, test and cost dataset file names: \n",
        "filename1 = 'house_train.csv'\n",
        "train_data = path + filename1\n",
        "# test dataset: \n",
        "filename2 = 'house_test.csv'\n",
        "test_data = path + filename2\n",
        "# cost dataset: \n",
        "filename3 = 'true_price.csv'\n",
        "cost_data = path + filename3\n",
        "\n",
        "# load the comma-separated values (csv) files into dataframes\n",
        "df_train = pd.read_csv(train_data)\n",
        "df_test = pd.read_csv(test_data)\n",
        "df_cost = pd.read_csv(cost_data)\n",
        "\n",
        "\n",
        "# test data\n",
        "# df_test = pd.read_csv(test_data)\n",
        "# X_test_original = df_test.drop(\"label\",axis=1).values\n",
        "# y_test = df_test.label.values\n",
        "# print(X_test_original.shape)"
      ],
      "execution_count": 10,
      "outputs": []
    },
    {
      "cell_type": "code",
      "metadata": {
        "id": "7P8Wg6r8jUoJ"
      },
      "source": [
        "# display complete contents and information of a dataframe without any kind of truncation (https://thispointer.com/python-pandas-how-to-display-full-dataframe-i-e-print-all-rows-columns-without-truncation/)\n",
        "pd.set_option('display.max_rows', None)\n",
        "pd.set_option('display.max_columns', None)\n",
        "pd.set_option('display.width', None)\n",
        "pd.set_option('display.max_colwidth', -1)"
      ],
      "execution_count": 11,
      "outputs": []
    },
    {
      "cell_type": "code",
      "metadata": {
        "colab": {
          "base_uri": "https://localhost:8080/",
          "height": 297
        },
        "id": "F392jL4oSe5O",
        "outputId": "2cb32051-ec6a-47f7-cbb9-2f1096e3145d"
      },
      "source": [
        "# calculate statistics for the numerical and categorical attributes\n",
        "df_train.describe()"
      ],
      "execution_count": 12,
      "outputs": [
        {
          "output_type": "execute_result",
          "data": {
            "text/html": [
              "<div>\n",
              "<style scoped>\n",
              "    .dataframe tbody tr th:only-of-type {\n",
              "        vertical-align: middle;\n",
              "    }\n",
              "\n",
              "    .dataframe tbody tr th {\n",
              "        vertical-align: top;\n",
              "    }\n",
              "\n",
              "    .dataframe thead th {\n",
              "        text-align: right;\n",
              "    }\n",
              "</style>\n",
              "<table border=\"1\" class=\"dataframe\">\n",
              "  <thead>\n",
              "    <tr style=\"text-align: right;\">\n",
              "      <th></th>\n",
              "      <th>ad_id</th>\n",
              "      <th>bathrooms</th>\n",
              "      <th>beds</th>\n",
              "      <th>latitude</th>\n",
              "      <th>longitude</th>\n",
              "      <th>no_of_units</th>\n",
              "      <th>price</th>\n",
              "      <th>surface</th>\n",
              "    </tr>\n",
              "  </thead>\n",
              "  <tbody>\n",
              "    <tr>\n",
              "      <th>count</th>\n",
              "      <td>2.982000e+03</td>\n",
              "      <td>2931.000000</td>\n",
              "      <td>2931.000000</td>\n",
              "      <td>2982.000000</td>\n",
              "      <td>2982.000000</td>\n",
              "      <td>59.000000</td>\n",
              "      <td>2.892000e+03</td>\n",
              "      <td>2431.000000</td>\n",
              "    </tr>\n",
              "    <tr>\n",
              "      <th>mean</th>\n",
              "      <td>1.224065e+07</td>\n",
              "      <td>1.998635</td>\n",
              "      <td>2.979188</td>\n",
              "      <td>53.355991</td>\n",
              "      <td>-6.257175</td>\n",
              "      <td>7.440678</td>\n",
              "      <td>5.323536e+05</td>\n",
              "      <td>318.851787</td>\n",
              "    </tr>\n",
              "    <tr>\n",
              "      <th>std</th>\n",
              "      <td>5.793037e+05</td>\n",
              "      <td>1.291875</td>\n",
              "      <td>1.468408</td>\n",
              "      <td>0.086748</td>\n",
              "      <td>0.141906</td>\n",
              "      <td>8.937081</td>\n",
              "      <td>5.678148e+05</td>\n",
              "      <td>4389.423136</td>\n",
              "    </tr>\n",
              "    <tr>\n",
              "      <th>min</th>\n",
              "      <td>9.968870e+05</td>\n",
              "      <td>0.000000</td>\n",
              "      <td>0.000000</td>\n",
              "      <td>51.458439</td>\n",
              "      <td>-6.521183</td>\n",
              "      <td>0.000000</td>\n",
              "      <td>1.999500e+04</td>\n",
              "      <td>3.400000</td>\n",
              "    </tr>\n",
              "    <tr>\n",
              "      <th>25%</th>\n",
              "      <td>1.226813e+07</td>\n",
              "      <td>1.000000</td>\n",
              "      <td>2.000000</td>\n",
              "      <td>53.298929</td>\n",
              "      <td>-6.314064</td>\n",
              "      <td>2.000000</td>\n",
              "      <td>2.800000e+05</td>\n",
              "      <td>74.100000</td>\n",
              "    </tr>\n",
              "    <tr>\n",
              "      <th>50%</th>\n",
              "      <td>1.237758e+07</td>\n",
              "      <td>2.000000</td>\n",
              "      <td>3.000000</td>\n",
              "      <td>53.345497</td>\n",
              "      <td>-6.252254</td>\n",
              "      <td>3.000000</td>\n",
              "      <td>3.800000e+05</td>\n",
              "      <td>100.000000</td>\n",
              "    </tr>\n",
              "    <tr>\n",
              "      <th>75%</th>\n",
              "      <td>1.240294e+07</td>\n",
              "      <td>3.000000</td>\n",
              "      <td>4.000000</td>\n",
              "      <td>53.388845</td>\n",
              "      <td>-6.196049</td>\n",
              "      <td>8.000000</td>\n",
              "      <td>5.750000e+05</td>\n",
              "      <td>142.000000</td>\n",
              "    </tr>\n",
              "    <tr>\n",
              "      <th>max</th>\n",
              "      <td>1.242836e+07</td>\n",
              "      <td>18.000000</td>\n",
              "      <td>27.000000</td>\n",
              "      <td>53.630588</td>\n",
              "      <td>-1.744995</td>\n",
              "      <td>36.000000</td>\n",
              "      <td>9.995000e+06</td>\n",
              "      <td>182108.539008</td>\n",
              "    </tr>\n",
              "  </tbody>\n",
              "</table>\n",
              "</div>"
            ],
            "text/plain": [
              "              ad_id    bathrooms         beds     latitude    longitude  \\\n",
              "count  2.982000e+03  2931.000000  2931.000000  2982.000000  2982.000000   \n",
              "mean   1.224065e+07  1.998635     2.979188     53.355991   -6.257175      \n",
              "std    5.793037e+05  1.291875     1.468408     0.086748     0.141906      \n",
              "min    9.968870e+05  0.000000     0.000000     51.458439   -6.521183      \n",
              "25%    1.226813e+07  1.000000     2.000000     53.298929   -6.314064      \n",
              "50%    1.237758e+07  2.000000     3.000000     53.345497   -6.252254      \n",
              "75%    1.240294e+07  3.000000     4.000000     53.388845   -6.196049      \n",
              "max    1.242836e+07  18.000000    27.000000    53.630588   -1.744995      \n",
              "\n",
              "       no_of_units         price        surface  \n",
              "count  59.000000    2.892000e+03  2431.000000    \n",
              "mean   7.440678     5.323536e+05  318.851787     \n",
              "std    8.937081     5.678148e+05  4389.423136    \n",
              "min    0.000000     1.999500e+04  3.400000       \n",
              "25%    2.000000     2.800000e+05  74.100000      \n",
              "50%    3.000000     3.800000e+05  100.000000     \n",
              "75%    8.000000     5.750000e+05  142.000000     \n",
              "max    36.000000    9.995000e+06  182108.539008  "
            ]
          },
          "metadata": {},
          "execution_count": 12
        }
      ]
    },
    {
      "cell_type": "markdown",
      "metadata": {
        "id": "EY2Jv7j8S-Zn"
      },
      "source": [
        "There is a distinct possibility of significant outlier in the 'max' row, let's look into this later on.\n",
        "\n",
        "Examine the first few data rows and the last few data rows."
      ]
    },
    {
      "cell_type": "code",
      "metadata": {
        "colab": {
          "base_uri": "https://localhost:8080/",
          "height": 1000
        },
        "id": "DL0CurXZPSar",
        "outputId": "7fa3cd83-0a3e-476d-a890-5018b5dc18d5"
      },
      "source": [
        "# print the first 5 rows of the training dataframe\n",
        "df_train.head(5)"
      ],
      "execution_count": 13,
      "outputs": [
        {
          "output_type": "execute_result",
          "data": {
            "text/html": [
              "<div>\n",
              "<style scoped>\n",
              "    .dataframe tbody tr th:only-of-type {\n",
              "        vertical-align: middle;\n",
              "    }\n",
              "\n",
              "    .dataframe tbody tr th {\n",
              "        vertical-align: top;\n",
              "    }\n",
              "\n",
              "    .dataframe thead th {\n",
              "        text-align: right;\n",
              "    }\n",
              "</style>\n",
              "<table border=\"1\" class=\"dataframe\">\n",
              "  <thead>\n",
              "    <tr style=\"text-align: right;\">\n",
              "      <th></th>\n",
              "      <th>ad_id</th>\n",
              "      <th>area</th>\n",
              "      <th>bathrooms</th>\n",
              "      <th>beds</th>\n",
              "      <th>ber_classification</th>\n",
              "      <th>county</th>\n",
              "      <th>description_block</th>\n",
              "      <th>environment</th>\n",
              "      <th>facility</th>\n",
              "      <th>features</th>\n",
              "      <th>latitude</th>\n",
              "      <th>longitude</th>\n",
              "      <th>no_of_units</th>\n",
              "      <th>price</th>\n",
              "      <th>property_category</th>\n",
              "      <th>property_type</th>\n",
              "      <th>surface</th>\n",
              "    </tr>\n",
              "  </thead>\n",
              "  <tbody>\n",
              "    <tr>\n",
              "      <th>0</th>\n",
              "      <td>996887</td>\n",
              "      <td>Portmarnock</td>\n",
              "      <td>NaN</td>\n",
              "      <td>NaN</td>\n",
              "      <td>NaN</td>\n",
              "      <td>Dublin</td>\n",
              "      <td>A SELECTION OF 4 AND 5 BEDROOM FAMILY HOMES LOCATED BY THE SEA\\n\\r\\nON VIEW BY APPOINTMENT ONLY\\n\\r\\nBRAND NEW SHOW HOME\\n\\r\\nStation Manor is a prestigious 'A' Rated development situated within walking distance of the historic village of Portmarnock. These generously sized, elegant 3, 4 &amp;amp; 5 bedroom homes are ideally located just minutes from the sea front. \\n\\r\\nSituated in a highly sought-after seaside village, Station Manor is an exclusive development of luxurious new homes, designed with exemplary attention to detail throughout, and offering all the relaxation and serenity of a small seaside town with the convenience of city living. \\n\\r\\nFeatures\\n\\r\\nPortmarnock is undoubtedly one of North Dublin's most picturesque locations, with clear views of Lambay Island and Ireland's Eye. Portmarnock is home to the famous 5 mile long stretch of white sandy beaches known as the 'Velvet Strand', which stretches all the way from Malahide to Sutton. Station Manor has this beautiful amenity right on its doorstep. \\n\\r\\nThe development is within close proximity to both Portmarnock and Malahide villages, which host a wealth of amenities including excellent dining options, shops, schools and fantastic sports &amp;amp; leisure facilities. The historic grounds of Malahide Castle &amp;amp; Demesne are a short distance away with over 260 acres of estate parkland and gardens at your disposal, together with a children's playground and Avoca café. \\n\\r\\nStation Manor is ideally located directly across from Portmarnock train station providing direct access to the city centre within 15-20 minutes via the DART commuter line. Portmarnock is also well-served by Dublin Bus with an excellent selection of routes (102, 32, 32X, 42, 42N (Nitelink) and 142). \\n\\r\\nPortmarnock is a mere 10km away from Dublin International Airport, 15km from Dublin City Centre and a short distance from the pretty fishing village at Howth.Location:AMENITIES As well as the famous Velvet Strand beaches, Portmarnock village also boasts two national landmarks, the Martello Tower and the Kiosk, both on the promenade.   The Outdoors The village is surrounded by golf courses on all sides, including Portmarnock Golf Club (host to a number of international professional and amateur events including the Irish Open Championships, the Walker Cup and the Irish Amateur Close Championships). There are also several active sports clubs, such as Portmarnock Tennis Club, Portmarnock A.F.C., Seaview Celtic F.C. and the Portmarnock Sport and Leisure Club. Other golf courses in the area include Malahide Golf Club, Portmarnock Golf Hotel &amp;amp; Links (designed by Bernhard Langer) and Sutton Golf Club. With Naomh Mearnóg serving as the local Gaelic Athletic Association club, all recreational interests will be facilitated within a short distance of your home.   Dining When it comes to dining out, residents of Station Manor can enjoy a vast array of the best eateries Dublin has to offer including McHughs Fine Dining, IL Panorama Lalis and the Jameson Bar at the Portmarnock Links Hotel. In nearby Malahide and Howth, household names such as Avoca, Bon Appetite and Gibneys of Malahide are situated nearby alongside a range of local cafes, bistros and bars, catering to all appetites.  Shopping Portmarnock has a host of local shops bars and businesses. The Pavilions Shopping centre and Airside Retail Park are all within a short drive of Portmarnock Village  these retail centres include many world famous shopping centres, restaurants and bars.  Schools There is a wide choice of local primary and secondary schools in the area which include primary schools such as  St. Marnock's National School and St. Helen's  Portmarnock Community School is the local secondary school.</td>\n",
              "      <td>prod</td>\n",
              "      <td>NaN</td>\n",
              "      <td>None</td>\n",
              "      <td>53.418216</td>\n",
              "      <td>-6.149329</td>\n",
              "      <td>18.0</td>\n",
              "      <td>NaN</td>\n",
              "      <td>new_development_parent</td>\n",
              "      <td>NaN</td>\n",
              "      <td>NaN</td>\n",
              "    </tr>\n",
              "    <tr>\n",
              "      <th>1</th>\n",
              "      <td>999327</td>\n",
              "      <td>Lucan</td>\n",
              "      <td>NaN</td>\n",
              "      <td>NaN</td>\n",
              "      <td>NaN</td>\n",
              "      <td>Dublin</td>\n",
              "      <td>**Last 2 remaining houses for sale ***\\n\\nOn view Saturday from 12pm to 2pm\\n\\nRokeby Park comprises 71 large four and five bedroom detached A rated homes on an exclusive site near Lucan Village, located only moments from St. Catherine s Park and next door to Laraghcon in Lucan.\\n\\nO Flynn Capital Partners have brought all their experience to bear on the design of these stunning detached family homes. These homes designed by Hogan Architecture take maximum advantage of the large sites, the verdant setting and are built to the highest development standards including increased floor to ceiling heights, triple glazing, well-proportioned reception rooms including an attractive wood burning stove, hand-crafted shaker style kitchens and luxurious bathrooms and en-suites.\\n\\nLucan has a wide variety of shops, cafes, restaurants, bars and retail outlets. Local sports clubs include golf at the Hermitage and Lucan golf clubs. For the shopping enthusiasts there is The Liffey Valley shopping centre. Local schools include Castleknock College, Kings Hospital and Mount Sackville.\\n\\nFor further information please visit www.rokebypark.ie\\n\\nBER: A2\\nCertificates can be viewed with agent\\nEPI range 39.44 - 49.67 kwh/m2/yr</td>\n",
              "      <td>prod</td>\n",
              "      <td>NaN</td>\n",
              "      <td>None</td>\n",
              "      <td>53.364917</td>\n",
              "      <td>-6.454935</td>\n",
              "      <td>3.0</td>\n",
              "      <td>NaN</td>\n",
              "      <td>new_development_parent</td>\n",
              "      <td>NaN</td>\n",
              "      <td>NaN</td>\n",
              "    </tr>\n",
              "    <tr>\n",
              "      <th>2</th>\n",
              "      <td>999559</td>\n",
              "      <td>Rathfarnham</td>\n",
              "      <td>NaN</td>\n",
              "      <td>NaN</td>\n",
              "      <td>NaN</td>\n",
              "      <td>Dublin</td>\n",
              "      <td>Final 4 &amp;amp; 5 Bedroom Homes for Sale\\n\\nOn View Saturday and Sunday from 12pm to 2pm\\n\\nPRICES FROM 495,000\\n\\nRegister your interest on www.whitepines.ie or with Sherry FitzGerald New Homes on 01 667 1888 or Dillon Marshall New Homes on 01 496 757\\n\\nWhite Pines is a contemporary new development built by Ardstone Homes, comprising of 3, 4 &amp;amp; 5 bedroom family homes located along Stocking Avenue in the long established suburb of Rathfarnham. \\n\\nLocated at the foothills of the Dublin Mountains, White Pines is surrounded by beautiful scenery, and is close by to both Rathfarnham and Templeogue villages home to a host of local shops, restaurants and cafes. Numerous transport links, including the bus (15 &amp;amp; 15b) and the M50 (Exit 12) just a short drive away, means that access to all parts of Dublin city are within easy reach. \\n\\nThose who enjoy the great outdoors will not be disappointed with a choice of beautiful parks to explore, from Marlay Park to St Enda s Park, along with the picturesque mountain walks at the Hellfire Club and Massy s Wood.\\n\\nFor the sporting enthusiast, White Pines is situated near a number of highly regarded sporting clubs, including Edmondstown, Rathfarnham and Grange golf clubs, Ballyboden St. Enda s GAA Club and Templeogue Tennis Club to name just a few. \\nAlso close by are host of South Dublin s best primary and secondary schools including Saint Colmcilles National and Secondary Schools, Terenure College, Beaufort and Our Lady s Templeogue.\\n\\nIn order to register your interest in these exciting A-rated homes, please visit www.whitepines.ie or call Sherry FitzGerald on 01 667 1888. \\n\\nBER: A3 (BER numbers can be viewed on request with the Agent)</td>\n",
              "      <td>prod</td>\n",
              "      <td>NaN</td>\n",
              "      <td>None</td>\n",
              "      <td>53.273447</td>\n",
              "      <td>-6.313821</td>\n",
              "      <td>3.0</td>\n",
              "      <td>NaN</td>\n",
              "      <td>new_development_parent</td>\n",
              "      <td>NaN</td>\n",
              "      <td>NaN</td>\n",
              "    </tr>\n",
              "    <tr>\n",
              "      <th>3</th>\n",
              "      <td>9102986</td>\n",
              "      <td>Balbriggan</td>\n",
              "      <td>NaN</td>\n",
              "      <td>NaN</td>\n",
              "      <td>NaN</td>\n",
              "      <td>Dublin</td>\n",
              "      <td>Glenveagh Taylor Hill, Balbriggan\\n\\r\\n*Ideal starter homes now available with kitchen appliances &amp;amp; choice of flooring*\\n\\r\\nJust 10 minutes from the beach are a range of homes for all stages of family life, including 2 bedroom terrace homes for first-time buyers, 3 &amp;amp; 4 bedroom semi-detached homes all the way up to 4 bedroom detached family homes.  \\n\\r\\nFollowing the success of Phase 1 Glenveagh Taylor Hill development, Phase 2 is now underway with a brand new show village now open.   \\r\\nLocated in the wonderful seaside town of Balbriggan, Co Dublin this new development offers an unrivaled range of homes to suit every stage of life. From a 2 bedroom terraced house perfect as a starter home to a 3 or 4 bedroom home ideal for the growing family. In addition, each home comes fitted with kitchen appliances and a choice of flooring throughout.\\n\\r\\nNearby is a fantastic range of amenities - exceptional schools within walking distance and great shopping is just a stone's throw away at Millfield Shopping Centre. It's an active town, located between two historic castles and a host of local clubs specialising in rugby, cricket, golf, running and cycling. The development will also feature c.1.6 acres of parkland right on your doorstep. \\n\\r\\nBalbriggan is a perfect commuter town, only 37km north of Dublin city centre and 20km south of Drogheda. Glenveagh Taylor Hill is ideally positioned, only 3 minutes from the M1 and 20 minutes from Dublin Airport.\\n\\r\\nFor further information please visit taylorhill.ie to register your details or contact Knight Frank New Homes on +353 1 634 2466.</td>\n",
              "      <td>prod</td>\n",
              "      <td>NaN</td>\n",
              "      <td>None</td>\n",
              "      <td>53.608167</td>\n",
              "      <td>-6.210914</td>\n",
              "      <td>30.0</td>\n",
              "      <td>NaN</td>\n",
              "      <td>new_development_parent</td>\n",
              "      <td>NaN</td>\n",
              "      <td>NaN</td>\n",
              "    </tr>\n",
              "    <tr>\n",
              "      <th>4</th>\n",
              "      <td>9106028</td>\n",
              "      <td>Foxrock</td>\n",
              "      <td>NaN</td>\n",
              "      <td>NaN</td>\n",
              "      <td>NaN</td>\n",
              "      <td>Dublin</td>\n",
              "      <td>*New phase launching this weekend Sat &amp;amp; Sun 2pm to 4pm with a stunning new 3 bedroom show house*\\n\\nCastlethorn are delighted to present Brighton Wood an exceptional development of high quality homes set amongst mature woodland, off Brighton Road in the heart of Foxrock Village. This development offers an unrivalled range of homes to suit every stage of life. From 2 &amp;amp; 3 bedroom apartments perfect as a starter home to a 3, 4 or 5 bedroom homes ideal for the growing family. In addition, each home comes fitted with Siematic kitchens and Miele appliances. \\nFollowing on from the success of previous phases, Brighton Wood is now underway with a brand new 3 bedroom show house due to open in February. Located within walking distance of Foxrock village and close to excellent primary and secondary schools including St Patrick s and St Brigid s National Schools, Loreto Foxrock, Blackrock College and St Andrews College. There is great leisure amenities in the locality including Westwood Sports &amp;amp; Leisure Centre, Foxrock Golf Club. Blackrock, Stillorgan, Cornelscourt Shopping Centre and Dundrum Shopping Centre are all within easy reach. The M50 and Luas are both easily accessible.\\n\\nPlease visit www.brightonwood.ie for more information or contact SherryFitz New Homes on +353 1 6671888.\\n\\nBER: A3\\nCertificates available to view with agents\\nEPI range 49.31 - 65.44kwh/m2/yr</td>\n",
              "      <td>prod</td>\n",
              "      <td>NaN</td>\n",
              "      <td>None</td>\n",
              "      <td>53.262531</td>\n",
              "      <td>-6.181527</td>\n",
              "      <td>8.0</td>\n",
              "      <td>NaN</td>\n",
              "      <td>new_development_parent</td>\n",
              "      <td>NaN</td>\n",
              "      <td>NaN</td>\n",
              "    </tr>\n",
              "  </tbody>\n",
              "</table>\n",
              "</div>"
            ],
            "text/plain": [
              "     ad_id         area  bathrooms  beds ber_classification  county  \\\n",
              "0  996887   Portmarnock NaN        NaN    NaN                Dublin   \n",
              "1  999327   Lucan       NaN        NaN    NaN                Dublin   \n",
              "2  999559   Rathfarnham NaN        NaN    NaN                Dublin   \n",
              "3  9102986  Balbriggan  NaN        NaN    NaN                Dublin   \n",
              "4  9106028  Foxrock     NaN        NaN    NaN                Dublin   \n",
              "\n",
              "                                                                                                                                                                                                                                                                                                                                                                                                                                                                                                                                                                                                                                                                                                                                                                                                                                                                                                                                                                                                                                                                                                                                                                                                                                                                                                                                                                                                                                                                                                                                                                                                                                                                                                                                                                                                                                                                                                                                                                                                                                                                                                                                                                                                                                                                                                                                                                                                                                                                                                                                                                                                                                                                                                                                                                                                                                                                                                                                                                                                                                                                                                                                                                                                                                                                                                                                                                                                                                                                                                                                                                                                                                                                                                                                                                                                                                                                                               description_block  \\\n",
              "0  A SELECTION OF 4 AND 5 BEDROOM FAMILY HOMES LOCATED BY THE SEA\\n\\r\\nON VIEW BY APPOINTMENT ONLY\\n\\r\\nBRAND NEW SHOW HOME\\n\\r\\nStation Manor is a prestigious 'A' Rated development situated within walking distance of the historic village of Portmarnock. These generously sized, elegant 3, 4 &amp; 5 bedroom homes are ideally located just minutes from the sea front. \\n\\r\\nSituated in a highly sought-after seaside village, Station Manor is an exclusive development of luxurious new homes, designed with exemplary attention to detail throughout, and offering all the relaxation and serenity of a small seaside town with the convenience of city living. \\n\\r\\nFeatures\\n\\r\\nPortmarnock is undoubtedly one of North Dublin's most picturesque locations, with clear views of Lambay Island and Ireland's Eye. Portmarnock is home to the famous 5 mile long stretch of white sandy beaches known as the 'Velvet Strand', which stretches all the way from Malahide to Sutton. Station Manor has this beautiful amenity right on its doorstep. \\n\\r\\nThe development is within close proximity to both Portmarnock and Malahide villages, which host a wealth of amenities including excellent dining options, shops, schools and fantastic sports &amp; leisure facilities. The historic grounds of Malahide Castle &amp; Demesne are a short distance away with over 260 acres of estate parkland and gardens at your disposal, together with a children's playground and Avoca café. \\n\\r\\nStation Manor is ideally located directly across from Portmarnock train station providing direct access to the city centre within 15-20 minutes via the DART commuter line. Portmarnock is also well-served by Dublin Bus with an excellent selection of routes (102, 32, 32X, 42, 42N (Nitelink) and 142). \\n\\r\\nPortmarnock is a mere 10km away from Dublin International Airport, 15km from Dublin City Centre and a short distance from the pretty fishing village at Howth.Location:AMENITIES As well as the famous Velvet Strand beaches, Portmarnock village also boasts two national landmarks, the Martello Tower and the Kiosk, both on the promenade.   The Outdoors The village is surrounded by golf courses on all sides, including Portmarnock Golf Club (host to a number of international professional and amateur events including the Irish Open Championships, the Walker Cup and the Irish Amateur Close Championships). There are also several active sports clubs, such as Portmarnock Tennis Club, Portmarnock A.F.C., Seaview Celtic F.C. and the Portmarnock Sport and Leisure Club. Other golf courses in the area include Malahide Golf Club, Portmarnock Golf Hotel &amp; Links (designed by Bernhard Langer) and Sutton Golf Club. With Naomh Mearnóg serving as the local Gaelic Athletic Association club, all recreational interests will be facilitated within a short distance of your home.   Dining When it comes to dining out, residents of Station Manor can enjoy a vast array of the best eateries Dublin has to offer including McHughs Fine Dining, IL Panorama Lalis and the Jameson Bar at the Portmarnock Links Hotel. In nearby Malahide and Howth, household names such as Avoca, Bon Appetite and Gibneys of Malahide are situated nearby alongside a range of local cafes, bistros and bars, catering to all appetites.  Shopping Portmarnock has a host of local shops bars and businesses. The Pavilions Shopping centre and Airside Retail Park are all within a short drive of Portmarnock Village  these retail centres include many world famous shopping centres, restaurants and bars.  Schools There is a wide choice of local primary and secondary schools in the area which include primary schools such as  St. Marnock's National School and St. Helen's  Portmarnock Community School is the local secondary school.   \n",
              "1  **Last 2 remaining houses for sale ***\\n\\nOn view Saturday from 12pm to 2pm\\n\\nRokeby Park comprises 71 large four and five bedroom detached A rated homes on an exclusive site near Lucan Village, located only moments from St. Catherine s Park and next door to Laraghcon in Lucan.\\n\\nO Flynn Capital Partners have brought all their experience to bear on the design of these stunning detached family homes. These homes designed by Hogan Architecture take maximum advantage of the large sites, the verdant setting and are built to the highest development standards including increased floor to ceiling heights, triple glazing, well-proportioned reception rooms including an attractive wood burning stove, hand-crafted shaker style kitchens and luxurious bathrooms and en-suites.\\n\\nLucan has a wide variety of shops, cafes, restaurants, bars and retail outlets. Local sports clubs include golf at the Hermitage and Lucan golf clubs. For the shopping enthusiasts there is The Liffey Valley shopping centre. Local schools include Castleknock College, Kings Hospital and Mount Sackville.\\n\\nFor further information please visit www.rokebypark.ie\\n\\nBER: A2\\nCertificates can be viewed with agent\\nEPI range 39.44 - 49.67 kwh/m2/yr                                                                                                                                                                                                                                                                                                                                                                                                                                                                                                                                                                                                                                                                                                                                                                                                                                                                                                                                                                                                                                                                                                                                                                                                                                                                                                                                                                                                                                                                                                                                                                                                                                                                                                                                                                                                                                                                                                                                                                                                                                                                                                                                                                                                                                                                                                                                                                                                                                                                                                                                                                                                                                        \n",
              "2  Final 4 &amp; 5 Bedroom Homes for Sale\\n\\nOn View Saturday and Sunday from 12pm to 2pm\\n\\nPRICES FROM 495,000\\n\\nRegister your interest on www.whitepines.ie or with Sherry FitzGerald New Homes on 01 667 1888 or Dillon Marshall New Homes on 01 496 757\\n\\nWhite Pines is a contemporary new development built by Ardstone Homes, comprising of 3, 4 &amp; 5 bedroom family homes located along Stocking Avenue in the long established suburb of Rathfarnham. \\n\\nLocated at the foothills of the Dublin Mountains, White Pines is surrounded by beautiful scenery, and is close by to both Rathfarnham and Templeogue villages home to a host of local shops, restaurants and cafes. Numerous transport links, including the bus (15 &amp; 15b) and the M50 (Exit 12) just a short drive away, means that access to all parts of Dublin city are within easy reach. \\n\\nThose who enjoy the great outdoors will not be disappointed with a choice of beautiful parks to explore, from Marlay Park to St Enda s Park, along with the picturesque mountain walks at the Hellfire Club and Massy s Wood.\\n\\nFor the sporting enthusiast, White Pines is situated near a number of highly regarded sporting clubs, including Edmondstown, Rathfarnham and Grange golf clubs, Ballyboden St. Enda s GAA Club and Templeogue Tennis Club to name just a few. \\nAlso close by are host of South Dublin s best primary and secondary schools including Saint Colmcilles National and Secondary Schools, Terenure College, Beaufort and Our Lady s Templeogue.\\n\\nIn order to register your interest in these exciting A-rated homes, please visit www.whitepines.ie or call Sherry FitzGerald on 01 667 1888. \\n\\nBER: A3 (BER numbers can be viewed on request with the Agent)                                                                                                                                                                                                                                                                                                                                                                                                                                                                                                                                                                                                                                                                                                                                                                                                                                                                                                                                                                                                                                                                                                                                                                                                                                                                                                                                                                                                                                                                                                                                                                                                                                                                                                                                                                                                                                                                                                                                                                                                                                                                                                                                    \n",
              "3  Glenveagh Taylor Hill, Balbriggan\\n\\r\\n*Ideal starter homes now available with kitchen appliances &amp; choice of flooring*\\n\\r\\nJust 10 minutes from the beach are a range of homes for all stages of family life, including 2 bedroom terrace homes for first-time buyers, 3 &amp; 4 bedroom semi-detached homes all the way up to 4 bedroom detached family homes.  \\n\\r\\nFollowing the success of Phase 1 Glenveagh Taylor Hill development, Phase 2 is now underway with a brand new show village now open.   \\r\\nLocated in the wonderful seaside town of Balbriggan, Co Dublin this new development offers an unrivaled range of homes to suit every stage of life. From a 2 bedroom terraced house perfect as a starter home to a 3 or 4 bedroom home ideal for the growing family. In addition, each home comes fitted with kitchen appliances and a choice of flooring throughout.\\n\\r\\nNearby is a fantastic range of amenities - exceptional schools within walking distance and great shopping is just a stone's throw away at Millfield Shopping Centre. It's an active town, located between two historic castles and a host of local clubs specialising in rugby, cricket, golf, running and cycling. The development will also feature c.1.6 acres of parkland right on your doorstep. \\n\\r\\nBalbriggan is a perfect commuter town, only 37km north of Dublin city centre and 20km south of Drogheda. Glenveagh Taylor Hill is ideally positioned, only 3 minutes from the M1 and 20 minutes from Dublin Airport.\\n\\r\\nFor further information please visit taylorhill.ie to register your details or contact Knight Frank New Homes on +353 1 634 2466.                                                                                                                                                                                                                                                                                                                                                                                                                                                                                                                                                                                                                                                                                                                                                                                                                                                                                                                                                                                                                                                                                                                                                                                                                                                                                                                                                                                                                                                                                                                                                                                                                                                                                                                                                                                                                                                                                                                                                                                                                                                                                                                                                                                                                                       \n",
              "4  *New phase launching this weekend Sat &amp; Sun 2pm to 4pm with a stunning new 3 bedroom show house*\\n\\nCastlethorn are delighted to present Brighton Wood an exceptional development of high quality homes set amongst mature woodland, off Brighton Road in the heart of Foxrock Village. This development offers an unrivalled range of homes to suit every stage of life. From 2 &amp; 3 bedroom apartments perfect as a starter home to a 3, 4 or 5 bedroom homes ideal for the growing family. In addition, each home comes fitted with Siematic kitchens and Miele appliances. \\nFollowing on from the success of previous phases, Brighton Wood is now underway with a brand new 3 bedroom show house due to open in February. Located within walking distance of Foxrock village and close to excellent primary and secondary schools including St Patrick s and St Brigid s National Schools, Loreto Foxrock, Blackrock College and St Andrews College. There is great leisure amenities in the locality including Westwood Sports &amp; Leisure Centre, Foxrock Golf Club. Blackrock, Stillorgan, Cornelscourt Shopping Centre and Dundrum Shopping Centre are all within easy reach. The M50 and Luas are both easily accessible.\\n\\nPlease visit www.brightonwood.ie for more information or contact SherryFitz New Homes on +353 1 6671888.\\n\\nBER: A3\\nCertificates available to view with agents\\nEPI range 49.31 - 65.44kwh/m2/yr                                                                                                                                                                                                                                                                                                                                                                                                                                                                                                                                                                                                                                                                                                                                                                                                                                                                                                                                                                                                                                                                                                                                                                                                                                                                                                                                                                                                                                                                                                                                                                                                                                                                                                                                                                                                                                                                                                                                                                                                                                                                                                                                                                                                                                                                                                                                                                                                                                                              \n",
              "\n",
              "  environment facility features   latitude  longitude  no_of_units  price  \\\n",
              "0  prod        NaN      None     53.418216 -6.149329   18.0        NaN      \n",
              "1  prod        NaN      None     53.364917 -6.454935   3.0         NaN      \n",
              "2  prod        NaN      None     53.273447 -6.313821   3.0         NaN      \n",
              "3  prod        NaN      None     53.608167 -6.210914   30.0        NaN      \n",
              "4  prod        NaN      None     53.262531 -6.181527   8.0         NaN      \n",
              "\n",
              "        property_category property_type  surface  \n",
              "0  new_development_parent  NaN          NaN       \n",
              "1  new_development_parent  NaN          NaN       \n",
              "2  new_development_parent  NaN          NaN       \n",
              "3  new_development_parent  NaN          NaN       \n",
              "4  new_development_parent  NaN          NaN       "
            ]
          },
          "metadata": {},
          "execution_count": 13
        }
      ]
    },
    {
      "cell_type": "code",
      "metadata": {
        "colab": {
          "base_uri": "https://localhost:8080/",
          "height": 1000
        },
        "id": "X5TBfcxXPSIi",
        "outputId": "d1f984fb-5738-4bcc-c176-8332cadf8992"
      },
      "source": [
        "# print the last 5 rows of the training dataframe\n",
        "df_train.tail(5)"
      ],
      "execution_count": 14,
      "outputs": [
        {
          "output_type": "execute_result",
          "data": {
            "text/html": [
              "<div>\n",
              "<style scoped>\n",
              "    .dataframe tbody tr th:only-of-type {\n",
              "        vertical-align: middle;\n",
              "    }\n",
              "\n",
              "    .dataframe tbody tr th {\n",
              "        vertical-align: top;\n",
              "    }\n",
              "\n",
              "    .dataframe thead th {\n",
              "        text-align: right;\n",
              "    }\n",
              "</style>\n",
              "<table border=\"1\" class=\"dataframe\">\n",
              "  <thead>\n",
              "    <tr style=\"text-align: right;\">\n",
              "      <th></th>\n",
              "      <th>ad_id</th>\n",
              "      <th>area</th>\n",
              "      <th>bathrooms</th>\n",
              "      <th>beds</th>\n",
              "      <th>ber_classification</th>\n",
              "      <th>county</th>\n",
              "      <th>description_block</th>\n",
              "      <th>environment</th>\n",
              "      <th>facility</th>\n",
              "      <th>features</th>\n",
              "      <th>latitude</th>\n",
              "      <th>longitude</th>\n",
              "      <th>no_of_units</th>\n",
              "      <th>price</th>\n",
              "      <th>property_category</th>\n",
              "      <th>property_type</th>\n",
              "      <th>surface</th>\n",
              "    </tr>\n",
              "  </thead>\n",
              "  <tbody>\n",
              "    <tr>\n",
              "      <th>2977</th>\n",
              "      <td>12428232</td>\n",
              "      <td>Ballsbridge</td>\n",
              "      <td>2.0</td>\n",
              "      <td>2.0</td>\n",
              "      <td>C3</td>\n",
              "      <td>Dublin</td>\n",
              "      <td>Sherry FitzGerald are delighted to present Apartment 70 The Lansdowne, Pembroke Square to the market. Pembroke Square is a magnificent apartment development built to the highest specification, located conveniently in this most sought after location minutes from Grand Canal, The IFSC and Dublin s thriving City Centre. This attractive apartment which is serviced by a lift offers the discerning buyer a comfortable pied-a-terre or a lucrative investment opportunity.\\n\\nPositioned on the fourth floor of this development Apartment 70 extends to 56 sq. m/603 sq. ft. (approx.) and offers well-proportioned accommodation throughout which has been finished to a very high specification and is complemented by an abundance of natural light. \\n\\nThe accommodation comprises a welcoming entrance hall providing built in storage. The light filled living/dining room offers access to the sunny balcony. The well-equipped kitchen is linked to the living/dining room and is fitted with integrated appliances. There are two generously proportioned double bedrooms, one with an en-suite and family bathroom completing the accommodation. it is complemented with a private balcony which is accessed of the living room and a designated car parking space. \\n\\nSituated in a wonderfully convenient location Pembroke Square is surrounded by a wealth of amenities such as many cafes, restaurants and theatres. Conveniently located beside Grand Canal DART station and GOOGLE, it is also within walking distance to Trinity College and many of Dublin s main commercial headquarters such as Merrion Square, St Stephen s Green, Grafton Street and the IFSC. A wide array of amenities are on the doorstep making it a perfect choice for those seeking a home of superb quality in an excellent city centre location.\\n\\nFurthermore, the property benefits from close proximity to Ballsbridge, Ringsend village and the Port Tunnel which provides easy access to the airport.\\n\\nEarly viewing is strongly recommended. \\n\\n\\nEntrance Hall Welcoming entrance hallway with built in storage cupboard, attractive wooden style flooring.\\n\\nLiving / Dining Room 5.77m x 3.17m. Large open living space filled with plenty of natural light, attractive fire feature. Access to balcony. Attractive wooden style flooring.\\n\\nKitchen 1.84m x 2.73m. Fitted with an array of built in wall and floor level units, 4 ring Indesit hob/oven &amp;amp; grill/extractor fan - with tiled splash-back. Built in stainless steel sink unit. Plumbed for washing machine. Integrated Bosch dishwasher.\\n\\nBedroom 1 4.14m x 2.59m. Bright and spacious double bedroom with built in wardrobes. Attractive wooden style flooring.\\n\\nBathroom 1.86m x 1.63m. Well equipped bathroom suite incorporating w.c, w.h.b, shower with over head attachment, Partly tiled walls and floor. Access to storage cupboard and hot press.\\n\\nBedroom 2 3.21m 2.49m. Double bedroom with enviable outlook. Built in storage cupboards. Attractive wooden style flooring.\\n\\nEn-Suite 2.32m x 1.53m. W.c, w.h.b, shower with over head attachment, attractive tiled walls and floor.</td>\n",
              "      <td>prod</td>\n",
              "      <td>NaN</td>\n",
              "      <td>Prime Location\\nManagement Co: Core Property Management\\nService Charge: €1,750 approx.\\nSpacious two bedroom fourth floor apartment on Grand Canal Street Upper\\nLandscaped courtyard, roof garden\\nDesignated underground car parking space\\nExceptional rental opportunity\\nIntercom\\n</td>\n",
              "      <td>53.338738</td>\n",
              "      <td>-6.237199</td>\n",
              "      <td>NaN</td>\n",
              "      <td>415000.0</td>\n",
              "      <td>sale</td>\n",
              "      <td>apartment</td>\n",
              "      <td>56.0</td>\n",
              "    </tr>\n",
              "    <tr>\n",
              "      <th>2978</th>\n",
              "      <td>12428240</td>\n",
              "      <td>Rialto</td>\n",
              "      <td>1.0</td>\n",
              "      <td>3.0</td>\n",
              "      <td>B2</td>\n",
              "      <td>Dublin</td>\n",
              "      <td>Property Team Patrick Moran is delighted to present 9 Church Avenue South to the market. This stunning three bedroom red brick contemporary residence has been refurbished to the highest standard and offers a most attractive family home in this ever-popular location. The property has the added advantage of numerous amenities on the doorstep, most notably the Luas, Heuston Station, Phoenix Park, St. James' Hospital combined with a variety of shops and restaurants. The City Centre and M50 are accessed within a short commuting distance.\\r\\nThe accommodation comprises of an entrance hall, 2 reception rooms, stylish contemporary kitchen cum breakfast room, guest w.c., 3 bedrooms, bathroom, attic study room and a most attractive sunny patio area to the rear. The overall property including the attic area offers c. 101 Sq. Metres.\\r\\nAccommodation: \\r\\nEntrance Hall: 4.35m. x 1.13m. Engineered timber floors. Attractive original cornice.\\r\\nLiving room: 4.09m. x 3.25m. Engineered timber floors. Attractive original cornice.\\r\\nDining room: 3.53m. x 3.3m. Engineered timber floors. Under-stairs storage. \\r\\nKitchen/breakfast room: 4.22m. x 4.12m. Superb contemporary and stylish fitted kitchen units with soft close doors &amp;amp; drawers. Fully integrated fridge freezer, washing machine, dishwasher, oven etc. Stainless steel sink. Recessed lighting. Part tiled walls. Tiled floor. Glazed French Doors opening onto an easily maintained sunny paved patio area.   \\r\\nGuest w.c: Quality sanitary ware. Recessed lighting.\\r\\nFirst floor return:\\r\\nBedroom 1:  3.17m. x 2.31m.\\r\\nFirst floor:\\r\\nBedroom 2:  2.92m. x 2.36m.\\r\\nBedroom 3:  Master Room. 4.55m. x 2.74m. Built-in wardrobes. \\r\\nBathroom: High quality sanitary ware with stylish wall &amp;amp; floor tiling. Bath with wall\\r\\nmounted shower and fitted shower screen. \\r\\nLanding: Unit with fitted combi gas boiler. Access to attic area. Skylight.\\r\\nAttic: 4.78m x 3.35m. Fully insulated and floored. Skylight to the rear. Pull down folding stairs. (Ideal for home office or storage room). \\r\\nOutside: Railed to the front with pedestrian gate entrance. Tiled pedestrian access. Large paved area to the rear with attractive flower bed. External tap and wall light. Pedestrian rear access.</td>\n",
              "      <td>prod</td>\n",
              "      <td>NaN</td>\n",
              "      <td>Totally refurbished to the highest standard. \\nLight filled and well proportioned accommodation.\\nGas central heating. \\nQuality double glazed windows with sash double glazed windows to the front. \\nContemporary and stylish fitted kitchen and quality bathroom. \\n</td>\n",
              "      <td>53.335793</td>\n",
              "      <td>-6.294268</td>\n",
              "      <td>NaN</td>\n",
              "      <td>485000.0</td>\n",
              "      <td>sale</td>\n",
              "      <td>terraced</td>\n",
              "      <td>101.0</td>\n",
              "    </tr>\n",
              "    <tr>\n",
              "      <th>2979</th>\n",
              "      <td>12428247</td>\n",
              "      <td>Smithfield</td>\n",
              "      <td>1.0</td>\n",
              "      <td>2.0</td>\n",
              "      <td>C3</td>\n",
              "      <td>Dublin</td>\n",
              "      <td>Earnest estate agents are delighted to present No. 181 The Spinnaker, Arran Quay to the market. \\n\\n\\r\\nThis property is a 2 bedroom apartment  situated in the heart of Smithfield adjacent to The Four Courts. This 3rd Floor apartment overlooks the River Liffey and will be of interest to both home owners and investors alike. \\n\\r\\nThis well laid out apartment comprises of bright and spacious open plan Living / dining / kitchen area which has been modernized in recent years. The bedrooms are both doubles with laminate flooring. \\r\\nThe bathroom also has been refurbished in recent years and includes bath, WC, WHB and vanity unit. \\n\\r\\nThe convenience of the location cannot be overstated with the City Centre, Smithfield and Temple Bar all within walking distance, it enjoys a host of amenities in the area, including shops, bars and restaurants. The LUAS is located on your doorstep and Heuston Station is a close two stops away.</td>\n",
              "      <td>prod</td>\n",
              "      <td>Wired for Cable Television</td>\n",
              "      <td>OVERLOOKING THE RIVER LIFFEY \\n3RD FLOOR APARTMENT \\nSOUTH EAST ASPECT \\nSOUGHT AFTER DEVELOPMENT \\nNEXT DOOR TO RED LUAS LINE ( SMITHFIELD )\\nALL POSSIBLE AMENTIES NEARBY \\nRENT FROM MAY 2020 WILL BE APPROX 1956PM \\nSERVICE CHARGE APPROX 1400PA\\n</td>\n",
              "      <td>53.346098</td>\n",
              "      <td>-6.276856</td>\n",
              "      <td>NaN</td>\n",
              "      <td>299000.0</td>\n",
              "      <td>sale</td>\n",
              "      <td>apartment</td>\n",
              "      <td>55.6</td>\n",
              "    </tr>\n",
              "    <tr>\n",
              "      <th>2980</th>\n",
              "      <td>12428254</td>\n",
              "      <td>Foxrock</td>\n",
              "      <td>2.0</td>\n",
              "      <td>3.0</td>\n",
              "      <td>C3</td>\n",
              "      <td>Dublin</td>\n",
              "      <td>Janet Carroll Estate Agents are pleased to present number 9 Pine Avenue for sale by Private Treaty. This end of terraced property measures circa 97 sqm/ 1,044 sqft and is set in a leafy development that always captures buyers' interest, Westminster Park in Foxrock. Like any song, it is important to hit all the right notes and Westminster Park gets it just right. Whether it be schools, transport, amenities or family this development is such an all-rounder.\\n\\r\\nThe house itself has three bedrooms (one with ensuite), conservatory, South West facing garden and off-street parking. It has superb scope to adapt to the new owners' requirements. Other neighbours have created amazing homes with a similar footprint, so these properties are adaptable. \\n\\r\\nFor those with education in mind, one of the premier national schools in Dublin, Holly Park, is a short distance away. It caters for boys and girls and has a superb reputation. Loreto girls' school is a one-minute walk, another great option. The 46A is directly outside on the N11 and links to both Dun Laoghaire and The Phoenix Park respectively. Foxrock Village, Stillorgan shopping centre are nearby and Dundrum Town Centre is a short drive away.\\n\\r\\nFor those seeking a lovely home in a thriving community look no further than 9 Pine Avenue.\\n\\r\\nSPECIAL FEATURES\\n\\r\\n- Prime location in low density mature development\\r\\n- End of terraced\\r\\n- 3 Bedrooms (1 with ensuite)\\r\\n- C. 1,044 sqft/ 97 sqm \\r\\n- Conservatory\\r\\n- Gas fired central heating\\r\\n- South west facing rear garden\\r\\n- Off street parking \\r\\n- Cul de sac\\r\\n- Bus routes 46A and 145\\r\\n- Very close to the N11 and swift access to the M50\\r\\n- Foxrock Village nearby\\n\\r\\nLOCAL SCHOOLS\\n\\r\\n- Loreto College Foxrock\\r\\n- Hollypark National Schools\\r\\n- St. Brigid's Boys National School\\r\\n- Lycee Francais d'Irlande, Foxrock Avenue\\r\\n- Oatlands College\\n\\r\\nACCOMMODATION\\n\\r\\nEntrance Hall: c. 4.00m x 2.11m\\r\\nLaminate flooring.\\n\\r\\nGuest W/C: \\r\\nWash hand basin and w/c.\\n\\r\\nLiving Room: c. 4.87m x 3.80m\\r\\nLaminate floor, windows to the front, fireplace and double doors to the kitchen/ dining room.\\n\\r\\nKitchen/ Dining Room: c. 6.01m x 3.47m\\r\\nThe kitchen is tiled and has plenty of wall and floor units for storage. Double oven, induction hob, stainless steel sink, tiled splashback and Indesit washing machine. Windows to the rear garden. \\n\\r\\nConservatory: c. 3.64m x 3.31m\\r\\nThis is simply a great addition to the house with space that gets south west facing light.\\n\\r\\nUPSTAIRS\\n\\r\\nBedroom 1: c. 4.13m x 3.55m\\r\\nFitted carpet, built in wardrobes.\\n\\r\\nEn Suite: c. 2.37m x 1.81m\\r\\nA clever feature of this room is hidden through what appears to be a wardrobe door! It works very well as the line of doors keeps the room looking uniform. Wash hand basin, w/c, step in shower.\\n\\r\\nBedroom 2: c. 3.21m x 2.76m\\r\\nFitted carpet, built in wardrobes.\\n\\r\\nBedroom 3: c. 2.76m x 2.11m\\r\\nFitted carpet.\\n\\r\\nBathroom: c. 2.22m x 1.96m\\r\\nBath, wash hand basin, w/c, Velux for ventilation.\\n\\r\\nOUTSIDE\\n\\r\\nTo the front there is off street parking and plenty of parking in the development itself. To the rear is a south westerly garden. This is the ideal orientation for those who want to enjoy the sun throughout the day.\\n\\r\\nDIRECTIONS\\n\\r\\nIf travelling from City Centre on the N11/Stillorgan Road turn right towards Springfield Park and Loreto College, Foxrock. Turn right immediately onto Westminster Park. Stay on this road on Pine Avenue. The property is on the left hand side. \\n\\r\\nBER DETAILS\\n\\r\\nBER: C3\\r\\nBER No: 100579143 \\r\\nEnergy Performance Indicator: 215.16 kWh/m2/yr\\n\\r\\nVIEWING\\n\\r\\nBy appointment with Andrew Rhatigan at 086 4097485 or 01 2882020</td>\n",
              "      <td>prod</td>\n",
              "      <td>Parking,Gas Fired Central Heating</td>\n",
              "      <td>None</td>\n",
              "      <td>53.273518</td>\n",
              "      <td>-6.178500</td>\n",
              "      <td>NaN</td>\n",
              "      <td>495000.0</td>\n",
              "      <td>sale</td>\n",
              "      <td>end-of-terrace</td>\n",
              "      <td>97.0</td>\n",
              "    </tr>\n",
              "    <tr>\n",
              "      <th>2981</th>\n",
              "      <td>12428358</td>\n",
              "      <td>Terenure</td>\n",
              "      <td>2.0</td>\n",
              "      <td>3.0</td>\n",
              "      <td>D2</td>\n",
              "      <td>Dublin</td>\n",
              "      <td>ON VIEW SATURDAY 7 TH MARCH 2020 11:30 AM - 12 PM\\n\\nSherry FitzGerald are delighted to present 81 Greentrees Road to the market. This attractive three-bedroom semi-detached family home has been lovingly maintained by the current owners over the years. Enjoying an excellent location on this highly desirable Dublin 12 road, this fine home combines light filled living accommodation and garage to offer the perfect package to create a family home for life. \\n\\nBuilt in 1950 s, this charming home has been wonderfully upgraded and extended offering the discerning buyer huge scope to place one s own stamp and create a modern family home. Beyond the hall door of this charming home a bright hall leads to three interconnecting reception rooms while a kitchen, guest w.c., utility and garage to the side of the property completes the ground floor. Upstairs, three generous bedrooms, a family bathroom complete the picture. \\n\\nThe location is first class within close proximity to Terenure and Templeogue villages with their array of bijou eateries and specialty shops. Excellent choice of schools to include St. Pius X, Our Lady s Templeogue, Terenure and Templeogue Colleges are nearby. Leisure facilities include Bushy Park and its recreational amenities and adjoining parklands along the River Dodder, good public transport routes to the city and easy access to the M50.\\n\\nSure to appeal too many, early viewing comes highly recommended!\\n\\n\\nEntrance Hall 2.04m x 4.58m.\\n\\nLiving Room 3.88m x 3.55m.\\n\\nDining Room 3.87m x 4.08m.\\n\\nFamily Room 3.16m x 3.23m.\\n\\nKitchen 5.22m x 4.79m.\\n\\nUtility Room 2.42m x 3.08m.\\nWC 0.84m x 1.39m.\\n\\nBedroom 1 3.53m x 3.59m.\\n\\nBedroom 2 3.53m x 4.10m.\\n\\nBedroom 3 2.57m x 2.56m.\\n\\nBathroom 2.41m x 2.41m.\\n\\nGarage 2.63m x 1.67m.</td>\n",
              "      <td>prod</td>\n",
              "      <td>NaN</td>\n",
              "      <td>Charming three-bedroom family home\\nMinutes away from a range of Primary &amp;amp; Secondary schools and exceptional amenities\\nClose to M50 Road Network\\n</td>\n",
              "      <td>53.310073</td>\n",
              "      <td>-6.325158</td>\n",
              "      <td>NaN</td>\n",
              "      <td>525000.0</td>\n",
              "      <td>sale</td>\n",
              "      <td>semi-detached</td>\n",
              "      <td>129.3</td>\n",
              "    </tr>\n",
              "  </tbody>\n",
              "</table>\n",
              "</div>"
            ],
            "text/plain": [
              "         ad_id         area  bathrooms  beds ber_classification  county  \\\n",
              "2977  12428232  Ballsbridge  2.0        2.0   C3                 Dublin   \n",
              "2978  12428240  Rialto       1.0        3.0   B2                 Dublin   \n",
              "2979  12428247  Smithfield   1.0        2.0   C3                 Dublin   \n",
              "2980  12428254  Foxrock      2.0        3.0   C3                 Dublin   \n",
              "2981  12428358  Terenure     2.0        3.0   D2                 Dublin   \n",
              "\n",
              "                                                                                                                                                                                                                                                                                                                                                                                                                                                                                                                                                                                                                                                                                                                                                                                                                                                                                                                                                                                                                                                                                                                                                                                                                                                                                                                                                                                                                                                                                                                                                                                                                                                                                                                                                                                                                                                                                                                                                                                                                                                                                                                                                                                                                                                                                                                                                                                                                                                                                                                                                                                                                                                                                                                                                                                                                                                                                                                                                                                                                                                                                                                                                                                                                                                                                                                                                                                                                                                                                                                                                                                                                                                                                                                                                                                                                                                               description_block  \\\n",
              "2977  Sherry FitzGerald are delighted to present Apartment 70 The Lansdowne, Pembroke Square to the market. Pembroke Square is a magnificent apartment development built to the highest specification, located conveniently in this most sought after location minutes from Grand Canal, The IFSC and Dublin s thriving City Centre. This attractive apartment which is serviced by a lift offers the discerning buyer a comfortable pied-a-terre or a lucrative investment opportunity.\\n\\nPositioned on the fourth floor of this development Apartment 70 extends to 56 sq. m/603 sq. ft. (approx.) and offers well-proportioned accommodation throughout which has been finished to a very high specification and is complemented by an abundance of natural light. \\n\\nThe accommodation comprises a welcoming entrance hall providing built in storage. The light filled living/dining room offers access to the sunny balcony. The well-equipped kitchen is linked to the living/dining room and is fitted with integrated appliances. There are two generously proportioned double bedrooms, one with an en-suite and family bathroom completing the accommodation. it is complemented with a private balcony which is accessed of the living room and a designated car parking space. \\n\\nSituated in a wonderfully convenient location Pembroke Square is surrounded by a wealth of amenities such as many cafes, restaurants and theatres. Conveniently located beside Grand Canal DART station and GOOGLE, it is also within walking distance to Trinity College and many of Dublin s main commercial headquarters such as Merrion Square, St Stephen s Green, Grafton Street and the IFSC. A wide array of amenities are on the doorstep making it a perfect choice for those seeking a home of superb quality in an excellent city centre location.\\n\\nFurthermore, the property benefits from close proximity to Ballsbridge, Ringsend village and the Port Tunnel which provides easy access to the airport.\\n\\nEarly viewing is strongly recommended. \\n\\n\\nEntrance Hall Welcoming entrance hallway with built in storage cupboard, attractive wooden style flooring.\\n\\nLiving / Dining Room 5.77m x 3.17m. Large open living space filled with plenty of natural light, attractive fire feature. Access to balcony. Attractive wooden style flooring.\\n\\nKitchen 1.84m x 2.73m. Fitted with an array of built in wall and floor level units, 4 ring Indesit hob/oven &amp; grill/extractor fan - with tiled splash-back. Built in stainless steel sink unit. Plumbed for washing machine. Integrated Bosch dishwasher.\\n\\nBedroom 1 4.14m x 2.59m. Bright and spacious double bedroom with built in wardrobes. Attractive wooden style flooring.\\n\\nBathroom 1.86m x 1.63m. Well equipped bathroom suite incorporating w.c, w.h.b, shower with over head attachment, Partly tiled walls and floor. Access to storage cupboard and hot press.\\n\\nBedroom 2 3.21m 2.49m. Double bedroom with enviable outlook. Built in storage cupboards. Attractive wooden style flooring.\\n\\nEn-Suite 2.32m x 1.53m. W.c, w.h.b, shower with over head attachment, attractive tiled walls and floor.                                                                                                                                                                                                                                                                                                                                                                                                                                                                                                                                                                                                                                                                           \n",
              "2978  Property Team Patrick Moran is delighted to present 9 Church Avenue South to the market. This stunning three bedroom red brick contemporary residence has been refurbished to the highest standard and offers a most attractive family home in this ever-popular location. The property has the added advantage of numerous amenities on the doorstep, most notably the Luas, Heuston Station, Phoenix Park, St. James' Hospital combined with a variety of shops and restaurants. The City Centre and M50 are accessed within a short commuting distance.\\r\\nThe accommodation comprises of an entrance hall, 2 reception rooms, stylish contemporary kitchen cum breakfast room, guest w.c., 3 bedrooms, bathroom, attic study room and a most attractive sunny patio area to the rear. The overall property including the attic area offers c. 101 Sq. Metres.\\r\\nAccommodation: \\r\\nEntrance Hall: 4.35m. x 1.13m. Engineered timber floors. Attractive original cornice.\\r\\nLiving room: 4.09m. x 3.25m. Engineered timber floors. Attractive original cornice.\\r\\nDining room: 3.53m. x 3.3m. Engineered timber floors. Under-stairs storage. \\r\\nKitchen/breakfast room: 4.22m. x 4.12m. Superb contemporary and stylish fitted kitchen units with soft close doors &amp; drawers. Fully integrated fridge freezer, washing machine, dishwasher, oven etc. Stainless steel sink. Recessed lighting. Part tiled walls. Tiled floor. Glazed French Doors opening onto an easily maintained sunny paved patio area.   \\r\\nGuest w.c: Quality sanitary ware. Recessed lighting.\\r\\nFirst floor return:\\r\\nBedroom 1:  3.17m. x 2.31m.\\r\\nFirst floor:\\r\\nBedroom 2:  2.92m. x 2.36m.\\r\\nBedroom 3:  Master Room. 4.55m. x 2.74m. Built-in wardrobes. \\r\\nBathroom: High quality sanitary ware with stylish wall &amp; floor tiling. Bath with wall\\r\\nmounted shower and fitted shower screen. \\r\\nLanding: Unit with fitted combi gas boiler. Access to attic area. Skylight.\\r\\nAttic: 4.78m x 3.35m. Fully insulated and floored. Skylight to the rear. Pull down folding stairs. (Ideal for home office or storage room). \\r\\nOutside: Railed to the front with pedestrian gate entrance. Tiled pedestrian access. Large paved area to the rear with attractive flower bed. External tap and wall light. Pedestrian rear access.                                                                                                                                                                                                                                                                                                                                                                                                                                                                                                                                                                                                                                                                                                                                                                                                                                                                                                                                                                                                                                                                                                                                                                                                                                                                                                                                                                                                                                                                                                                                      \n",
              "2979  Earnest estate agents are delighted to present No. 181 The Spinnaker, Arran Quay to the market. \\n\\n\\r\\nThis property is a 2 bedroom apartment  situated in the heart of Smithfield adjacent to The Four Courts. This 3rd Floor apartment overlooks the River Liffey and will be of interest to both home owners and investors alike. \\n\\r\\nThis well laid out apartment comprises of bright and spacious open plan Living / dining / kitchen area which has been modernized in recent years. The bedrooms are both doubles with laminate flooring. \\r\\nThe bathroom also has been refurbished in recent years and includes bath, WC, WHB and vanity unit. \\n\\r\\nThe convenience of the location cannot be overstated with the City Centre, Smithfield and Temple Bar all within walking distance, it enjoys a host of amenities in the area, including shops, bars and restaurants. The LUAS is located on your doorstep and Heuston Station is a close two stops away.                                                                                                                                                                                                                                                                                                                                                                                                                                                                                                                                                                                                                                                                                                                                                                                                                                                                                                                                                                                                                                                                                                                                                                                                                                                                                                                                                                                                                                                                                                                                                                                                                                                                                                                                                                                                                                                                                                                                                                                                                                                                                                                                                                                                                                                                                                                                                                                                                                                                                                                                                                                                                                                                                                                                                                                                                                                                                                     \n",
              "2980  Janet Carroll Estate Agents are pleased to present number 9 Pine Avenue for sale by Private Treaty. This end of terraced property measures circa 97 sqm/ 1,044 sqft and is set in a leafy development that always captures buyers' interest, Westminster Park in Foxrock. Like any song, it is important to hit all the right notes and Westminster Park gets it just right. Whether it be schools, transport, amenities or family this development is such an all-rounder.\\n\\r\\nThe house itself has three bedrooms (one with ensuite), conservatory, South West facing garden and off-street parking. It has superb scope to adapt to the new owners' requirements. Other neighbours have created amazing homes with a similar footprint, so these properties are adaptable. \\n\\r\\nFor those with education in mind, one of the premier national schools in Dublin, Holly Park, is a short distance away. It caters for boys and girls and has a superb reputation. Loreto girls' school is a one-minute walk, another great option. The 46A is directly outside on the N11 and links to both Dun Laoghaire and The Phoenix Park respectively. Foxrock Village, Stillorgan shopping centre are nearby and Dundrum Town Centre is a short drive away.\\n\\r\\nFor those seeking a lovely home in a thriving community look no further than 9 Pine Avenue.\\n\\r\\nSPECIAL FEATURES\\n\\r\\n- Prime location in low density mature development\\r\\n- End of terraced\\r\\n- 3 Bedrooms (1 with ensuite)\\r\\n- C. 1,044 sqft/ 97 sqm \\r\\n- Conservatory\\r\\n- Gas fired central heating\\r\\n- South west facing rear garden\\r\\n- Off street parking \\r\\n- Cul de sac\\r\\n- Bus routes 46A and 145\\r\\n- Very close to the N11 and swift access to the M50\\r\\n- Foxrock Village nearby\\n\\r\\nLOCAL SCHOOLS\\n\\r\\n- Loreto College Foxrock\\r\\n- Hollypark National Schools\\r\\n- St. Brigid's Boys National School\\r\\n- Lycee Francais d'Irlande, Foxrock Avenue\\r\\n- Oatlands College\\n\\r\\nACCOMMODATION\\n\\r\\nEntrance Hall: c. 4.00m x 2.11m\\r\\nLaminate flooring.\\n\\r\\nGuest W/C: \\r\\nWash hand basin and w/c.\\n\\r\\nLiving Room: c. 4.87m x 3.80m\\r\\nLaminate floor, windows to the front, fireplace and double doors to the kitchen/ dining room.\\n\\r\\nKitchen/ Dining Room: c. 6.01m x 3.47m\\r\\nThe kitchen is tiled and has plenty of wall and floor units for storage. Double oven, induction hob, stainless steel sink, tiled splashback and Indesit washing machine. Windows to the rear garden. \\n\\r\\nConservatory: c. 3.64m x 3.31m\\r\\nThis is simply a great addition to the house with space that gets south west facing light.\\n\\r\\nUPSTAIRS\\n\\r\\nBedroom 1: c. 4.13m x 3.55m\\r\\nFitted carpet, built in wardrobes.\\n\\r\\nEn Suite: c. 2.37m x 1.81m\\r\\nA clever feature of this room is hidden through what appears to be a wardrobe door! It works very well as the line of doors keeps the room looking uniform. Wash hand basin, w/c, step in shower.\\n\\r\\nBedroom 2: c. 3.21m x 2.76m\\r\\nFitted carpet, built in wardrobes.\\n\\r\\nBedroom 3: c. 2.76m x 2.11m\\r\\nFitted carpet.\\n\\r\\nBathroom: c. 2.22m x 1.96m\\r\\nBath, wash hand basin, w/c, Velux for ventilation.\\n\\r\\nOUTSIDE\\n\\r\\nTo the front there is off street parking and plenty of parking in the development itself. To the rear is a south westerly garden. This is the ideal orientation for those who want to enjoy the sun throughout the day.\\n\\r\\nDIRECTIONS\\n\\r\\nIf travelling from City Centre on the N11/Stillorgan Road turn right towards Springfield Park and Loreto College, Foxrock. Turn right immediately onto Westminster Park. Stay on this road on Pine Avenue. The property is on the left hand side. \\n\\r\\nBER DETAILS\\n\\r\\nBER: C3\\r\\nBER No: 100579143 \\r\\nEnergy Performance Indicator: 215.16 kWh/m2/yr\\n\\r\\nVIEWING\\n\\r\\nBy appointment with Andrew Rhatigan at 086 4097485 or 01 2882020   \n",
              "2981  ON VIEW SATURDAY 7 TH MARCH 2020 11:30 AM - 12 PM\\n\\nSherry FitzGerald are delighted to present 81 Greentrees Road to the market. This attractive three-bedroom semi-detached family home has been lovingly maintained by the current owners over the years. Enjoying an excellent location on this highly desirable Dublin 12 road, this fine home combines light filled living accommodation and garage to offer the perfect package to create a family home for life. \\n\\nBuilt in 1950 s, this charming home has been wonderfully upgraded and extended offering the discerning buyer huge scope to place one s own stamp and create a modern family home. Beyond the hall door of this charming home a bright hall leads to three interconnecting reception rooms while a kitchen, guest w.c., utility and garage to the side of the property completes the ground floor. Upstairs, three generous bedrooms, a family bathroom complete the picture. \\n\\nThe location is first class within close proximity to Terenure and Templeogue villages with their array of bijou eateries and specialty shops. Excellent choice of schools to include St. Pius X, Our Lady s Templeogue, Terenure and Templeogue Colleges are nearby. Leisure facilities include Bushy Park and its recreational amenities and adjoining parklands along the River Dodder, good public transport routes to the city and easy access to the M50.\\n\\nSure to appeal too many, early viewing comes highly recommended!\\n\\n\\nEntrance Hall 2.04m x 4.58m.\\n\\nLiving Room 3.88m x 3.55m.\\n\\nDining Room 3.87m x 4.08m.\\n\\nFamily Room 3.16m x 3.23m.\\n\\nKitchen 5.22m x 4.79m.\\n\\nUtility Room 2.42m x 3.08m.\\nWC 0.84m x 1.39m.\\n\\nBedroom 1 3.53m x 3.59m.\\n\\nBedroom 2 3.53m x 4.10m.\\n\\nBedroom 3 2.57m x 2.56m.\\n\\nBathroom 2.41m x 2.41m.\\n\\nGarage 2.63m x 1.67m.                                                                                                                                                                                                                                                                                                                                                                                                                                                                                                                                                                                                                                                                                                                                                                                                                                                                                                                                                                                                                                                                                                                                                                                                                                                                                                                                                                                                                                                                                                                                                                                                                                                                                                                                                                                                                                                                                                                                                                                                                            \n",
              "\n",
              "     environment                           facility  \\\n",
              "2977  prod        NaN                                 \n",
              "2978  prod        NaN                                 \n",
              "2979  prod        Wired for Cable Television          \n",
              "2980  prod        Parking,Gas Fired Central Heating   \n",
              "2981  prod        NaN                                 \n",
              "\n",
              "                                                                                                                                                                                                                                                                                       features  \\\n",
              "2977  Prime Location\\nManagement Co: Core Property Management\\nService Charge: €1,750 approx.\\nSpacious two bedroom fourth floor apartment on Grand Canal Street Upper\\nLandscaped courtyard, roof garden\\nDesignated underground car parking space\\nExceptional rental opportunity\\nIntercom\\n   \n",
              "2978  Totally refurbished to the highest standard. \\nLight filled and well proportioned accommodation.\\nGas central heating. \\nQuality double glazed windows with sash double glazed windows to the front. \\nContemporary and stylish fitted kitchen and quality bathroom. \\n                     \n",
              "2979  OVERLOOKING THE RIVER LIFFEY \\n3RD FLOOR APARTMENT \\nSOUTH EAST ASPECT \\nSOUGHT AFTER DEVELOPMENT \\nNEXT DOOR TO RED LUAS LINE ( SMITHFIELD )\\nALL POSSIBLE AMENTIES NEARBY \\nRENT FROM MAY 2020 WILL BE APPROX 1956PM \\nSERVICE CHARGE APPROX 1400PA\\n                                     \n",
              "2980  None                                                                                                                                                                                                                                                                                        \n",
              "2981  Charming three-bedroom family home\\nMinutes away from a range of Primary &amp; Secondary schools and exceptional amenities\\nClose to M50 Road Network\\n                                                                                                                                     \n",
              "\n",
              "       latitude  longitude  no_of_units     price property_category  \\\n",
              "2977  53.338738 -6.237199  NaN           415000.0  sale               \n",
              "2978  53.335793 -6.294268  NaN           485000.0  sale               \n",
              "2979  53.346098 -6.276856  NaN           299000.0  sale               \n",
              "2980  53.273518 -6.178500  NaN           495000.0  sale               \n",
              "2981  53.310073 -6.325158  NaN           525000.0  sale               \n",
              "\n",
              "       property_type  surface  \n",
              "2977  apartment       56.0     \n",
              "2978  terraced        101.0    \n",
              "2979  apartment       55.6     \n",
              "2980  end-of-terrace  97.0     \n",
              "2981  semi-detached   129.3    "
            ]
          },
          "metadata": {},
          "execution_count": 14
        }
      ]
    },
    {
      "cell_type": "code",
      "metadata": {
        "id": "JaAlFTj-eili"
      },
      "source": [
        "#  drop the two attributes that contain large blocks of free text as they are of no value for a predictive model\n",
        "df_train.drop(\"description_block\", axis=1, inplace=True)\n",
        "df_train.drop(\"features\", axis=1, inplace=True)\n",
        "df_test.drop(\"description_block\", axis=1, inplace=True)\n",
        "df_test.drop(\"features\", axis=1, inplace=True)"
      ],
      "execution_count": 15,
      "outputs": []
    },
    {
      "cell_type": "code",
      "metadata": {
        "colab": {
          "base_uri": "https://localhost:8080/",
          "height": 204
        },
        "id": "YaDqjB8nT6S2",
        "outputId": "68736340-51e2-4cdd-af75-d202f506a4a5"
      },
      "source": [
        "# print the last 5 rows of the training dataframe\n",
        "df_train.tail(5)"
      ],
      "execution_count": 16,
      "outputs": [
        {
          "output_type": "execute_result",
          "data": {
            "text/html": [
              "<div>\n",
              "<style scoped>\n",
              "    .dataframe tbody tr th:only-of-type {\n",
              "        vertical-align: middle;\n",
              "    }\n",
              "\n",
              "    .dataframe tbody tr th {\n",
              "        vertical-align: top;\n",
              "    }\n",
              "\n",
              "    .dataframe thead th {\n",
              "        text-align: right;\n",
              "    }\n",
              "</style>\n",
              "<table border=\"1\" class=\"dataframe\">\n",
              "  <thead>\n",
              "    <tr style=\"text-align: right;\">\n",
              "      <th></th>\n",
              "      <th>ad_id</th>\n",
              "      <th>area</th>\n",
              "      <th>bathrooms</th>\n",
              "      <th>beds</th>\n",
              "      <th>ber_classification</th>\n",
              "      <th>county</th>\n",
              "      <th>environment</th>\n",
              "      <th>facility</th>\n",
              "      <th>latitude</th>\n",
              "      <th>longitude</th>\n",
              "      <th>no_of_units</th>\n",
              "      <th>price</th>\n",
              "      <th>property_category</th>\n",
              "      <th>property_type</th>\n",
              "      <th>surface</th>\n",
              "    </tr>\n",
              "  </thead>\n",
              "  <tbody>\n",
              "    <tr>\n",
              "      <th>2977</th>\n",
              "      <td>12428232</td>\n",
              "      <td>Ballsbridge</td>\n",
              "      <td>2.0</td>\n",
              "      <td>2.0</td>\n",
              "      <td>C3</td>\n",
              "      <td>Dublin</td>\n",
              "      <td>prod</td>\n",
              "      <td>NaN</td>\n",
              "      <td>53.338738</td>\n",
              "      <td>-6.237199</td>\n",
              "      <td>NaN</td>\n",
              "      <td>415000.0</td>\n",
              "      <td>sale</td>\n",
              "      <td>apartment</td>\n",
              "      <td>56.0</td>\n",
              "    </tr>\n",
              "    <tr>\n",
              "      <th>2978</th>\n",
              "      <td>12428240</td>\n",
              "      <td>Rialto</td>\n",
              "      <td>1.0</td>\n",
              "      <td>3.0</td>\n",
              "      <td>B2</td>\n",
              "      <td>Dublin</td>\n",
              "      <td>prod</td>\n",
              "      <td>NaN</td>\n",
              "      <td>53.335793</td>\n",
              "      <td>-6.294268</td>\n",
              "      <td>NaN</td>\n",
              "      <td>485000.0</td>\n",
              "      <td>sale</td>\n",
              "      <td>terraced</td>\n",
              "      <td>101.0</td>\n",
              "    </tr>\n",
              "    <tr>\n",
              "      <th>2979</th>\n",
              "      <td>12428247</td>\n",
              "      <td>Smithfield</td>\n",
              "      <td>1.0</td>\n",
              "      <td>2.0</td>\n",
              "      <td>C3</td>\n",
              "      <td>Dublin</td>\n",
              "      <td>prod</td>\n",
              "      <td>Wired for Cable Television</td>\n",
              "      <td>53.346098</td>\n",
              "      <td>-6.276856</td>\n",
              "      <td>NaN</td>\n",
              "      <td>299000.0</td>\n",
              "      <td>sale</td>\n",
              "      <td>apartment</td>\n",
              "      <td>55.6</td>\n",
              "    </tr>\n",
              "    <tr>\n",
              "      <th>2980</th>\n",
              "      <td>12428254</td>\n",
              "      <td>Foxrock</td>\n",
              "      <td>2.0</td>\n",
              "      <td>3.0</td>\n",
              "      <td>C3</td>\n",
              "      <td>Dublin</td>\n",
              "      <td>prod</td>\n",
              "      <td>Parking,Gas Fired Central Heating</td>\n",
              "      <td>53.273518</td>\n",
              "      <td>-6.178500</td>\n",
              "      <td>NaN</td>\n",
              "      <td>495000.0</td>\n",
              "      <td>sale</td>\n",
              "      <td>end-of-terrace</td>\n",
              "      <td>97.0</td>\n",
              "    </tr>\n",
              "    <tr>\n",
              "      <th>2981</th>\n",
              "      <td>12428358</td>\n",
              "      <td>Terenure</td>\n",
              "      <td>2.0</td>\n",
              "      <td>3.0</td>\n",
              "      <td>D2</td>\n",
              "      <td>Dublin</td>\n",
              "      <td>prod</td>\n",
              "      <td>NaN</td>\n",
              "      <td>53.310073</td>\n",
              "      <td>-6.325158</td>\n",
              "      <td>NaN</td>\n",
              "      <td>525000.0</td>\n",
              "      <td>sale</td>\n",
              "      <td>semi-detached</td>\n",
              "      <td>129.3</td>\n",
              "    </tr>\n",
              "  </tbody>\n",
              "</table>\n",
              "</div>"
            ],
            "text/plain": [
              "         ad_id         area  bathrooms  beds ber_classification  county  \\\n",
              "2977  12428232  Ballsbridge  2.0        2.0   C3                 Dublin   \n",
              "2978  12428240  Rialto       1.0        3.0   B2                 Dublin   \n",
              "2979  12428247  Smithfield   1.0        2.0   C3                 Dublin   \n",
              "2980  12428254  Foxrock      2.0        3.0   C3                 Dublin   \n",
              "2981  12428358  Terenure     2.0        3.0   D2                 Dublin   \n",
              "\n",
              "     environment                           facility   latitude  longitude  \\\n",
              "2977  prod        NaN                                53.338738 -6.237199    \n",
              "2978  prod        NaN                                53.335793 -6.294268    \n",
              "2979  prod        Wired for Cable Television         53.346098 -6.276856    \n",
              "2980  prod        Parking,Gas Fired Central Heating  53.273518 -6.178500    \n",
              "2981  prod        NaN                                53.310073 -6.325158    \n",
              "\n",
              "      no_of_units     price property_category   property_type  surface  \n",
              "2977 NaN           415000.0  sale              apartment       56.0     \n",
              "2978 NaN           485000.0  sale              terraced        101.0    \n",
              "2979 NaN           299000.0  sale              apartment       55.6     \n",
              "2980 NaN           495000.0  sale              end-of-terrace  97.0     \n",
              "2981 NaN           525000.0  sale              semi-detached   129.3    "
            ]
          },
          "metadata": {},
          "execution_count": 16
        }
      ]
    },
    {
      "cell_type": "code",
      "metadata": {
        "colab": {
          "base_uri": "https://localhost:8080/"
        },
        "id": "7HZGx2WBlAly",
        "outputId": "9a1de58e-8691-4e2a-c93e-cadc554db3f0"
      },
      "source": [
        "# calculate the number of unique values in each column of the dataframe\n",
        "nunique = df_train.nunique()\n",
        "print(nunique)"
      ],
      "execution_count": 17,
      "outputs": [
        {
          "output_type": "stream",
          "name": "stdout",
          "text": [
            "ad_id                 2982\n",
            "area                  156 \n",
            "bathrooms             13  \n",
            "beds                  15  \n",
            "ber_classification    16  \n",
            "county                1   \n",
            "environment           1   \n",
            "facility              34  \n",
            "latitude              2879\n",
            "longitude             2889\n",
            "no_of_units           22  \n",
            "price                 355 \n",
            "property_category     2   \n",
            "property_type         10  \n",
            "surface               909 \n",
            "dtype: int64\n"
          ]
        }
      ]
    },
    {
      "cell_type": "code",
      "metadata": {
        "colab": {
          "base_uri": "https://localhost:8080/"
        },
        "id": "9GJceyg2lYKb",
        "outputId": "ccf9d7ae-2903-41d2-fa47-375a1d4ab059"
      },
      "source": [
        "# drop the columns which only have a single unique value as they are of no value to us for a predictive model\n",
        "columns_to_drop = nunique[nunique == 1].index\n",
        "print('The columns to drop are', columns_to_drop)\n",
        "df_train.drop(columns_to_drop, axis=1, inplace=True)\n",
        "df_test.drop(columns_to_drop, axis=1, inplace=True)"
      ],
      "execution_count": 18,
      "outputs": [
        {
          "output_type": "stream",
          "name": "stdout",
          "text": [
            "The columns to drop are Index(['county', 'environment'], dtype='object')\n"
          ]
        }
      ]
    },
    {
      "cell_type": "code",
      "metadata": {
        "colab": {
          "base_uri": "https://localhost:8080/",
          "height": 204
        },
        "id": "IJaMa9LrmMB3",
        "outputId": "67dbf392-e558-4576-cbe8-64465af2e8cf"
      },
      "source": [
        "# print the last 5 rows of the training dataframe\n",
        "df_train.tail(5)"
      ],
      "execution_count": 19,
      "outputs": [
        {
          "output_type": "execute_result",
          "data": {
            "text/html": [
              "<div>\n",
              "<style scoped>\n",
              "    .dataframe tbody tr th:only-of-type {\n",
              "        vertical-align: middle;\n",
              "    }\n",
              "\n",
              "    .dataframe tbody tr th {\n",
              "        vertical-align: top;\n",
              "    }\n",
              "\n",
              "    .dataframe thead th {\n",
              "        text-align: right;\n",
              "    }\n",
              "</style>\n",
              "<table border=\"1\" class=\"dataframe\">\n",
              "  <thead>\n",
              "    <tr style=\"text-align: right;\">\n",
              "      <th></th>\n",
              "      <th>ad_id</th>\n",
              "      <th>area</th>\n",
              "      <th>bathrooms</th>\n",
              "      <th>beds</th>\n",
              "      <th>ber_classification</th>\n",
              "      <th>facility</th>\n",
              "      <th>latitude</th>\n",
              "      <th>longitude</th>\n",
              "      <th>no_of_units</th>\n",
              "      <th>price</th>\n",
              "      <th>property_category</th>\n",
              "      <th>property_type</th>\n",
              "      <th>surface</th>\n",
              "    </tr>\n",
              "  </thead>\n",
              "  <tbody>\n",
              "    <tr>\n",
              "      <th>2977</th>\n",
              "      <td>12428232</td>\n",
              "      <td>Ballsbridge</td>\n",
              "      <td>2.0</td>\n",
              "      <td>2.0</td>\n",
              "      <td>C3</td>\n",
              "      <td>NaN</td>\n",
              "      <td>53.338738</td>\n",
              "      <td>-6.237199</td>\n",
              "      <td>NaN</td>\n",
              "      <td>415000.0</td>\n",
              "      <td>sale</td>\n",
              "      <td>apartment</td>\n",
              "      <td>56.0</td>\n",
              "    </tr>\n",
              "    <tr>\n",
              "      <th>2978</th>\n",
              "      <td>12428240</td>\n",
              "      <td>Rialto</td>\n",
              "      <td>1.0</td>\n",
              "      <td>3.0</td>\n",
              "      <td>B2</td>\n",
              "      <td>NaN</td>\n",
              "      <td>53.335793</td>\n",
              "      <td>-6.294268</td>\n",
              "      <td>NaN</td>\n",
              "      <td>485000.0</td>\n",
              "      <td>sale</td>\n",
              "      <td>terraced</td>\n",
              "      <td>101.0</td>\n",
              "    </tr>\n",
              "    <tr>\n",
              "      <th>2979</th>\n",
              "      <td>12428247</td>\n",
              "      <td>Smithfield</td>\n",
              "      <td>1.0</td>\n",
              "      <td>2.0</td>\n",
              "      <td>C3</td>\n",
              "      <td>Wired for Cable Television</td>\n",
              "      <td>53.346098</td>\n",
              "      <td>-6.276856</td>\n",
              "      <td>NaN</td>\n",
              "      <td>299000.0</td>\n",
              "      <td>sale</td>\n",
              "      <td>apartment</td>\n",
              "      <td>55.6</td>\n",
              "    </tr>\n",
              "    <tr>\n",
              "      <th>2980</th>\n",
              "      <td>12428254</td>\n",
              "      <td>Foxrock</td>\n",
              "      <td>2.0</td>\n",
              "      <td>3.0</td>\n",
              "      <td>C3</td>\n",
              "      <td>Parking,Gas Fired Central Heating</td>\n",
              "      <td>53.273518</td>\n",
              "      <td>-6.178500</td>\n",
              "      <td>NaN</td>\n",
              "      <td>495000.0</td>\n",
              "      <td>sale</td>\n",
              "      <td>end-of-terrace</td>\n",
              "      <td>97.0</td>\n",
              "    </tr>\n",
              "    <tr>\n",
              "      <th>2981</th>\n",
              "      <td>12428358</td>\n",
              "      <td>Terenure</td>\n",
              "      <td>2.0</td>\n",
              "      <td>3.0</td>\n",
              "      <td>D2</td>\n",
              "      <td>NaN</td>\n",
              "      <td>53.310073</td>\n",
              "      <td>-6.325158</td>\n",
              "      <td>NaN</td>\n",
              "      <td>525000.0</td>\n",
              "      <td>sale</td>\n",
              "      <td>semi-detached</td>\n",
              "      <td>129.3</td>\n",
              "    </tr>\n",
              "  </tbody>\n",
              "</table>\n",
              "</div>"
            ],
            "text/plain": [
              "         ad_id         area  bathrooms  beds ber_classification  \\\n",
              "2977  12428232  Ballsbridge  2.0        2.0   C3                  \n",
              "2978  12428240  Rialto       1.0        3.0   B2                  \n",
              "2979  12428247  Smithfield   1.0        2.0   C3                  \n",
              "2980  12428254  Foxrock      2.0        3.0   C3                  \n",
              "2981  12428358  Terenure     2.0        3.0   D2                  \n",
              "\n",
              "                               facility   latitude  longitude  no_of_units  \\\n",
              "2977  NaN                                53.338738 -6.237199  NaN            \n",
              "2978  NaN                                53.335793 -6.294268  NaN            \n",
              "2979  Wired for Cable Television         53.346098 -6.276856  NaN            \n",
              "2980  Parking,Gas Fired Central Heating  53.273518 -6.178500  NaN            \n",
              "2981  NaN                                53.310073 -6.325158  NaN            \n",
              "\n",
              "         price property_category   property_type  surface  \n",
              "2977  415000.0  sale              apartment       56.0     \n",
              "2978  485000.0  sale              terraced        101.0    \n",
              "2979  299000.0  sale              apartment       55.6     \n",
              "2980  495000.0  sale              end-of-terrace  97.0     \n",
              "2981  525000.0  sale              semi-detached   129.3    "
            ]
          },
          "metadata": {},
          "execution_count": 19
        }
      ]
    },
    {
      "cell_type": "code",
      "metadata": {
        "colab": {
          "base_uri": "https://localhost:8080/"
        },
        "id": "MwFDk_L_aFyc",
        "outputId": "ed1f2f6a-33df-489f-8e5c-132cb72f61e5"
      },
      "source": [
        "# let's check the property_category values\n",
        "df_train.property_category.drop_duplicates()"
      ],
      "execution_count": 20,
      "outputs": [
        {
          "output_type": "execute_result",
          "data": {
            "text/plain": [
              "0     new_development_parent\n",
              "59    sale                  \n",
              "Name: property_category, dtype: object"
            ]
          },
          "metadata": {},
          "execution_count": 20
        }
      ]
    },
    {
      "cell_type": "code",
      "metadata": {
        "id": "JxQKvllVFPuJ"
      },
      "source": [
        "# drop the property_category which only has one value 'sale' sparely populated so is of no value to us for a predictive model\n",
        "df_train.drop('property_category', axis=1, inplace=True)\n",
        "df_test.drop('property_category', axis=1, inplace=True)"
      ],
      "execution_count": 21,
      "outputs": []
    },
    {
      "cell_type": "code",
      "metadata": {
        "colab": {
          "base_uri": "https://localhost:8080/",
          "height": 204
        },
        "id": "eKJmITLXls-D",
        "outputId": "235b1616-9d72-40b5-d224-84ad0debba7a"
      },
      "source": [
        "# print the last 5 rows of the training dataframe\n",
        "df_train.tail(5)"
      ],
      "execution_count": 22,
      "outputs": [
        {
          "output_type": "execute_result",
          "data": {
            "text/html": [
              "<div>\n",
              "<style scoped>\n",
              "    .dataframe tbody tr th:only-of-type {\n",
              "        vertical-align: middle;\n",
              "    }\n",
              "\n",
              "    .dataframe tbody tr th {\n",
              "        vertical-align: top;\n",
              "    }\n",
              "\n",
              "    .dataframe thead th {\n",
              "        text-align: right;\n",
              "    }\n",
              "</style>\n",
              "<table border=\"1\" class=\"dataframe\">\n",
              "  <thead>\n",
              "    <tr style=\"text-align: right;\">\n",
              "      <th></th>\n",
              "      <th>ad_id</th>\n",
              "      <th>area</th>\n",
              "      <th>bathrooms</th>\n",
              "      <th>beds</th>\n",
              "      <th>ber_classification</th>\n",
              "      <th>facility</th>\n",
              "      <th>latitude</th>\n",
              "      <th>longitude</th>\n",
              "      <th>no_of_units</th>\n",
              "      <th>price</th>\n",
              "      <th>property_type</th>\n",
              "      <th>surface</th>\n",
              "    </tr>\n",
              "  </thead>\n",
              "  <tbody>\n",
              "    <tr>\n",
              "      <th>2977</th>\n",
              "      <td>12428232</td>\n",
              "      <td>Ballsbridge</td>\n",
              "      <td>2.0</td>\n",
              "      <td>2.0</td>\n",
              "      <td>C3</td>\n",
              "      <td>NaN</td>\n",
              "      <td>53.338738</td>\n",
              "      <td>-6.237199</td>\n",
              "      <td>NaN</td>\n",
              "      <td>415000.0</td>\n",
              "      <td>apartment</td>\n",
              "      <td>56.0</td>\n",
              "    </tr>\n",
              "    <tr>\n",
              "      <th>2978</th>\n",
              "      <td>12428240</td>\n",
              "      <td>Rialto</td>\n",
              "      <td>1.0</td>\n",
              "      <td>3.0</td>\n",
              "      <td>B2</td>\n",
              "      <td>NaN</td>\n",
              "      <td>53.335793</td>\n",
              "      <td>-6.294268</td>\n",
              "      <td>NaN</td>\n",
              "      <td>485000.0</td>\n",
              "      <td>terraced</td>\n",
              "      <td>101.0</td>\n",
              "    </tr>\n",
              "    <tr>\n",
              "      <th>2979</th>\n",
              "      <td>12428247</td>\n",
              "      <td>Smithfield</td>\n",
              "      <td>1.0</td>\n",
              "      <td>2.0</td>\n",
              "      <td>C3</td>\n",
              "      <td>Wired for Cable Television</td>\n",
              "      <td>53.346098</td>\n",
              "      <td>-6.276856</td>\n",
              "      <td>NaN</td>\n",
              "      <td>299000.0</td>\n",
              "      <td>apartment</td>\n",
              "      <td>55.6</td>\n",
              "    </tr>\n",
              "    <tr>\n",
              "      <th>2980</th>\n",
              "      <td>12428254</td>\n",
              "      <td>Foxrock</td>\n",
              "      <td>2.0</td>\n",
              "      <td>3.0</td>\n",
              "      <td>C3</td>\n",
              "      <td>Parking,Gas Fired Central Heating</td>\n",
              "      <td>53.273518</td>\n",
              "      <td>-6.178500</td>\n",
              "      <td>NaN</td>\n",
              "      <td>495000.0</td>\n",
              "      <td>end-of-terrace</td>\n",
              "      <td>97.0</td>\n",
              "    </tr>\n",
              "    <tr>\n",
              "      <th>2981</th>\n",
              "      <td>12428358</td>\n",
              "      <td>Terenure</td>\n",
              "      <td>2.0</td>\n",
              "      <td>3.0</td>\n",
              "      <td>D2</td>\n",
              "      <td>NaN</td>\n",
              "      <td>53.310073</td>\n",
              "      <td>-6.325158</td>\n",
              "      <td>NaN</td>\n",
              "      <td>525000.0</td>\n",
              "      <td>semi-detached</td>\n",
              "      <td>129.3</td>\n",
              "    </tr>\n",
              "  </tbody>\n",
              "</table>\n",
              "</div>"
            ],
            "text/plain": [
              "         ad_id         area  bathrooms  beds ber_classification  \\\n",
              "2977  12428232  Ballsbridge  2.0        2.0   C3                  \n",
              "2978  12428240  Rialto       1.0        3.0   B2                  \n",
              "2979  12428247  Smithfield   1.0        2.0   C3                  \n",
              "2980  12428254  Foxrock      2.0        3.0   C3                  \n",
              "2981  12428358  Terenure     2.0        3.0   D2                  \n",
              "\n",
              "                               facility   latitude  longitude  no_of_units  \\\n",
              "2977  NaN                                53.338738 -6.237199  NaN            \n",
              "2978  NaN                                53.335793 -6.294268  NaN            \n",
              "2979  Wired for Cable Television         53.346098 -6.276856  NaN            \n",
              "2980  Parking,Gas Fired Central Heating  53.273518 -6.178500  NaN            \n",
              "2981  NaN                                53.310073 -6.325158  NaN            \n",
              "\n",
              "         price   property_type  surface  \n",
              "2977  415000.0  apartment       56.0     \n",
              "2978  485000.0  terraced        101.0    \n",
              "2979  299000.0  apartment       55.6     \n",
              "2980  495000.0  end-of-terrace  97.0     \n",
              "2981  525000.0  semi-detached   129.3    "
            ]
          },
          "metadata": {},
          "execution_count": 22
        }
      ]
    },
    {
      "cell_type": "code",
      "metadata": {
        "colab": {
          "base_uri": "https://localhost:8080/"
        },
        "id": "SW69mhEHK6DE",
        "outputId": "2708c004-f636-49fa-b0da-c3979a1aca57"
      },
      "source": [
        "# let's check the missing values across the attributes as a percentage (https://medium.com/dunder-data/finding-the-percentage-of-missing-values-in-a-pandas-dataframe-a04fa00f84ab)\n",
        "df_train.isna().mean().round(4) * 100"
      ],
      "execution_count": 23,
      "outputs": [
        {
          "output_type": "execute_result",
          "data": {
            "text/plain": [
              "ad_id                 0.00 \n",
              "area                  0.00 \n",
              "bathrooms             1.71 \n",
              "beds                  1.71 \n",
              "ber_classification    22.70\n",
              "facility              67.64\n",
              "latitude              0.00 \n",
              "longitude             0.00 \n",
              "no_of_units           98.02\n",
              "price                 3.02 \n",
              "property_type         1.71 \n",
              "surface               18.48\n",
              "dtype: float64"
            ]
          },
          "metadata": {},
          "execution_count": 23
        }
      ]
    },
    {
      "cell_type": "markdown",
      "metadata": {
        "id": "wWStC4YzJO5P"
      },
      "source": [
        "Now let's tackle the two attributes 'facility' and 'no_of_units' that seem to contain a significant number of NaNs."
      ]
    },
    {
      "cell_type": "code",
      "metadata": {
        "colab": {
          "base_uri": "https://localhost:8080/"
        },
        "id": "MT32JVThKFe1",
        "outputId": "0aa4d5f4-db92-4077-ed37-76344fae8a25"
      },
      "source": [
        "# let's check the facility values\n",
        "df_train.facility.drop_duplicates()"
      ],
      "execution_count": 24,
      "outputs": [
        {
          "output_type": "execute_result",
          "data": {
            "text/plain": [
              "0       NaN                                                                                         \n",
              "59      Parking                                                                                     \n",
              "60      Parking,Gas Fired Central Heating,Wired for Cable Television                                \n",
              "69      Parking,Alarm,Wired for Cable Television,Oil Fired Central Heating                          \n",
              "70      Parking,Gas Fired Central Heating,Alarm                                                     \n",
              "71      Parking,Gas Fired Central Heating                                                           \n",
              "77      Parking,Oil Fired Central Heating                                                           \n",
              "89      Parking,Gas Fired Central Heating,Wheelchair Access                                         \n",
              "91      Parking,Gas Fired Central Heating,Alarm,Wired for Cable Television,Oil Fired Central Heating\n",
              "92      Gas Fired Central Heating                                                                   \n",
              "93      Parking,Gas Fired Central Heating,Alarm,Wired for Cable Television                          \n",
              "98      Parking,Gas Fired Central Heating,Alarm,Wired for Cable Television,Wheelchair Access        \n",
              "101     Parking,Alarm,Oil Fired Central Heating                                                     \n",
              "113     Parking,Wired for Cable Television,Oil Fired Central Heating                                \n",
              "121     Parking,Alarm                                                                               \n",
              "143     Parking,Wired for Cable Television                                                          \n",
              "146     Parking,Alarm,Wired for Cable Television                                                    \n",
              "157     Gas Fired Central Heating,Alarm                                                             \n",
              "172     Wired for Cable Television                                                                  \n",
              "255     Parking,Gas Fired Central Heating,Wired for Cable Television,Wheelchair Access              \n",
              "263     Oil Fired Central Heating                                                                   \n",
              "286     Alarm,Wired for Cable Television                                                            \n",
              "288     Gas Fired Central Heating,Wired for Cable Television                                        \n",
              "292     Alarm                                                                                       \n",
              "363     Wheelchair Access                                                                           \n",
              "380     Gas Fired Central Heating,Alarm,Wired for Cable Television                                  \n",
              "389     Parking,Gas Fired Central Heating,Alarm,Wheelchair Access                                   \n",
              "518     Parking,Wheelchair Access,Oil Fired Central Heating                                         \n",
              "560     Parking,Wired for Cable Television,Wheelchair Access                                        \n",
              "793     Parking,Alarm,Wired for Cable Television,Wheelchair Access                                  \n",
              "803     Parking,Wired for Cable Television,Wheelchair Access,Oil Fired Central Heating              \n",
              "1180    Alarm,Oil Fired Central Heating                                                             \n",
              "1597    Gas Fired Central Heating,Alarm,Wired for Cable Television,Wheelchair Access                \n",
              "2361    Parking,Wheelchair Access                                                                   \n",
              "2377    Parking,Alarm,Wired for Cable Television,Wheelchair Access,Oil Fired Central Heating        \n",
              "Name: facility, dtype: object"
            ]
          },
          "metadata": {},
          "execution_count": 24
        }
      ]
    },
    {
      "cell_type": "code",
      "metadata": {
        "id": "kk0S1_smKjCg"
      },
      "source": [
        "# drop the facility attribute which is mainly populated with Nans and the the remaining values are free text so it is of no value for a predictive model\n",
        "df_train.drop('facility', axis=1, inplace=True)\n",
        "df_test.drop('facility', axis=1, inplace=True)"
      ],
      "execution_count": 25,
      "outputs": []
    },
    {
      "cell_type": "code",
      "metadata": {
        "colab": {
          "base_uri": "https://localhost:8080/"
        },
        "id": "Cf7s3hJWNJGS",
        "outputId": "102537c5-4b58-4d17-9330-e0543ceec6d6"
      },
      "source": [
        "# let's check the no_of_units values\n",
        "df_train.no_of_units.drop_duplicates()"
      ],
      "execution_count": 26,
      "outputs": [
        {
          "output_type": "execute_result",
          "data": {
            "text/plain": [
              "0     18.0\n",
              "1     3.0 \n",
              "3     30.0\n",
              "4     8.0 \n",
              "6     2.0 \n",
              "8     4.0 \n",
              "10    24.0\n",
              "11    0.0 \n",
              "12    35.0\n",
              "13    9.0 \n",
              "14    5.0 \n",
              "15    1.0 \n",
              "18    7.0 \n",
              "19    36.0\n",
              "20    16.0\n",
              "21    12.0\n",
              "23    32.0\n",
              "29    6.0 \n",
              "43    23.0\n",
              "45    15.0\n",
              "48    19.0\n",
              "50    14.0\n",
              "59   NaN  \n",
              "Name: no_of_units, dtype: float64"
            ]
          },
          "metadata": {},
          "execution_count": 26
        }
      ]
    },
    {
      "cell_type": "code",
      "metadata": {
        "id": "LTJX69yUNRwy"
      },
      "source": [
        "# drop the no_of_units attribute which is mainly populated with Nans so it is of no value for a predictive model\n",
        "df_train.drop('no_of_units', axis=1, inplace=True)\n",
        "df_test.drop('no_of_units', axis=1, inplace=True)"
      ],
      "execution_count": 27,
      "outputs": []
    },
    {
      "cell_type": "code",
      "metadata": {
        "colab": {
          "base_uri": "https://localhost:8080/",
          "height": 204
        },
        "id": "zphhzV9eh6Tf",
        "outputId": "0bd8a6f4-48ea-49b7-8dde-ae18fd877076"
      },
      "source": [
        "# print the last 5 rows of the training dataframe\n",
        "df_train.tail(5)"
      ],
      "execution_count": 28,
      "outputs": [
        {
          "output_type": "execute_result",
          "data": {
            "text/html": [
              "<div>\n",
              "<style scoped>\n",
              "    .dataframe tbody tr th:only-of-type {\n",
              "        vertical-align: middle;\n",
              "    }\n",
              "\n",
              "    .dataframe tbody tr th {\n",
              "        vertical-align: top;\n",
              "    }\n",
              "\n",
              "    .dataframe thead th {\n",
              "        text-align: right;\n",
              "    }\n",
              "</style>\n",
              "<table border=\"1\" class=\"dataframe\">\n",
              "  <thead>\n",
              "    <tr style=\"text-align: right;\">\n",
              "      <th></th>\n",
              "      <th>ad_id</th>\n",
              "      <th>area</th>\n",
              "      <th>bathrooms</th>\n",
              "      <th>beds</th>\n",
              "      <th>ber_classification</th>\n",
              "      <th>latitude</th>\n",
              "      <th>longitude</th>\n",
              "      <th>price</th>\n",
              "      <th>property_type</th>\n",
              "      <th>surface</th>\n",
              "    </tr>\n",
              "  </thead>\n",
              "  <tbody>\n",
              "    <tr>\n",
              "      <th>2977</th>\n",
              "      <td>12428232</td>\n",
              "      <td>Ballsbridge</td>\n",
              "      <td>2.0</td>\n",
              "      <td>2.0</td>\n",
              "      <td>C3</td>\n",
              "      <td>53.338738</td>\n",
              "      <td>-6.237199</td>\n",
              "      <td>415000.0</td>\n",
              "      <td>apartment</td>\n",
              "      <td>56.0</td>\n",
              "    </tr>\n",
              "    <tr>\n",
              "      <th>2978</th>\n",
              "      <td>12428240</td>\n",
              "      <td>Rialto</td>\n",
              "      <td>1.0</td>\n",
              "      <td>3.0</td>\n",
              "      <td>B2</td>\n",
              "      <td>53.335793</td>\n",
              "      <td>-6.294268</td>\n",
              "      <td>485000.0</td>\n",
              "      <td>terraced</td>\n",
              "      <td>101.0</td>\n",
              "    </tr>\n",
              "    <tr>\n",
              "      <th>2979</th>\n",
              "      <td>12428247</td>\n",
              "      <td>Smithfield</td>\n",
              "      <td>1.0</td>\n",
              "      <td>2.0</td>\n",
              "      <td>C3</td>\n",
              "      <td>53.346098</td>\n",
              "      <td>-6.276856</td>\n",
              "      <td>299000.0</td>\n",
              "      <td>apartment</td>\n",
              "      <td>55.6</td>\n",
              "    </tr>\n",
              "    <tr>\n",
              "      <th>2980</th>\n",
              "      <td>12428254</td>\n",
              "      <td>Foxrock</td>\n",
              "      <td>2.0</td>\n",
              "      <td>3.0</td>\n",
              "      <td>C3</td>\n",
              "      <td>53.273518</td>\n",
              "      <td>-6.178500</td>\n",
              "      <td>495000.0</td>\n",
              "      <td>end-of-terrace</td>\n",
              "      <td>97.0</td>\n",
              "    </tr>\n",
              "    <tr>\n",
              "      <th>2981</th>\n",
              "      <td>12428358</td>\n",
              "      <td>Terenure</td>\n",
              "      <td>2.0</td>\n",
              "      <td>3.0</td>\n",
              "      <td>D2</td>\n",
              "      <td>53.310073</td>\n",
              "      <td>-6.325158</td>\n",
              "      <td>525000.0</td>\n",
              "      <td>semi-detached</td>\n",
              "      <td>129.3</td>\n",
              "    </tr>\n",
              "  </tbody>\n",
              "</table>\n",
              "</div>"
            ],
            "text/plain": [
              "         ad_id         area  bathrooms  beds ber_classification   latitude  \\\n",
              "2977  12428232  Ballsbridge  2.0        2.0   C3                 53.338738   \n",
              "2978  12428240  Rialto       1.0        3.0   B2                 53.335793   \n",
              "2979  12428247  Smithfield   1.0        2.0   C3                 53.346098   \n",
              "2980  12428254  Foxrock      2.0        3.0   C3                 53.273518   \n",
              "2981  12428358  Terenure     2.0        3.0   D2                 53.310073   \n",
              "\n",
              "      longitude     price   property_type  surface  \n",
              "2977 -6.237199   415000.0  apartment       56.0     \n",
              "2978 -6.294268   485000.0  terraced        101.0    \n",
              "2979 -6.276856   299000.0  apartment       55.6     \n",
              "2980 -6.178500   495000.0  end-of-terrace  97.0     \n",
              "2981 -6.325158   525000.0  semi-detached   129.3    "
            ]
          },
          "metadata": {},
          "execution_count": 28
        }
      ]
    },
    {
      "cell_type": "code",
      "metadata": {
        "colab": {
          "base_uri": "https://localhost:8080/"
        },
        "id": "oYXmbVxpsz8q",
        "outputId": "a9dee041-3ac3-4629-9a97-95023f3b2007"
      },
      "source": [
        "# let's check the ber_classification values\n",
        "print (df_train['ber_classification'].sort_values().unique())"
      ],
      "execution_count": 29,
      "outputs": [
        {
          "output_type": "stream",
          "name": "stdout",
          "text": [
            "['A1' 'A2' 'A3' 'B1' 'B2' 'B3' 'C1' 'C2' 'C3' 'D1' 'D2' 'E1' 'E2' 'F' 'G'\n",
            " 'SINo666of2006exempt' nan]\n"
          ]
        }
      ]
    },
    {
      "cell_type": "code",
      "metadata": {
        "colab": {
          "base_uri": "https://localhost:8080/"
        },
        "id": "S8vHsBP0yTkE",
        "outputId": "8f77c54a-53f4-4f73-ca02-caf8b212814a"
      },
      "source": [
        "# let's check the ber_classification values for NaNs\n",
        "df_train.ber_classification.drop_duplicates()"
      ],
      "execution_count": 30,
      "outputs": [
        {
          "output_type": "execute_result",
          "data": {
            "text/plain": [
              "0      NaN                \n",
              "15     A3                 \n",
              "35     A2                 \n",
              "60     E2                 \n",
              "61     G                  \n",
              "62     C1                 \n",
              "64     F                  \n",
              "66     C2                 \n",
              "67     C3                 \n",
              "71     D2                 \n",
              "73     D1                 \n",
              "75     B2                 \n",
              "88     E1                 \n",
              "89     SINo666of2006exempt\n",
              "101    B3                 \n",
              "356    B1                 \n",
              "425    A1                 \n",
              "Name: ber_classification, dtype: object"
            ]
          },
          "metadata": {},
          "execution_count": 30
        }
      ]
    },
    {
      "cell_type": "code",
      "metadata": {
        "colab": {
          "base_uri": "https://localhost:8080/",
          "height": 204
        },
        "id": "swlT27ta2YSe",
        "outputId": "69dc2b4a-6446-4a4e-9c9b-e7fdc5be1311"
      },
      "source": [
        "# encode the ordinal ber_classification month \n",
        "# create a mapper\n",
        "\n",
        "scale_mapper = {\n",
        "    'A1': 1, \n",
        "    'A2': 2, \n",
        "    'A3': 3, \n",
        "    'B1': 4, \n",
        "    'B2': 5, \n",
        "    'B3': 6, \n",
        "    'C1': 7, \n",
        "    'C2': 8, \n",
        "    'C3': 9, \n",
        "    'D1': 10, \n",
        "    'D2': 11, \n",
        "    'E1': 12, \n",
        "    'E2': 13, \n",
        "    'F': 14, \n",
        "    'G': 15,\n",
        "    'SINo666of2006exempt': 16\n",
        "}\n",
        "\n",
        "df_train['ber_classification'] = df_train['ber_classification'].replace(scale_mapper)\n",
        "df_test['ber_classification'] = df_test['ber_classification'].replace(scale_mapper)\n",
        "df_train.tail()"
      ],
      "execution_count": 31,
      "outputs": [
        {
          "output_type": "execute_result",
          "data": {
            "text/html": [
              "<div>\n",
              "<style scoped>\n",
              "    .dataframe tbody tr th:only-of-type {\n",
              "        vertical-align: middle;\n",
              "    }\n",
              "\n",
              "    .dataframe tbody tr th {\n",
              "        vertical-align: top;\n",
              "    }\n",
              "\n",
              "    .dataframe thead th {\n",
              "        text-align: right;\n",
              "    }\n",
              "</style>\n",
              "<table border=\"1\" class=\"dataframe\">\n",
              "  <thead>\n",
              "    <tr style=\"text-align: right;\">\n",
              "      <th></th>\n",
              "      <th>ad_id</th>\n",
              "      <th>area</th>\n",
              "      <th>bathrooms</th>\n",
              "      <th>beds</th>\n",
              "      <th>ber_classification</th>\n",
              "      <th>latitude</th>\n",
              "      <th>longitude</th>\n",
              "      <th>price</th>\n",
              "      <th>property_type</th>\n",
              "      <th>surface</th>\n",
              "    </tr>\n",
              "  </thead>\n",
              "  <tbody>\n",
              "    <tr>\n",
              "      <th>2977</th>\n",
              "      <td>12428232</td>\n",
              "      <td>Ballsbridge</td>\n",
              "      <td>2.0</td>\n",
              "      <td>2.0</td>\n",
              "      <td>9.0</td>\n",
              "      <td>53.338738</td>\n",
              "      <td>-6.237199</td>\n",
              "      <td>415000.0</td>\n",
              "      <td>apartment</td>\n",
              "      <td>56.0</td>\n",
              "    </tr>\n",
              "    <tr>\n",
              "      <th>2978</th>\n",
              "      <td>12428240</td>\n",
              "      <td>Rialto</td>\n",
              "      <td>1.0</td>\n",
              "      <td>3.0</td>\n",
              "      <td>5.0</td>\n",
              "      <td>53.335793</td>\n",
              "      <td>-6.294268</td>\n",
              "      <td>485000.0</td>\n",
              "      <td>terraced</td>\n",
              "      <td>101.0</td>\n",
              "    </tr>\n",
              "    <tr>\n",
              "      <th>2979</th>\n",
              "      <td>12428247</td>\n",
              "      <td>Smithfield</td>\n",
              "      <td>1.0</td>\n",
              "      <td>2.0</td>\n",
              "      <td>9.0</td>\n",
              "      <td>53.346098</td>\n",
              "      <td>-6.276856</td>\n",
              "      <td>299000.0</td>\n",
              "      <td>apartment</td>\n",
              "      <td>55.6</td>\n",
              "    </tr>\n",
              "    <tr>\n",
              "      <th>2980</th>\n",
              "      <td>12428254</td>\n",
              "      <td>Foxrock</td>\n",
              "      <td>2.0</td>\n",
              "      <td>3.0</td>\n",
              "      <td>9.0</td>\n",
              "      <td>53.273518</td>\n",
              "      <td>-6.178500</td>\n",
              "      <td>495000.0</td>\n",
              "      <td>end-of-terrace</td>\n",
              "      <td>97.0</td>\n",
              "    </tr>\n",
              "    <tr>\n",
              "      <th>2981</th>\n",
              "      <td>12428358</td>\n",
              "      <td>Terenure</td>\n",
              "      <td>2.0</td>\n",
              "      <td>3.0</td>\n",
              "      <td>11.0</td>\n",
              "      <td>53.310073</td>\n",
              "      <td>-6.325158</td>\n",
              "      <td>525000.0</td>\n",
              "      <td>semi-detached</td>\n",
              "      <td>129.3</td>\n",
              "    </tr>\n",
              "  </tbody>\n",
              "</table>\n",
              "</div>"
            ],
            "text/plain": [
              "         ad_id         area  bathrooms  beds  ber_classification   latitude  \\\n",
              "2977  12428232  Ballsbridge  2.0        2.0   9.0                 53.338738   \n",
              "2978  12428240  Rialto       1.0        3.0   5.0                 53.335793   \n",
              "2979  12428247  Smithfield   1.0        2.0   9.0                 53.346098   \n",
              "2980  12428254  Foxrock      2.0        3.0   9.0                 53.273518   \n",
              "2981  12428358  Terenure     2.0        3.0   11.0                53.310073   \n",
              "\n",
              "      longitude     price   property_type  surface  \n",
              "2977 -6.237199   415000.0  apartment       56.0     \n",
              "2978 -6.294268   485000.0  terraced        101.0    \n",
              "2979 -6.276856   299000.0  apartment       55.6     \n",
              "2980 -6.178500   495000.0  end-of-terrace  97.0     \n",
              "2981 -6.325158   525000.0  semi-detached   129.3    "
            ]
          },
          "metadata": {},
          "execution_count": 31
        }
      ]
    },
    {
      "cell_type": "code",
      "metadata": {
        "colab": {
          "base_uri": "https://localhost:8080/"
        },
        "id": "kRrbfSYC_fIF",
        "outputId": "49f42b4b-739e-48bc-d43a-08354c544bb7"
      },
      "source": [
        "# let's check the property_type values\n",
        "print (df_train['property_type'].sort_values().unique())"
      ],
      "execution_count": 32,
      "outputs": [
        {
          "output_type": "stream",
          "name": "stdout",
          "text": [
            "['apartment' 'bungalow' 'detached' 'duplex' 'end-of-terrace'\n",
            " 'semi-detached' 'site' 'studio' 'terraced' 'townhouse' nan]\n"
          ]
        }
      ]
    },
    {
      "cell_type": "code",
      "metadata": {
        "colab": {
          "base_uri": "https://localhost:8080/"
        },
        "id": "yVQzz_lI_mlW",
        "outputId": "f94733ab-a77f-45c4-b1e9-b624cff34827"
      },
      "source": [
        "# let's check the property_type values for NaNs\n",
        "df_train.property_type.drop_duplicates()"
      ],
      "execution_count": 33,
      "outputs": [
        {
          "output_type": "execute_result",
          "data": {
            "text/plain": [
              "0      NaN           \n",
              "15     detached      \n",
              "26     semi-detached \n",
              "38     apartment     \n",
              "56     terraced      \n",
              "63     site          \n",
              "87     bungalow      \n",
              "102    townhouse     \n",
              "109    end-of-terrace\n",
              "159    duplex        \n",
              "172    studio        \n",
              "Name: property_type, dtype: object"
            ]
          },
          "metadata": {},
          "execution_count": 33
        }
      ]
    },
    {
      "cell_type": "code",
      "metadata": {
        "colab": {
          "base_uri": "https://localhost:8080/",
          "height": 204
        },
        "id": "809WmNx1_yi_",
        "outputId": "fc53efd8-aeab-4d56-9ae3-942065d11672"
      },
      "source": [
        "# encode the ordinal property_type month \n",
        "# create a mapper\n",
        "\n",
        "scale_mapper = {\n",
        "    'apartment': 1, \n",
        "    'bungalow': 2, \n",
        "    'detached': 3, \n",
        "    'duplex': 4, \n",
        "    'end-of-terrace': 5, \n",
        "    'semi-detached': 6, \n",
        "    'site': 7, \n",
        "    'studio': 8, \n",
        "    'terraced': 9, \n",
        "    'townhouse': 10\n",
        "}\n",
        "\n",
        "df_train['property_type'] = df_train['property_type'].replace(scale_mapper)\n",
        "df_test['property_type'] = df_test['property_type'].replace(scale_mapper)\n",
        "df_train.tail()"
      ],
      "execution_count": 34,
      "outputs": [
        {
          "output_type": "execute_result",
          "data": {
            "text/html": [
              "<div>\n",
              "<style scoped>\n",
              "    .dataframe tbody tr th:only-of-type {\n",
              "        vertical-align: middle;\n",
              "    }\n",
              "\n",
              "    .dataframe tbody tr th {\n",
              "        vertical-align: top;\n",
              "    }\n",
              "\n",
              "    .dataframe thead th {\n",
              "        text-align: right;\n",
              "    }\n",
              "</style>\n",
              "<table border=\"1\" class=\"dataframe\">\n",
              "  <thead>\n",
              "    <tr style=\"text-align: right;\">\n",
              "      <th></th>\n",
              "      <th>ad_id</th>\n",
              "      <th>area</th>\n",
              "      <th>bathrooms</th>\n",
              "      <th>beds</th>\n",
              "      <th>ber_classification</th>\n",
              "      <th>latitude</th>\n",
              "      <th>longitude</th>\n",
              "      <th>price</th>\n",
              "      <th>property_type</th>\n",
              "      <th>surface</th>\n",
              "    </tr>\n",
              "  </thead>\n",
              "  <tbody>\n",
              "    <tr>\n",
              "      <th>2977</th>\n",
              "      <td>12428232</td>\n",
              "      <td>Ballsbridge</td>\n",
              "      <td>2.0</td>\n",
              "      <td>2.0</td>\n",
              "      <td>9.0</td>\n",
              "      <td>53.338738</td>\n",
              "      <td>-6.237199</td>\n",
              "      <td>415000.0</td>\n",
              "      <td>1.0</td>\n",
              "      <td>56.0</td>\n",
              "    </tr>\n",
              "    <tr>\n",
              "      <th>2978</th>\n",
              "      <td>12428240</td>\n",
              "      <td>Rialto</td>\n",
              "      <td>1.0</td>\n",
              "      <td>3.0</td>\n",
              "      <td>5.0</td>\n",
              "      <td>53.335793</td>\n",
              "      <td>-6.294268</td>\n",
              "      <td>485000.0</td>\n",
              "      <td>9.0</td>\n",
              "      <td>101.0</td>\n",
              "    </tr>\n",
              "    <tr>\n",
              "      <th>2979</th>\n",
              "      <td>12428247</td>\n",
              "      <td>Smithfield</td>\n",
              "      <td>1.0</td>\n",
              "      <td>2.0</td>\n",
              "      <td>9.0</td>\n",
              "      <td>53.346098</td>\n",
              "      <td>-6.276856</td>\n",
              "      <td>299000.0</td>\n",
              "      <td>1.0</td>\n",
              "      <td>55.6</td>\n",
              "    </tr>\n",
              "    <tr>\n",
              "      <th>2980</th>\n",
              "      <td>12428254</td>\n",
              "      <td>Foxrock</td>\n",
              "      <td>2.0</td>\n",
              "      <td>3.0</td>\n",
              "      <td>9.0</td>\n",
              "      <td>53.273518</td>\n",
              "      <td>-6.178500</td>\n",
              "      <td>495000.0</td>\n",
              "      <td>5.0</td>\n",
              "      <td>97.0</td>\n",
              "    </tr>\n",
              "    <tr>\n",
              "      <th>2981</th>\n",
              "      <td>12428358</td>\n",
              "      <td>Terenure</td>\n",
              "      <td>2.0</td>\n",
              "      <td>3.0</td>\n",
              "      <td>11.0</td>\n",
              "      <td>53.310073</td>\n",
              "      <td>-6.325158</td>\n",
              "      <td>525000.0</td>\n",
              "      <td>6.0</td>\n",
              "      <td>129.3</td>\n",
              "    </tr>\n",
              "  </tbody>\n",
              "</table>\n",
              "</div>"
            ],
            "text/plain": [
              "         ad_id         area  bathrooms  beds  ber_classification   latitude  \\\n",
              "2977  12428232  Ballsbridge  2.0        2.0   9.0                 53.338738   \n",
              "2978  12428240  Rialto       1.0        3.0   5.0                 53.335793   \n",
              "2979  12428247  Smithfield   1.0        2.0   9.0                 53.346098   \n",
              "2980  12428254  Foxrock      2.0        3.0   9.0                 53.273518   \n",
              "2981  12428358  Terenure     2.0        3.0   11.0                53.310073   \n",
              "\n",
              "      longitude     price  property_type  surface  \n",
              "2977 -6.237199   415000.0  1.0            56.0     \n",
              "2978 -6.294268   485000.0  9.0            101.0    \n",
              "2979 -6.276856   299000.0  1.0            55.6     \n",
              "2980 -6.178500   495000.0  5.0            97.0     \n",
              "2981 -6.325158   525000.0  6.0            129.3    "
            ]
          },
          "metadata": {},
          "execution_count": 34
        }
      ]
    },
    {
      "cell_type": "markdown",
      "metadata": {
        "id": "peCIU4psOPm-"
      },
      "source": [
        "This is starting to look like a much cleaner dataset that seems appriopriate for the prediction of the final price of a house.\n",
        "\n",
        "Next let's check the latitude\tand longitude attributes as they would be expected to have an impact on the price of a house (\"location, location, location\")."
      ]
    },
    {
      "cell_type": "code",
      "metadata": {
        "colab": {
          "base_uri": "https://localhost:8080/",
          "height": 763
        },
        "id": "KPC5tHaaPcWC",
        "outputId": "429c86d1-84ab-4891-c44f-c5c717b55783"
      },
      "source": [
        "# plot the the latitude and longitude attributes (https://deepnote.com/@jz/House-prices-prediction-DuSZvuoNSEmb5cCKcsW4BQ)\n",
        "plt.figure(figsize=(10,10))\n",
        "sns.jointplot(x=df_train.latitude.values, y=df_train.longitude.values, size=10)\n",
        "plt.ylabel('Longitude', fontsize=12)\n",
        "plt.xlabel('Latitude', fontsize=12)\n",
        "plt.show()\n",
        "sns.despine"
      ],
      "execution_count": 35,
      "outputs": [
        {
          "output_type": "display_data",
          "data": {
            "text/plain": [
              "<Figure size 720x720 with 0 Axes>"
            ]
          },
          "metadata": {}
        },
        {
          "output_type": "display_data",
          "data": {
            "image/png": "[encoded data removed]",
            "text/plain": [
              "<Figure size 720x720 with 3 Axes>"
            ]
          },
          "metadata": {
            "needs_background": "light"
          }
        },
        {
          "output_type": "execute_result",
          "data": {
            "text/plain": [
              "<function seaborn.utils.despine>"
            ]
          },
          "metadata": {},
          "execution_count": 35
        }
      ]
    },
    {
      "cell_type": "markdown",
      "metadata": {
        "id": "Bd6iCxkIUoue"
      },
      "source": [
        "The houses for sale are concentrated in quite a small area however there are two outliers which we will remove, essentially the two that are greater than longitude of '-6' and latitude less than '53.0'.\n",
        "\n",
        "Let's remove these outliers from the dataset.\n"
      ]
    },
    {
      "cell_type": "code",
      "metadata": {
        "colab": {
          "base_uri": "https://localhost:8080/"
        },
        "id": "vvP5c6hmY3ad",
        "outputId": "c84f8769-8982-4b8c-c3dc-538b2941fd67"
      },
      "source": [
        "index_train = df_train[(df_train['longitude'] > -6.0)|(df_train['latitude'] < 53.0)].index\n",
        "index_test = df_test[(df_test['longitude'] > -6.0)|(df_test['latitude'] < 53.0)].index\n",
        "df_train.drop(index_train, inplace=True)\n",
        "df_test.drop(index_test, inplace=True)\n",
        "df_train['longitude'].describe()"
      ],
      "execution_count": 36,
      "outputs": [
        {
          "output_type": "execute_result",
          "data": {
            "text/plain": [
              "count    2980.000000\n",
              "mean    -6.259952   \n",
              "std      0.092524   \n",
              "min     -6.521183   \n",
              "25%     -6.314104   \n",
              "50%     -6.252267   \n",
              "75%     -6.196090   \n",
              "max     -6.054719   \n",
              "Name: longitude, dtype: float64"
            ]
          },
          "metadata": {},
          "execution_count": 36
        }
      ]
    },
    {
      "cell_type": "code",
      "metadata": {
        "colab": {
          "base_uri": "https://localhost:8080/",
          "height": 763
        },
        "id": "wVQniAXxaS1I",
        "outputId": "6d22c457-0966-4f7c-e24d-f1c6114cdfe1"
      },
      "source": [
        "# plot the the latitude and longitude attributes (https://deepnote.com/@jz/House-prices-prediction-DuSZvuoNSEmb5cCKcsW4BQ)\n",
        "plt.figure(figsize=(10,10))\n",
        "sns.jointplot(x=df_train.latitude.values, y=df_train.longitude.values, size=10)\n",
        "plt.ylabel('Longitude', fontsize=12)\n",
        "plt.xlabel('Latitude', fontsize=12)\n",
        "plt.show()\n",
        "sns.despine"
      ],
      "execution_count": 37,
      "outputs": [
        {
          "output_type": "display_data",
          "data": {
            "text/plain": [
              "<Figure size 720x720 with 0 Axes>"
            ]
          },
          "metadata": {}
        },
        {
          "output_type": "display_data",
          "data": {
            "image/png": "[encoded data removed]",
            "text/plain": [
              "<Figure size 720x720 with 3 Axes>"
            ]
          },
          "metadata": {
            "needs_background": "light"
          }
        },
        {
          "output_type": "execute_result",
          "data": {
            "text/plain": [
              "<function seaborn.utils.despine>"
            ]
          },
          "metadata": {},
          "execution_count": 37
        }
      ]
    },
    {
      "cell_type": "markdown",
      "metadata": {
        "id": "kROSIYejahTY"
      },
      "source": [
        "Eliminating the longitude and latitude outliers presents us with a very clean view of remaining data with a high concentration of houses between longitude 6.1 and 6.35 and latitude 53.25 and 53.42."
      ]
    },
    {
      "cell_type": "code",
      "metadata": {
        "id": "eHJslwUAnv0c"
      },
      "source": [
        "#  columns with ID numbers are unlikely to contain useful information so we will drop the ad_id\tattribute\n",
        "\n",
        "df_train.drop('ad_id', axis=1, inplace=True)\n",
        "df_test.drop('ad_id', axis=1, inplace=True)"
      ],
      "execution_count": 38,
      "outputs": []
    },
    {
      "cell_type": "code",
      "metadata": {
        "colab": {
          "base_uri": "https://localhost:8080/"
        },
        "id": "b4ruXUgbR2N8",
        "outputId": "0f695b61-2905-4f0d-90fc-50bdcc1e34cb"
      },
      "source": [
        "print(\"The training dataframe is of shape\", (df_train.shape))\n",
        "print(\"The testing dataframe is of shape\", (df_test.shape))\n",
        "print(\"The cost dataframe is of shape\", (df_cost.shape))"
      ],
      "execution_count": 39,
      "outputs": [
        {
          "output_type": "stream",
          "name": "stdout",
          "text": [
            "The training dataframe is of shape (2980, 9)\n",
            "The testing dataframe is of shape (500, 8)\n",
            "The cost dataframe is of shape (500, 2)\n"
          ]
        }
      ]
    },
    {
      "cell_type": "code",
      "metadata": {
        "id": "mD1S7B0OA_YJ"
      },
      "source": [
        "#  as the area attribute is a duplication of the longitude and latidue information we can drop it and avoid ordinal encoding of it\n",
        "\n",
        "df_train.drop('area', axis=1, inplace=True)\n",
        "df_test.drop('area', axis=1, inplace=True)"
      ],
      "execution_count": 40,
      "outputs": []
    },
    {
      "cell_type": "code",
      "metadata": {
        "colab": {
          "base_uri": "https://localhost:8080/"
        },
        "id": "0BJw0ktwCOeY",
        "outputId": "5151996f-3b13-49e8-e7ab-f7ecec917755"
      },
      "source": [
        "print(\"The training dataframe is of shape\", (df_train.shape))\n",
        "print(\"The testing dataframe is of shape\", (df_test.shape))\n",
        "print(\"The cost dataframe is of shape\", (df_cost.shape))"
      ],
      "execution_count": 41,
      "outputs": [
        {
          "output_type": "stream",
          "name": "stdout",
          "text": [
            "The training dataframe is of shape (2980, 8)\n",
            "The testing dataframe is of shape (500, 7)\n",
            "The cost dataframe is of shape (500, 2)\n"
          ]
        }
      ]
    },
    {
      "cell_type": "code",
      "metadata": {
        "colab": {
          "base_uri": "https://localhost:8080/",
          "height": 204
        },
        "id": "IYxvzNS4CZ9M",
        "outputId": "4e49b723-b6ec-4177-c017-20a6b45ebfda"
      },
      "source": [
        "df_train.tail()"
      ],
      "execution_count": 42,
      "outputs": [
        {
          "output_type": "execute_result",
          "data": {
            "text/html": [
              "<div>\n",
              "<style scoped>\n",
              "    .dataframe tbody tr th:only-of-type {\n",
              "        vertical-align: middle;\n",
              "    }\n",
              "\n",
              "    .dataframe tbody tr th {\n",
              "        vertical-align: top;\n",
              "    }\n",
              "\n",
              "    .dataframe thead th {\n",
              "        text-align: right;\n",
              "    }\n",
              "</style>\n",
              "<table border=\"1\" class=\"dataframe\">\n",
              "  <thead>\n",
              "    <tr style=\"text-align: right;\">\n",
              "      <th></th>\n",
              "      <th>bathrooms</th>\n",
              "      <th>beds</th>\n",
              "      <th>ber_classification</th>\n",
              "      <th>latitude</th>\n",
              "      <th>longitude</th>\n",
              "      <th>price</th>\n",
              "      <th>property_type</th>\n",
              "      <th>surface</th>\n",
              "    </tr>\n",
              "  </thead>\n",
              "  <tbody>\n",
              "    <tr>\n",
              "      <th>2977</th>\n",
              "      <td>2.0</td>\n",
              "      <td>2.0</td>\n",
              "      <td>9.0</td>\n",
              "      <td>53.338738</td>\n",
              "      <td>-6.237199</td>\n",
              "      <td>415000.0</td>\n",
              "      <td>1.0</td>\n",
              "      <td>56.0</td>\n",
              "    </tr>\n",
              "    <tr>\n",
              "      <th>2978</th>\n",
              "      <td>1.0</td>\n",
              "      <td>3.0</td>\n",
              "      <td>5.0</td>\n",
              "      <td>53.335793</td>\n",
              "      <td>-6.294268</td>\n",
              "      <td>485000.0</td>\n",
              "      <td>9.0</td>\n",
              "      <td>101.0</td>\n",
              "    </tr>\n",
              "    <tr>\n",
              "      <th>2979</th>\n",
              "      <td>1.0</td>\n",
              "      <td>2.0</td>\n",
              "      <td>9.0</td>\n",
              "      <td>53.346098</td>\n",
              "      <td>-6.276856</td>\n",
              "      <td>299000.0</td>\n",
              "      <td>1.0</td>\n",
              "      <td>55.6</td>\n",
              "    </tr>\n",
              "    <tr>\n",
              "      <th>2980</th>\n",
              "      <td>2.0</td>\n",
              "      <td>3.0</td>\n",
              "      <td>9.0</td>\n",
              "      <td>53.273518</td>\n",
              "      <td>-6.178500</td>\n",
              "      <td>495000.0</td>\n",
              "      <td>5.0</td>\n",
              "      <td>97.0</td>\n",
              "    </tr>\n",
              "    <tr>\n",
              "      <th>2981</th>\n",
              "      <td>2.0</td>\n",
              "      <td>3.0</td>\n",
              "      <td>11.0</td>\n",
              "      <td>53.310073</td>\n",
              "      <td>-6.325158</td>\n",
              "      <td>525000.0</td>\n",
              "      <td>6.0</td>\n",
              "      <td>129.3</td>\n",
              "    </tr>\n",
              "  </tbody>\n",
              "</table>\n",
              "</div>"
            ],
            "text/plain": [
              "      bathrooms  beds  ber_classification   latitude  longitude     price  \\\n",
              "2977  2.0        2.0   9.0                 53.338738 -6.237199   415000.0   \n",
              "2978  1.0        3.0   5.0                 53.335793 -6.294268   485000.0   \n",
              "2979  1.0        2.0   9.0                 53.346098 -6.276856   299000.0   \n",
              "2980  2.0        3.0   9.0                 53.273518 -6.178500   495000.0   \n",
              "2981  2.0        3.0   11.0                53.310073 -6.325158   525000.0   \n",
              "\n",
              "      property_type  surface  \n",
              "2977  1.0            56.0     \n",
              "2978  9.0            101.0    \n",
              "2979  1.0            55.6     \n",
              "2980  5.0            97.0     \n",
              "2981  6.0            129.3    "
            ]
          },
          "metadata": {},
          "execution_count": 42
        }
      ]
    },
    {
      "cell_type": "code",
      "metadata": {
        "id": "fzYFHvBskbRi"
      },
      "source": [
        " # split data into training and test\n",
        "from sklearn.model_selection import train_test_split\n",
        "\n",
        "y = df_train['price']\n",
        "X = df_train.drop('price', axis=1).values\n",
        "# training: 70% (0.7), test: 30% (0.3) \n",
        "# you could try any other combination \n",
        "# but consider 50% of training as the low boundary\n",
        "X_train,X_test,y_train,y_test = train_test_split(X, y, test_size=0.3)"
      ],
      "execution_count": 43,
      "outputs": []
    },
    {
      "cell_type": "markdown",
      "metadata": {
        "id": "2PMoPLlUJ1Ly"
      },
      "source": [
        "## Training & Test Data"
      ]
    },
    {
      "cell_type": "markdown",
      "metadata": {
        "id": "ztBkSZluye87"
      },
      "source": [
        "### Train dataset"
      ]
    },
    {
      "cell_type": "markdown",
      "metadata": {
        "id": "UjMH1CSEUA1A"
      },
      "source": [
        "### Expected Cost dataset"
      ]
    },
    {
      "cell_type": "markdown",
      "metadata": {
        "id": "bJFJQxAS9HZK"
      },
      "source": [
        "# PIECEWISE REGRESSION"
      ]
    },
    {
      "cell_type": "markdown",
      "metadata": {
        "id": "uQ_1QsLToIDi"
      },
      "source": [
        "## Full Model"
      ]
    },
    {
      "cell_type": "code",
      "metadata": {
        "id": "Yv5j1KzzMUnm",
        "colab": {
          "base_uri": "https://localhost:8080/"
        },
        "outputId": "0f2791de-d3ed-4529-8029-fcaa9353c476"
      },
      "source": [
        "# select some features columns just for the baseline model\n",
        "# assume not all of the features are informative or useful\n",
        "# in this exercise you could try all of them if possible\n",
        "\n",
        "featrain = ['bathrooms', 'beds', 'ber_classification', 'longitude', 'latitude', 'surface','price']\n",
        "# dropna: remove missing values\n",
        "df_subset_train = df_train[featrain].dropna(axis=0)\n",
        "\n",
        "featest = ['bathrooms', 'beds', 'ber_classification', 'longitude', 'latitude','surface']\n",
        "df_subset_test  =  df_test[featest].dropna(axis=0)\n",
        "\n",
        "# cost\n",
        "df_cost = df_cost[df_cost.index.isin(df_subset_test.index)]\n",
        "\n",
        "print(df_subset_train.shape)\n",
        "print(df_subset_test.shape)\n",
        "print(df_cost.shape)"
      ],
      "execution_count": 44,
      "outputs": [
        {
          "output_type": "stream",
          "name": "stdout",
          "text": [
            "(2002, 7)\n",
            "(444, 6)\n",
            "(444, 2)\n"
          ]
        }
      ]
    },
    {
      "cell_type": "code",
      "metadata": {
        "colab": {
          "base_uri": "https://localhost:8080/"
        },
        "id": "4dXEkx3_j5c6",
        "outputId": "7609aa41-0dd4-48f4-b801-58af8d4f1783"
      },
      "source": [
        "print('Number of nan in df_subset_train dataset: ',df_subset_train.isnull().sum().sum())\n",
        "print('Number of nan in df_subset_test dataset: ',df_subset_test.isnull().sum().sum())"
      ],
      "execution_count": 45,
      "outputs": [
        {
          "output_type": "stream",
          "name": "stdout",
          "text": [
            "Number of nan in df_subset_train dataset:  0\n",
            "Number of nan in df_subset_test dataset:  0\n"
          ]
        }
      ]
    },
    {
      "cell_type": "code",
      "metadata": {
        "colab": {
          "base_uri": "https://localhost:8080/",
          "height": 357
        },
        "id": "eqpDueIpk5TL",
        "outputId": "84bf7109-587a-4113-a2b8-bdfcd77d03c4"
      },
      "source": [
        "\n",
        "print(df_cost.describe())\n",
        "df_cost.tail()"
      ],
      "execution_count": 46,
      "outputs": [
        {
          "output_type": "stream",
          "name": "stdout",
          "text": [
            "                 Id      Expected\n",
            "count  4.440000e+02  4.440000e+02\n",
            "mean   1.231937e+07  5.449691e+05\n",
            "std    1.400218e+05  4.696690e+05\n",
            "min    1.149085e+07  1.250000e+05\n",
            "25%    1.228617e+07  2.950000e+05\n",
            "50%    1.237928e+07  4.250000e+05\n",
            "75%    1.240564e+07  5.950000e+05\n",
            "max    1.242809e+07  5.250000e+06\n"
          ]
        },
        {
          "output_type": "execute_result",
          "data": {
            "text/html": [
              "<div>\n",
              "<style scoped>\n",
              "    .dataframe tbody tr th:only-of-type {\n",
              "        vertical-align: middle;\n",
              "    }\n",
              "\n",
              "    .dataframe tbody tr th {\n",
              "        vertical-align: top;\n",
              "    }\n",
              "\n",
              "    .dataframe thead th {\n",
              "        text-align: right;\n",
              "    }\n",
              "</style>\n",
              "<table border=\"1\" class=\"dataframe\">\n",
              "  <thead>\n",
              "    <tr style=\"text-align: right;\">\n",
              "      <th></th>\n",
              "      <th>Id</th>\n",
              "      <th>Expected</th>\n",
              "    </tr>\n",
              "  </thead>\n",
              "  <tbody>\n",
              "    <tr>\n",
              "      <th>494</th>\n",
              "      <td>12385192</td>\n",
              "      <td>625000.0</td>\n",
              "    </tr>\n",
              "    <tr>\n",
              "      <th>496</th>\n",
              "      <td>12416011</td>\n",
              "      <td>775000.0</td>\n",
              "    </tr>\n",
              "    <tr>\n",
              "      <th>497</th>\n",
              "      <td>12232222</td>\n",
              "      <td>360000.0</td>\n",
              "    </tr>\n",
              "    <tr>\n",
              "      <th>498</th>\n",
              "      <td>11905630</td>\n",
              "      <td>925000.0</td>\n",
              "    </tr>\n",
              "    <tr>\n",
              "      <th>499</th>\n",
              "      <td>12394865</td>\n",
              "      <td>325000.0</td>\n",
              "    </tr>\n",
              "  </tbody>\n",
              "</table>\n",
              "</div>"
            ],
            "text/plain": [
              "           Id  Expected\n",
              "494  12385192  625000.0\n",
              "496  12416011  775000.0\n",
              "497  12232222  360000.0\n",
              "498  11905630  925000.0\n",
              "499  12394865  325000.0"
            ]
          },
          "metadata": {},
          "execution_count": 46
        }
      ]
    },
    {
      "cell_type": "code",
      "metadata": {
        "id": "TaedL5i7jzmS"
      },
      "source": [
        "# train set, input columns\n",
        "Xs_train = df_subset_train.iloc[:,0:-1].values \n",
        "# train set, output column, cost\n",
        "ys_train = df_subset_train.iloc[:,-1].values.reshape(-1,1)   \n",
        "\n",
        "# test set, input columns\n",
        "Xs_test = df_subset_test.iloc[:,0:].values \n",
        "# test set, output column, cost\n",
        "y_test = df_cost.Expected.values"
      ],
      "execution_count": 47,
      "outputs": []
    },
    {
      "cell_type": "code",
      "metadata": {
        "colab": {
          "base_uri": "https://localhost:8080/"
        },
        "id": "f9uKoR9QnA9l",
        "outputId": "55b4fe42-1988-4541-cde8-24037956e491"
      },
      "source": [
        "print(\"The training set input is of shape\", (Xs_train.shape))\n",
        "print(\"The testing set output is of shape\", (ys_train.shape))\n",
        "print(\"The testing set input is of shape\", (Xs_test.shape))\n",
        "print(\"The testing set output is of shape\", (y_test.shape))"
      ],
      "execution_count": 48,
      "outputs": [
        {
          "output_type": "stream",
          "name": "stdout",
          "text": [
            "The training set input is of shape (2002, 6)\n",
            "The testing set output is of shape (2002, 1)\n",
            "The testing set input is of shape (444, 6)\n",
            "The testing set output is of shape (444,)\n"
          ]
        }
      ]
    },
    {
      "cell_type": "code",
      "metadata": {
        "id": "ApfPg9c3mfzW"
      },
      "source": [
        "# StandardScaler() will normalize the features i.e. each column of X, \n",
        "# so, each column/feature/variable will have μ = 0 and σ = 1\n",
        "sc = StandardScaler()\n",
        "\n",
        "Xss_train = np.hstack([Xs_train,Xs_train[:,[2]]**2])\n",
        "xscaler = sc.fit(Xss_train)\n",
        "Xn_train = xscaler.transform(Xss_train)\n",
        "\n",
        "Xss_test = np.hstack([Xs_test,Xs_test[:,[2]]**2])\n",
        "Xn_test = xscaler.transform(Xss_test)\n",
        "\n",
        "ylog = np.log(ys_train.astype('float'))\n",
        "yscaler = StandardScaler().fit(ylog)\n",
        "yn_train = yscaler.transform(ylog)"
      ],
      "execution_count": 49,
      "outputs": []
    },
    {
      "cell_type": "code",
      "metadata": {
        "id": "PZK2kfygoIDi"
      },
      "source": [
        "# model\n",
        "with pm.Model() as model:\n",
        "    #prior over the parameters of linear regression\n",
        "    alpha = pm.Normal('alpha', mu=0, sigma=30)\n",
        "    #we have one beta for each column of Xn\n",
        "    beta = pm.Normal('beta', mu=0, sigma=30, shape=Xn_train.shape[1])\n",
        "    #prior over the variance of the noise\n",
        "    sigma = pm.HalfCauchy('sigma_n', 5)\n",
        "    #linear regression model in matrix form\n",
        "    mu = alpha + pm.math.dot(beta, Xn_train.T)\n",
        "    #likelihood, be sure that observed is a 1d vector\n",
        "    like = pm.Normal('like', mu=mu, sigma=sigma, observed=yn_train[:,0])\n",
        "    "
      ],
      "execution_count": 50,
      "outputs": []
    },
    {
      "cell_type": "code",
      "metadata": {
        "colab": {
          "base_uri": "https://localhost:8080/",
          "height": 336
        },
        "id": "hWTUzYIZ0HD1",
        "outputId": "9807ef8e-d873-4f84-f492-30cab2c5a259"
      },
      "source": [
        "#number of iterations of the algorithms\n",
        "iter = 50000 \n",
        "\n",
        "# run the model\n",
        "with model:\n",
        "    approximation = pm.fit(iter,method='advi')\n",
        "    \n",
        "# check the convergence\n",
        "plt.plot(approximation.hist);"
      ],
      "execution_count": 51,
      "outputs": [
        {
          "output_type": "stream",
          "name": "stderr",
          "text": [
            "WARNING (theano.tensor.blas): We did not find a dynamic library in the library_dir of the library we use for blas. If you use ATLAS, make sure to compile it with dynamics library.\n",
            "WARNING (theano.tensor.blas): We did not find a dynamic library in the library_dir of the library we use for blas. If you use ATLAS, make sure to compile it with dynamics library.\n"
          ]
        },
        {
          "output_type": "display_data",
          "data": {
            "text/html": [
              "\n",
              "    <div>\n",
              "        <style>\n",
              "            /* Turns off some styling */\n",
              "            progress {\n",
              "                /* gets rid of default border in Firefox and Opera. */\n",
              "                border: none;\n",
              "                /* Needs to be in here for Safari polyfill so background images work as expected. */\n",
              "                background-size: auto;\n",
              "            }\n",
              "            .progress-bar-interrupted, .progress-bar-interrupted::-webkit-progress-bar {\n",
              "                background: #F44336;\n",
              "            }\n",
              "        </style>\n",
              "      <progress value='50000' class='' max='50000' style='width:300px; height:20px; vertical-align: middle;'></progress>\n",
              "      100.00% [50000/50000 00:11<00:00 Average Loss = 1,972.7]\n",
              "    </div>\n",
              "    "
            ],
            "text/plain": [
              "<IPython.core.display.HTML object>"
            ]
          },
          "metadata": {}
        },
        {
          "output_type": "stream",
          "name": "stderr",
          "text": [
            "Finished [100%]: Average Loss = 1,972.7\n"
          ]
        },
        {
          "output_type": "display_data",
          "data": {
            "image/png": "[encoded data removed]",
            "text/plain": [
              "<Figure size 432x288 with 1 Axes>"
            ]
          },
          "metadata": {
            "needs_background": "light"
          }
        }
      ]
    },
    {
      "cell_type": "code",
      "metadata": {
        "id": "80XmUFGp0NE_"
      },
      "source": [
        "# samples from the posterior\n",
        "posterior = approximation.sample(5000)"
      ],
      "execution_count": 52,
      "outputs": []
    },
    {
      "cell_type": "code",
      "metadata": {
        "id": "cIskuS3ToIDk",
        "colab": {
          "base_uri": "https://localhost:8080/"
        },
        "outputId": "03006e00-c241-4304-c224-7079d9b9e466"
      },
      "source": [
        "# prediction\n",
        "ll=np.mean(posterior['alpha']) + np.dot(np.mean(posterior['beta'],axis=0), Xn_test.T)\n",
        "y_pred_BLR = np.exp(yscaler.inverse_transform(ll.reshape(-1,1)))[:,0]\n",
        "print(\"MAE = \",(np.mean(abs(y_pred_BLR - y_test))))\n",
        "print(\"MAPE = \",(np.mean(abs(y_pred_BLR - y_test) / y_test)))"
      ],
      "execution_count": 53,
      "outputs": [
        {
          "output_type": "stream",
          "name": "stdout",
          "text": [
            "MAE =  174362.0076747574\n",
            "MAPE =  0.26896907851563795\n"
          ]
        }
      ]
    },
    {
      "cell_type": "markdown",
      "metadata": {
        "id": "q_jBBKvtoIDk"
      },
      "source": [
        "## Clustering"
      ]
    },
    {
      "cell_type": "markdown",
      "metadata": {
        "id": "VYFvbgYDaEOS"
      },
      "source": [
        "### Full Model"
      ]
    },
    {
      "cell_type": "code",
      "metadata": {
        "id": "iphQ53UE0iVw",
        "colab": {
          "base_uri": "https://localhost:8080/",
          "height": 284
        },
        "outputId": "e5cf3cda-d577-4244-b88f-14b5b0bbde6f"
      },
      "source": [
        "# training gaussian mixture model \n",
        "from sklearn.mixture import GaussianMixture\n",
        "\n",
        "gmm = GaussianMixture(n_components=6)\n",
        "\n",
        "# clustering by features 3 and which is longitude and latitude so essentially location, location, location!\n",
        "ind=[3,4]\n",
        "X_ind = np.vstack([Xn_train[:,ind],Xn_test[:,ind]])\n",
        "# Gaussian Mixture\n",
        "gmm.fit(X_ind)\n",
        "# plot blue dots\n",
        "plt.scatter(X_ind[:,0],X_ind[:,1])\n",
        "# centroids:  orange dots\n",
        "plt.scatter(gmm.means_[:,0],gmm.means_[:,1])\n"
      ],
      "execution_count": 54,
      "outputs": [
        {
          "output_type": "execute_result",
          "data": {
            "text/plain": [
              "<matplotlib.collections.PathCollection at 0x7f54b93e02d0>"
            ]
          },
          "metadata": {},
          "execution_count": 54
        },
        {
          "output_type": "display_data",
          "data": {
            "image/png": "[encoded data removed]",
            "text/plain": [
              "<Figure size 432x288 with 1 Axes>"
            ]
          },
          "metadata": {
            "needs_background": "light"
          }
        }
      ]
    },
    {
      "cell_type": "markdown",
      "metadata": {
        "id": "h51OhBV5Z4tY"
      },
      "source": [
        "### Clusters"
      ]
    },
    {
      "cell_type": "code",
      "metadata": {
        "id": "vNvx_KxrLt90",
        "colab": {
          "base_uri": "https://localhost:8080/"
        },
        "outputId": "4fe9765b-e96d-4d01-a070-7afe40e7a848"
      },
      "source": [
        "# train clusters\n",
        "clusters_train = gmm.predict(Xn_train[:,ind])\n",
        "unique_train, counts_train = np.unique(clusters_train, return_counts=True)\n",
        "dict(zip(unique_train, counts_train))\n",
        "\n"
      ],
      "execution_count": 58,
      "outputs": [
        {
          "output_type": "execute_result",
          "data": {
            "text/plain": [
              "{0: 895, 1: 116, 2: 243, 3: 210, 4: 342, 5: 196}"
            ]
          },
          "metadata": {},
          "execution_count": 58
        }
      ]
    },
    {
      "cell_type": "code",
      "metadata": {
        "id": "-wTT4220zFNx",
        "colab": {
          "base_uri": "https://localhost:8080/"
        },
        "outputId": "c28a6cb8-48c7-4fed-ee4a-b639e78a0cc6"
      },
      "source": [
        "# test clusters\n",
        "clusters_test = gmm.predict(Xn_test[:,ind])\n",
        "unique_test, counts_test = np.unique(clusters_test, return_counts=True)\n",
        "dict(zip(unique_test, counts_test))\n"
      ],
      "execution_count": 59,
      "outputs": [
        {
          "output_type": "execute_result",
          "data": {
            "text/plain": [
              "{0: 207, 1: 37, 2: 43, 3: 43, 4: 77, 5: 37}"
            ]
          },
          "metadata": {},
          "execution_count": 59
        }
      ]
    },
    {
      "cell_type": "code",
      "metadata": {
        "id": "PUyo5435beYs"
      },
      "source": [
        "# cluster 0\n",
        "Xn0 = Xn_train[clusters_train==0,:]\n",
        "Xtestn0 = Xn_test[clusters_test==0,:]\n",
        "\n",
        "ylog0 = np.log(ys_train.astype('float')[clusters_train==0,:])\n",
        "yscaler0 = StandardScaler().fit(ylog0)\n",
        "yn0 = yscaler0.transform(ylog0)"
      ],
      "execution_count": 60,
      "outputs": []
    },
    {
      "cell_type": "code",
      "metadata": {
        "id": "SbeyafZmbgue"
      },
      "source": [
        "# cluster 1\n",
        "Xn1 = Xn_train[clusters_train==1,:]\n",
        "Xtestn1 = Xn_test[clusters_test==1,:]\n",
        "ylog1 = np.log(ys_train.astype('float')[clusters_train==1,:])\n",
        "yscaler1 = StandardScaler().fit(ylog1)\n",
        "yn1 = yscaler1.transform(ylog1)"
      ],
      "execution_count": 61,
      "outputs": []
    },
    {
      "cell_type": "code",
      "metadata": {
        "id": "aJj71kROboCu"
      },
      "source": [
        "# cluster 2\n",
        "Xn2 = Xn_train[clusters_train==2,:]\n",
        "Xtestn2 = Xn_test[clusters_test==2,:]\n",
        "ylog2 = np.log(ys_train.astype('float')[clusters_train==2,:])\n",
        "yscaler2 = StandardScaler().fit(ylog2)\n",
        "yn2 = yscaler2.transform(ylog2)"
      ],
      "execution_count": 62,
      "outputs": []
    },
    {
      "cell_type": "code",
      "metadata": {
        "id": "dLpNAxjabr83"
      },
      "source": [
        "# cluster 3\n",
        "Xn3 = Xn_train[clusters_train==3,:]\n",
        "Xtestn3 = Xn_test[clusters_test==3,:]\n",
        "ylog3 = np.log(ys_train.astype('float')[clusters_train==3,:])\n",
        "yscaler3 = StandardScaler().fit(ylog3)\n",
        "yn3 = yscaler3.transform(ylog3)"
      ],
      "execution_count": 63,
      "outputs": []
    },
    {
      "cell_type": "code",
      "metadata": {
        "id": "pOI--kISbvBu"
      },
      "source": [
        "# cluster 4\n",
        "Xn4 = Xn_train[clusters_train==4,:]\n",
        "Xtestn4 = Xn_test[clusters_test==4,:]\n",
        "ylog4 = np.log(ys_train.astype('float')[clusters_train==4,:])\n",
        "yscaler4 = StandardScaler().fit(ylog4)\n",
        "yn4 = yscaler3.transform(ylog4)"
      ],
      "execution_count": 64,
      "outputs": []
    },
    {
      "cell_type": "code",
      "metadata": {
        "id": "ghF7xfcEb_f1"
      },
      "source": [
        "# cluster 5\n",
        "Xn5 = Xn_train[clusters_train==5,:]\n",
        "Xte5 = Xn_test[clusters_test==5,:]\n",
        "ylog5 = np.log(ys_train.astype('float')[clusters_train==4,:])\n",
        "yscaler5 = StandardScaler().fit(ylog5)\n",
        "yn5 = yscaler3.transform(ylog5)"
      ],
      "execution_count": 65,
      "outputs": []
    },
    {
      "cell_type": "markdown",
      "metadata": {
        "id": "dXF25ZDYoIDl"
      },
      "source": [
        "## Piecewise Model"
      ]
    },
    {
      "cell_type": "code",
      "metadata": {
        "colab": {
          "base_uri": "https://localhost:8080/",
          "height": 54
        },
        "id": "gm5_-CQMcc_K",
        "outputId": "8dff88de-db3c-4d42-9d30-bfeba7175d9f"
      },
      "source": [
        "# model_0\n",
        "with pm.Model() as model_0:\n",
        "  # prior over the parameters of linear regression\n",
        "  alpha = pm.Normal('alpha', mu=0, sigma=30)\n",
        "  # we have a beta for each column of Xn0\n",
        "  beta = pm.Normal('beta', mu=0, sigma=30, shape=Xn0.shape[1])\n",
        "  # prior over the variance of the noise\n",
        "  sigma = pm.HalfCauchy('sigma_n', 5)\n",
        "  # linear regression relationship\n",
        "  #linear regression model in matrix form\n",
        "  mu = alpha + pm.math.dot(beta, Xn0.T)\n",
        "  # likelihood, be sure that observed is a 1d vector\n",
        "  like = pm.Normal('like', mu=mu, sigma=sigma, observed=yn0[:,0])\n",
        "\n",
        "with model_0:\n",
        "  # iterations of the algorithm\n",
        "  approximation = pm.fit(40000,method='advi')\n",
        "\n",
        "# samples from the posterior   \n",
        "posterior0 = approximation.sample(5000)"
      ],
      "execution_count": 66,
      "outputs": [
        {
          "output_type": "display_data",
          "data": {
            "text/html": [
              "\n",
              "    <div>\n",
              "        <style>\n",
              "            /* Turns off some styling */\n",
              "            progress {\n",
              "                /* gets rid of default border in Firefox and Opera. */\n",
              "                border: none;\n",
              "                /* Needs to be in here for Safari polyfill so background images work as expected. */\n",
              "                background-size: auto;\n",
              "            }\n",
              "            .progress-bar-interrupted, .progress-bar-interrupted::-webkit-progress-bar {\n",
              "                background: #F44336;\n",
              "            }\n",
              "        </style>\n",
              "      <progress value='40000' class='' max='40000' style='width:300px; height:20px; vertical-align: middle;'></progress>\n",
              "      100.00% [40000/40000 00:05<00:00 Average Loss = 869.98]\n",
              "    </div>\n",
              "    "
            ],
            "text/plain": [
              "<IPython.core.display.HTML object>"
            ]
          },
          "metadata": {}
        },
        {
          "output_type": "stream",
          "name": "stderr",
          "text": [
            "Finished [100%]: Average Loss = 869.99\n"
          ]
        }
      ]
    },
    {
      "cell_type": "code",
      "metadata": {
        "colab": {
          "base_uri": "https://localhost:8080/",
          "height": 54
        },
        "id": "m5z4K_OxeGEO",
        "outputId": "dcda6511-d033-45b8-e325-e175e7a18ca9"
      },
      "source": [
        "# model_1\n",
        "with pm.Model() as model_1:\n",
        "  # prior over the parameters of linear regression\n",
        "  alpha = pm.Normal('alpha', mu=0, sigma=30)\n",
        "  # we have a beta for each column of Xn0\n",
        "  beta = pm.Normal('beta', mu=0, sigma=30, shape=Xn1.shape[1])\n",
        "  # prior over the variance of the noise\n",
        "  sigma = pm.HalfCauchy('sigma_n', 5)\n",
        "  # linear regression relationship\n",
        "  #linear regression model in matrix form\n",
        "  mu = alpha + pm.math.dot(beta, Xn1.T)\n",
        "  # likelihood, be sure that observed is a 1d vector\n",
        "  like = pm.Normal('like', mu=mu, sigma=sigma, observed=yn1[:,0])\n",
        "\n",
        "with model_1:\n",
        "  # iterations of the algorithm\n",
        "  approximation = pm.fit(40000,method='advi')\n",
        "\n",
        "# samples from the posterior   \n",
        "posterior1 = approximation.sample(5000)"
      ],
      "execution_count": 67,
      "outputs": [
        {
          "output_type": "display_data",
          "data": {
            "text/html": [
              "\n",
              "    <div>\n",
              "        <style>\n",
              "            /* Turns off some styling */\n",
              "            progress {\n",
              "                /* gets rid of default border in Firefox and Opera. */\n",
              "                border: none;\n",
              "                /* Needs to be in here for Safari polyfill so background images work as expected. */\n",
              "                background-size: auto;\n",
              "            }\n",
              "            .progress-bar-interrupted, .progress-bar-interrupted::-webkit-progress-bar {\n",
              "                background: #F44336;\n",
              "            }\n",
              "        </style>\n",
              "      <progress value='40000' class='' max='40000' style='width:300px; height:20px; vertical-align: middle;'></progress>\n",
              "      100.00% [40000/40000 00:04<00:00 Average Loss = 152.74]\n",
              "    </div>\n",
              "    "
            ],
            "text/plain": [
              "<IPython.core.display.HTML object>"
            ]
          },
          "metadata": {}
        },
        {
          "output_type": "stream",
          "name": "stderr",
          "text": [
            "Finished [100%]: Average Loss = 152.74\n"
          ]
        }
      ]
    },
    {
      "cell_type": "code",
      "metadata": {
        "colab": {
          "base_uri": "https://localhost:8080/",
          "height": 54
        },
        "id": "Jg4zbchveuSV",
        "outputId": "d024a793-9ac8-4a54-f881-b4dc042a10dd"
      },
      "source": [
        "# model_2\n",
        "with pm.Model() as model_2:\n",
        "  # prior over the parameters of linear regression\n",
        "  alpha = pm.Normal('alpha', mu=0, sigma=30)\n",
        "  # we have a beta for each column of Xn2\n",
        "  beta = pm.Normal('beta', mu=0, sigma=30, shape=Xn2.shape[1])\n",
        "  # prior over the variance of the noise\n",
        "  sigma = pm.HalfCauchy('sigma_n', 5)\n",
        "  # linear regression relationship\n",
        "  #linear regression model in matrix form\n",
        "  mu = alpha + pm.math.dot(beta, Xn2.T)\n",
        "  # likelihood, be sure that observed is a 1d vector\n",
        "  like = pm.Normal('like', mu=mu, sigma=sigma, observed=yn2[:,0])\n",
        "\n",
        "with model_2:\n",
        "  # iterations of the algorithm\n",
        "  approximation = pm.fit(40000,method='advi')\n",
        "\n",
        "# samples from the posterior   \n",
        "posterior2 = approximation.sample(5000)"
      ],
      "execution_count": 68,
      "outputs": [
        {
          "output_type": "display_data",
          "data": {
            "text/html": [
              "\n",
              "    <div>\n",
              "        <style>\n",
              "            /* Turns off some styling */\n",
              "            progress {\n",
              "                /* gets rid of default border in Firefox and Opera. */\n",
              "                border: none;\n",
              "                /* Needs to be in here for Safari polyfill so background images work as expected. */\n",
              "                background-size: auto;\n",
              "            }\n",
              "            .progress-bar-interrupted, .progress-bar-interrupted::-webkit-progress-bar {\n",
              "                background: #F44336;\n",
              "            }\n",
              "        </style>\n",
              "      <progress value='40000' class='' max='40000' style='width:300px; height:20px; vertical-align: middle;'></progress>\n",
              "      100.00% [40000/40000 00:04<00:00 Average Loss = 256.12]\n",
              "    </div>\n",
              "    "
            ],
            "text/plain": [
              "<IPython.core.display.HTML object>"
            ]
          },
          "metadata": {}
        },
        {
          "output_type": "stream",
          "name": "stderr",
          "text": [
            "Finished [100%]: Average Loss = 256.14\n"
          ]
        }
      ]
    },
    {
      "cell_type": "code",
      "metadata": {
        "colab": {
          "base_uri": "https://localhost:8080/",
          "height": 54
        },
        "id": "KpQbiPE1e_n1",
        "outputId": "5091e281-8248-4f92-c1be-7fc9cc52cef5"
      },
      "source": [
        "# model_3\n",
        "with pm.Model() as model_3:\n",
        "  # prior over the parameters of linear regression\n",
        "  alpha = pm.Normal('alpha', mu=0, sigma=30)\n",
        "  # we have a beta for each column of Xn3\n",
        "  beta = pm.Normal('beta', mu=0, sigma=30, shape=Xn3.shape[1])\n",
        "  # prior over the variance of the noise\n",
        "  sigma = pm.HalfCauchy('sigma_n', 5)\n",
        "  # linear regression relationship\n",
        "  #linear regression model in matrix form\n",
        "  mu = alpha + pm.math.dot(beta, Xn3.T)\n",
        "  # likelihood, be sure that observed is a 1d vector\n",
        "  like = pm.Normal('like', mu=mu, sigma=sigma, observed=yn3[:,0])\n",
        "\n",
        "with model_3:\n",
        "  # iterations of the algorithm\n",
        "  approximation = pm.fit(40000,method='advi')\n",
        "\n",
        "# samples from the posterior   \n",
        "posterior3 = approximation.sample(5000)"
      ],
      "execution_count": 69,
      "outputs": [
        {
          "output_type": "display_data",
          "data": {
            "text/html": [
              "\n",
              "    <div>\n",
              "        <style>\n",
              "            /* Turns off some styling */\n",
              "            progress {\n",
              "                /* gets rid of default border in Firefox and Opera. */\n",
              "                border: none;\n",
              "                /* Needs to be in here for Safari polyfill so background images work as expected. */\n",
              "                background-size: auto;\n",
              "            }\n",
              "            .progress-bar-interrupted, .progress-bar-interrupted::-webkit-progress-bar {\n",
              "                background: #F44336;\n",
              "            }\n",
              "        </style>\n",
              "      <progress value='40000' class='' max='40000' style='width:300px; height:20px; vertical-align: middle;'></progress>\n",
              "      100.00% [40000/40000 00:04<00:00 Average Loss = 175.69]\n",
              "    </div>\n",
              "    "
            ],
            "text/plain": [
              "<IPython.core.display.HTML object>"
            ]
          },
          "metadata": {}
        },
        {
          "output_type": "stream",
          "name": "stderr",
          "text": [
            "Finished [100%]: Average Loss = 175.69\n"
          ]
        }
      ]
    },
    {
      "cell_type": "code",
      "metadata": {
        "colab": {
          "base_uri": "https://localhost:8080/",
          "height": 54
        },
        "id": "Kg8QLkHgfPG6",
        "outputId": "c9d507c9-bb8e-4647-831e-99024c3004eb"
      },
      "source": [
        "# model_4\n",
        "with pm.Model() as model_4:\n",
        "  # prior over the parameters of linear regression\n",
        "  alpha = pm.Normal('alpha', mu=0, sigma=30)\n",
        "  # we have a beta for each column of Xn4\n",
        "  beta = pm.Normal('beta', mu=0, sigma=30, shape=Xn4.shape[1])\n",
        "  # prior over the variance of the noise\n",
        "  sigma = pm.HalfCauchy('sigma_n', 5)\n",
        "  # linear regression relationship\n",
        "  #linear regression model in matrix form\n",
        "  mu = alpha + pm.math.dot(beta, Xn4.T)\n",
        "  # likelihood, be sure that observed is a 1d vector\n",
        "  like = pm.Normal('like', mu=mu, sigma=sigma, observed=yn4[:,0])\n",
        "\n",
        "with model_4:\n",
        "  # iterations of the algorithm\n",
        "  approximation = pm.fit(40000,method='advi')\n",
        "\n",
        "# samples from the posterior   \n",
        "posterior4 = approximation.sample(5000)"
      ],
      "execution_count": 70,
      "outputs": [
        {
          "output_type": "display_data",
          "data": {
            "text/html": [
              "\n",
              "    <div>\n",
              "        <style>\n",
              "            /* Turns off some styling */\n",
              "            progress {\n",
              "                /* gets rid of default border in Firefox and Opera. */\n",
              "                border: none;\n",
              "                /* Needs to be in here for Safari polyfill so background images work as expected. */\n",
              "                background-size: auto;\n",
              "            }\n",
              "            .progress-bar-interrupted, .progress-bar-interrupted::-webkit-progress-bar {\n",
              "                background: #F44336;\n",
              "            }\n",
              "        </style>\n",
              "      <progress value='40000' class='' max='40000' style='width:300px; height:20px; vertical-align: middle;'></progress>\n",
              "      100.00% [40000/40000 00:04<00:00 Average Loss = 395.69]\n",
              "    </div>\n",
              "    "
            ],
            "text/plain": [
              "<IPython.core.display.HTML object>"
            ]
          },
          "metadata": {}
        },
        {
          "output_type": "stream",
          "name": "stderr",
          "text": [
            "Finished [100%]: Average Loss = 395.7\n"
          ]
        }
      ]
    },
    {
      "cell_type": "code",
      "metadata": {
        "id": "U5Urj6yLhw64"
      },
      "source": [
        ""
      ],
      "execution_count": null,
      "outputs": []
    },
    {
      "cell_type": "code",
      "metadata": {
        "id": "gdY1yXp0oIDn"
      },
      "source": [
        "# Posterior predictive checks (PPCs)\n",
        "def ppc(alpha,beta,sigma, X,  nsamples=500):\n",
        "    #we select nsamples random samples from the posterior\n",
        "    ind = np.random.randint(0,beta.shape[0],size=nsamples)\n",
        "    alphai = alpha[ind]\n",
        "    betai = beta[ind,:]\n",
        "    sigmai = sigma[ind]\n",
        "\n",
        "    Ypred = np.zeros((nsamples,X.shape[0]))\n",
        "    for i in range(X.shape[0]):\n",
        "        #we generate data from linear model\n",
        "        y_pred = alphai + np.dot(betai, X[i:i+1,:].T).T +np.random.randn(len(sigmai))*sigmai\n",
        "        Ypred[:,i]=y_pred[0,:]\n",
        "    return Ypred\n",
        "\n"
      ],
      "execution_count": 73,
      "outputs": []
    },
    {
      "cell_type": "markdown",
      "metadata": {
        "id": "wHBgUe1pcZQQ"
      },
      "source": [
        "##Simulations"
      ]
    },
    {
      "cell_type": "markdown",
      "metadata": {
        "id": "bfSEdYAUoIDn"
      },
      "source": [
        "### Only Cluster 0"
      ]
    },
    {
      "cell_type": "code",
      "metadata": {
        "colab": {
          "base_uri": "https://localhost:8080/",
          "height": 313
        },
        "id": "XI_YqCmnh-ds",
        "outputId": "b8ade174-a406-4c96-9663-6dd603043db0"
      },
      "source": [
        "#Simulation\n",
        "Ypred0 = yscaler0.inverse_transform(ppc(posterior0['alpha'],posterior0['beta'],posterior0['sigma_n'],Xn0,  nsamples=200))\n",
        "for i in range(Ypred0.shape[0]):\n",
        "    az.plot_dist( Ypred0[i,:],color='r',plot_kwargs={\"linewidth\": 0.2})\n",
        "az.plot_dist(Ypred0[i,:],color='r',plot_kwargs={\"linewidth\": 0.2}, label=\"prediction\")\n",
        "az.plot_dist(ylog0,label='true observations');\n",
        "plt.legend()\n",
        "plt.xlabel(\"log(y) - output variable\")\n",
        "plt.ylabel(\"density plot\");"
      ],
      "execution_count": 74,
      "outputs": [
        {
          "output_type": "display_data",
          "data": {
            "image/png": "[encoded data removed]",
            "text/plain": [
              "<Figure size 432x288 with 1 Axes>"
            ]
          },
          "metadata": {
            "needs_background": "light"
          }
        }
      ]
    },
    {
      "cell_type": "markdown",
      "metadata": {
        "id": "ZvbdkKDsiKkd"
      },
      "source": [
        "Only Cluster **1**"
      ]
    },
    {
      "cell_type": "code",
      "metadata": {
        "colab": {
          "base_uri": "https://localhost:8080/",
          "height": 313
        },
        "id": "QoLpHMRAiNiW",
        "outputId": "d8adc27c-3fe8-4f24-f576-61d30f8f2c0a"
      },
      "source": [
        "#Simulation\n",
        "Ypred1 = yscaler1.inverse_transform(ppc(posterior1['alpha'],posterior1['beta'],posterior1['sigma_n'],Xn1,  nsamples=200))\n",
        "for i in range(Ypred1.shape[0]):\n",
        "    az.plot_dist( Ypred1[i,:],color='r',plot_kwargs={\"linewidth\": 0.2})\n",
        "az.plot_dist(Ypred1[i,:],color='r',plot_kwargs={\"linewidth\": 0.2}, label=\"prediction\")\n",
        "az.plot_dist(ylog1,label='true observations');\n",
        "plt.legend()\n",
        "plt.xlabel(\"log(y) - output variable\")\n",
        "plt.ylabel(\"density plot\");"
      ],
      "execution_count": 75,
      "outputs": [
        {
          "output_type": "display_data",
          "data": {
            "image/png": "[encoded data removed]",
            "text/plain": [
              "<Figure size 432x288 with 1 Axes>"
            ]
          },
          "metadata": {
            "needs_background": "light"
          }
        }
      ]
    },
    {
      "cell_type": "markdown",
      "metadata": {
        "id": "awOAE5J0inUN"
      },
      "source": [
        "Only Cluster **2**"
      ]
    },
    {
      "cell_type": "code",
      "metadata": {
        "colab": {
          "base_uri": "https://localhost:8080/",
          "height": 313
        },
        "id": "ozdgofxvin-1",
        "outputId": "3c94a4e7-b9cf-4b2d-e9d2-8e8ff28095cd"
      },
      "source": [
        "#Simulation\n",
        "Ypred2 = yscaler2.inverse_transform(ppc(posterior2['alpha'],posterior2['beta'],posterior2['sigma_n'],Xn2,  nsamples=200))\n",
        "for i in range(Ypred2.shape[0]):\n",
        "    az.plot_dist( Ypred2[i,:],color='r',plot_kwargs={\"linewidth\": 0.2})\n",
        "az.plot_dist(Ypred2[i,:],color='r',plot_kwargs={\"linewidth\": 0.2}, label=\"prediction\")\n",
        "az.plot_dist(ylog2,label='true observations');\n",
        "plt.legend()\n",
        "plt.xlabel(\"log(y) - output variable\")\n",
        "plt.ylabel(\"density plot\");"
      ],
      "execution_count": 76,
      "outputs": [
        {
          "output_type": "display_data",
          "data": {
            "image/png": "[encoded data removed]",
            "text/plain": [
              "<Figure size 432x288 with 1 Axes>"
            ]
          },
          "metadata": {
            "needs_background": "light"
          }
        }
      ]
    },
    {
      "cell_type": "markdown",
      "metadata": {
        "id": "xR2Y7-SAjKrs"
      },
      "source": [
        "Only Cluster **3**"
      ]
    },
    {
      "cell_type": "code",
      "metadata": {
        "colab": {
          "base_uri": "https://localhost:8080/",
          "height": 313
        },
        "id": "41joVrSRjXL5",
        "outputId": "a8610a88-46ac-46c9-80ef-c3af644fd59f"
      },
      "source": [
        "#Simulation\n",
        "Ypred3 = yscaler3.inverse_transform(ppc(posterior3['alpha'],posterior3['beta'],posterior3['sigma_n'],Xn3,  nsamples=200))\n",
        "for i in range(Ypred3.shape[0]):\n",
        "    az.plot_dist( Ypred3[i,:],color='r',plot_kwargs={\"linewidth\": 0.2})\n",
        "az.plot_dist(Ypred3[i,:],color='r',plot_kwargs={\"linewidth\": 0.2}, label=\"prediction\")\n",
        "az.plot_dist(ylog3,label='true observations');\n",
        "plt.legend()\n",
        "plt.xlabel(\"log(y) - output variable\")\n",
        "plt.ylabel(\"density plot\");"
      ],
      "execution_count": 77,
      "outputs": [
        {
          "output_type": "display_data",
          "data": {
            "image/png": "[encoded data removed]",
            "text/plain": [
              "<Figure size 432x288 with 1 Axes>"
            ]
          },
          "metadata": {
            "needs_background": "light"
          }
        }
      ]
    },
    {
      "cell_type": "markdown",
      "metadata": {
        "id": "a2vwoHYOjtkn"
      },
      "source": [
        "Only Cluster 4"
      ]
    },
    {
      "cell_type": "code",
      "metadata": {
        "colab": {
          "base_uri": "https://localhost:8080/",
          "height": 313
        },
        "id": "bgeJEq-EjwaF",
        "outputId": "7892deb4-d731-41c5-eda5-bbc35edb2ef2"
      },
      "source": [
        "#Simulation\n",
        "Ypred4 = yscaler4.inverse_transform(ppc(posterior4['alpha'],posterior4['beta'],posterior4['sigma_n'],Xn4,  nsamples=200))\n",
        "for i in range(Ypred4.shape[0]):\n",
        "    az.plot_dist( Ypred4[i,:],color='r',plot_kwargs={\"linewidth\": 0.2})\n",
        "az.plot_dist(Ypred4[i,:],color='r',plot_kwargs={\"linewidth\": 0.2}, label=\"prediction\")\n",
        "az.plot_dist(ylog4,label='true observations');\n",
        "plt.legend()\n",
        "plt.xlabel(\"log(y) - output variable\")\n",
        "plt.ylabel(\"density plot\");"
      ],
      "execution_count": 78,
      "outputs": [
        {
          "output_type": "display_data",
          "data": {
            "image/png": "[encoded data removed]",
            "text/plain": [
              "<Figure size 432x288 with 1 Axes>"
            ]
          },
          "metadata": {
            "needs_background": "light"
          }
        }
      ]
    },
    {
      "cell_type": "markdown",
      "metadata": {
        "id": "qgMUwBO7oIDq"
      },
      "source": [
        "## Overall"
      ]
    },
    {
      "cell_type": "code",
      "metadata": {
        "colab": {
          "base_uri": "https://localhost:8080/",
          "height": 313
        },
        "id": "FumA2zXliMXo",
        "outputId": "39b9c591-5e02-4c98-fd36-12c2c77400e8"
      },
      "source": [
        "# posteriors\n",
        "Ypred0 = ppc(posterior0['alpha'],posterior0['beta'],posterior0['sigma_n'],Xn0,  nsamples=200)\n",
        "Ypred1 = ppc(posterior1['alpha'],posterior1['beta'],posterior1['sigma_n'],Xn1,  nsamples=200)\n",
        "Ypred2 = ppc(posterior2['alpha'],posterior2['beta'],posterior2['sigma_n'],Xn2,  nsamples=200)\n",
        "Ypred3 = ppc(posterior3['alpha'],posterior3['beta'],posterior3['sigma_n'],Xn3,  nsamples=200)\n",
        "Ypred4 = ppc(posterior4['alpha'],posterior4['beta'],posterior4['sigma_n'],Xn4,  nsamples=200)\n",
        "\n",
        "# simulation\n",
        "Ypred = np.hstack([ yscaler0.inverse_transform(Ypred0),\n",
        "                 yscaler1.inverse_transform(Ypred1),\n",
        "                 yscaler2.inverse_transform(Ypred2),\n",
        "                 yscaler3.inverse_transform(Ypred3),\n",
        "                 yscaler4.inverse_transform(Ypred4)])\n",
        "\n",
        "# prediction\n",
        "for i in range(Ypred.shape[0]):\n",
        "    az.plot_dist( Ypred[i,:],color='r',plot_kwargs={\"linewidth\": 0.2})\n",
        "\n",
        "# plot\n",
        "az.plot_dist(Ypred[i,:],color='r',plot_kwargs={\"linewidth\": 0.2}, label=\"prediction\")\n",
        "ylog=np.vstack([ylog0,ylog1,ylog2,ylog3, ylog4])\n",
        "az.plot_dist(ylog,label='true observations');\n",
        "plt.legend()\n",
        "plt.xlabel(\"log(y) - output variable\")\n",
        "plt.ylabel(\"density plot\");"
      ],
      "execution_count": 79,
      "outputs": [
        {
          "output_type": "display_data",
          "data": {
            "image/png": "[encoded data removed]",
            "text/plain": [
              "<Figure size 432x288 with 1 Axes>"
            ]
          },
          "metadata": {
            "needs_background": "light"
          }
        }
      ]
    },
    {
      "cell_type": "markdown",
      "metadata": {
        "id": "QMY9rDvVoIDq"
      },
      "source": [
        "## Test set performance"
      ]
    },
    {
      "cell_type": "code",
      "metadata": {
        "colab": {
          "base_uri": "https://localhost:8080/",
          "height": 317
        },
        "id": "q5Ltb59ak1pe",
        "outputId": "a52113f9-0b46-4254-9297-10bd128948ee"
      },
      "source": [
        "# cluster 0\n",
        "y_pred_BLR0 = np.exp(yscaler0.inverse_transform(np.mean(posterior0['alpha']) \n",
        "              + np.dot(np.mean(posterior0['beta'],axis=0), Xtestn0.T)))\n",
        "print(\"Size Cluster0\", np.sum(clusters_test==0), \", MAE Cluster0=\",\n",
        "      (np.mean(abs(y_pred_BLR0 - y_test[clusters_test==0]))))\n",
        "\n",
        "# cluster 1\n",
        "y_pred_BLR1 = np.exp(yscaler1.inverse_transform(np.mean(posterior1['alpha']) \n",
        "              + np.dot(np.mean(posterior1['beta'],axis=0), Xtestn1.T)))\n",
        "print(\"Size Cluster1\", np.sum(clusters_test==1), \", MAE Cluster1=\",\n",
        "      (np.mean(abs(y_pred_BLR1 - y_test[clusters_test==1]))))\n",
        "\n",
        "# cluster 2\n",
        "y_pred_BLR2 = np.exp(yscaler2.inverse_transform(np.mean(posterior2['alpha']) \n",
        "              + np.dot(np.mean(posterior2['beta'],axis=0), Xtestn2.T)))\n",
        "print(\"Size Cluster2\", np.sum(clusters_test==2), \", MAE Cluster2=\",\n",
        "      (np.mean(abs(y_pred_BLR2 - y_test[clusters_test==2]))))\n",
        "\n",
        "# cluster 3\n",
        "y_pred_BLR3 = np.exp(yscaler3.inverse_transform(np.mean(posterior3['alpha']) \n",
        "              + np.dot(np.mean(posterior3['beta'],axis=0), Xtestn3.T)))\n",
        "print(\"Size Cluster3\", np.sum(clusters_test==3), \", MAE Cluster3=\",\n",
        "      (np.mean(abs(y_pred_BLR3 - y_test[clusters_test==3]))))\n",
        "\n",
        "# cluster 4\n",
        "y_pred_BLR3 = np.exp(yscaler4.inverse_transform(np.mean(posterior4['alpha']) \n",
        "              + np.dot(np.mean(posterior4['beta'],axis=0), Xtestn4.T)))\n",
        "print(\"Size Cluster4\", np.sum(clusters_test==4), \", MAE Cluster4=\",\n",
        "      (np.mean(abs(y_pred_BLR3 - y_test[clusters_test==4]))))\n",
        "\n",
        "# joint\n",
        "joint=np.hstack([abs(y_pred_BLR0 - y_test[clusters_test==0]),\n",
        "                 abs(y_pred_BLR1 - y_test[clusters_test==1]),\n",
        "                 abs(y_pred_BLR2 - y_test[clusters_test==2]),\n",
        "                 abs(y_pred_BLR3 - y_test[clusters_test==3]),\n",
        "                 abs(y_pred_BLR3 - y_test[clusters_test==4])])\n",
        "\n",
        "\n",
        "# MAE\n",
        "print(\"MAE=\",np.mean(joint))"
      ],
      "execution_count": 84,
      "outputs": [
        {
          "output_type": "stream",
          "name": "stdout",
          "text": [
            "Size Cluster0 207 , MAE Cluster0= 151962.40544755882\n",
            "Size Cluster1 37 , MAE Cluster1= 141409.97001035314\n",
            "Size Cluster2 43 , MAE Cluster2= 109403.7565410962\n",
            "Size Cluster3 43 , MAE Cluster3= 62945.69106633704\n",
            "Size Cluster4 77 , MAE Cluster4= 712423.4190526634\n"
          ]
        },
        {
          "output_type": "error",
          "ename": "ValueError",
          "evalue": "ignored",
          "traceback": [
            "\u001b[0;31m---------------------------------------------------------------------------\u001b[0m",
            "\u001b[0;31mValueError\u001b[0m                                Traceback (most recent call last)",
            "\u001b[0;32m<ipython-input-84-8c3d8c4cc987>\u001b[0m in \u001b[0;36m<module>\u001b[0;34m()\u001b[0m\n\u001b[1;32m     33\u001b[0m                  \u001b[0mabs\u001b[0m\u001b[0;34m(\u001b[0m\u001b[0my_pred_BLR1\u001b[0m \u001b[0;34m-\u001b[0m \u001b[0my_test\u001b[0m\u001b[0;34m[\u001b[0m\u001b[0mclusters_test\u001b[0m\u001b[0;34m==\u001b[0m\u001b[0;36m1\u001b[0m\u001b[0;34m]\u001b[0m\u001b[0;34m)\u001b[0m\u001b[0;34m,\u001b[0m\u001b[0;34m\u001b[0m\u001b[0;34m\u001b[0m\u001b[0m\n\u001b[1;32m     34\u001b[0m                  \u001b[0mabs\u001b[0m\u001b[0;34m(\u001b[0m\u001b[0my_pred_BLR2\u001b[0m \u001b[0;34m-\u001b[0m \u001b[0my_test\u001b[0m\u001b[0;34m[\u001b[0m\u001b[0mclusters_test\u001b[0m\u001b[0;34m==\u001b[0m\u001b[0;36m2\u001b[0m\u001b[0;34m]\u001b[0m\u001b[0;34m)\u001b[0m\u001b[0;34m,\u001b[0m\u001b[0;34m\u001b[0m\u001b[0;34m\u001b[0m\u001b[0m\n\u001b[0;32m---> 35\u001b[0;31m                  \u001b[0mabs\u001b[0m\u001b[0;34m(\u001b[0m\u001b[0my_pred_BLR3\u001b[0m \u001b[0;34m-\u001b[0m \u001b[0my_test\u001b[0m\u001b[0;34m[\u001b[0m\u001b[0mclusters_test\u001b[0m\u001b[0;34m==\u001b[0m\u001b[0;36m3\u001b[0m\u001b[0;34m]\u001b[0m\u001b[0;34m)\u001b[0m\u001b[0;34m,\u001b[0m\u001b[0;34m\u001b[0m\u001b[0;34m\u001b[0m\u001b[0m\n\u001b[0m\u001b[1;32m     36\u001b[0m                  abs(y_pred_BLR3 - y_test[clusters_test==4])])\n\u001b[1;32m     37\u001b[0m \u001b[0;34m\u001b[0m\u001b[0m\n",
            "\u001b[0;31mValueError\u001b[0m: operands could not be broadcast together with shapes (77,) (43,) "
          ]
        }
      ]
    },
    {
      "cell_type": "markdown",
      "metadata": {
        "id": "YGmB9BNkoIDr"
      },
      "source": [
        "### PPC on the Test set\n",
        "\n"
      ]
    },
    {
      "cell_type": "markdown",
      "metadata": {
        "id": "f0GYCpwEM09T"
      },
      "source": [
        "# SUMMARY"
      ]
    }
  ]
}